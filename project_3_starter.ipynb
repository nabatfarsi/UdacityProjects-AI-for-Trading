{
 "cells": [
  {
   "cell_type": "markdown",
   "metadata": {},
   "source": [
    "# Project 3: Smart Beta Portfolio and Portfolio Optimization\n",
    "\n",
    "## Overview\n",
    "\n",
    "\n",
    "Smart beta has a broad meaning, but we can say in practice that when we use the universe of stocks from an index, and then apply some weighting scheme other than market cap weighting, it can be considered a type of smart beta fund.  A Smart Beta portfolio generally gives investors exposure or \"beta\" to one or more types of market characteristics (or factors) that are believed to predict prices while giving investors a diversified broad exposure to a particular market. Smart Beta portfolios generally target momentum, earnings quality, low volatility, and dividends or some combination. Smart Beta Portfolios are generally rebalanced infrequently and follow relatively simple rules or algorithms that are passively managed.  Model changes to these types of funds are also rare requiring prospectus filings with US Security and Exchange Commission in the case of US focused mutual funds or ETFs.. Smart Beta portfolios are generally long-only, they do not short stocks.\n",
    "\n",
    "In contrast, a purely alpha-focused quantitative fund may use multiple models or algorithms to create a portfolio. The portfolio manager retains discretion in upgrading or changing the types of models and how often to rebalance the portfolio in attempt to maximize performance in comparison to a stock benchmark.  Managers may have discretion to short stocks in portfolios.\n",
    "\n",
    "Imagine you're a portfolio manager, and wish to try out some different portfolio weighting methods.\n",
    "\n",
    "One way to design portfolio is to look at certain accounting measures (fundamentals) that, based on past trends, indicate stocks that produce better results.  \n",
    "\n",
    "\n",
    "For instance, you may start with a hypothesis that dividend-issuing stocks tend to perform better than stocks that do not. This may not always be true of all companies; for instance, Apple does not issue dividends, but has had good historical performance.  The hypothesis about dividend-paying stocks may go something like this: \n",
    "\n",
    "Companies that regularly issue dividends may also be more prudent in allocating their available cash, and may indicate that they are more conscious of prioritizing shareholder interests.  For example, a CEO may decide to reinvest cash into pet projects that produce low returns.  Or, the CEO may do some analysis, identify that reinvesting within the company produces lower returns compared to a diversified portfolio, and so decide that shareholders would be better served if they were given the cash (in the form of dividends).  So according to this hypothesis, dividends may be both a proxy for how the company is doing (in terms of earnings and cash flow), but also a signal that the company acts in the best interest of its shareholders.  Of course, it's important to test whether this works in practice.\n",
    "\n",
    "\n",
    "You may also have another hypothesis, with which you wish to design a portfolio that can then be made into an ETF.  You may find that investors may wish to invest in passive beta funds, but wish to have less risk exposure (less volatility) in their investments.  The goal of having a low volatility fund that still produces returns similar to an index may be appealing to investors who have a shorter investment time horizon, and so are more risk averse.\n",
    "\n",
    "So the objective of your proposed portfolio is to design a portfolio that closely tracks an index, while also minimizing the portfolio variance.  Also, if this portfolio can match the returns of the index with less volatility, then it has a higher risk-adjusted return (same return, lower volatility).\n",
    "\n",
    "Smart Beta ETFs can be designed with both of these two general methods (among others): alternative weighting and minimum volatility ETF.\n",
    "\n",
    "\n",
    "## Instructions\n",
    "Each problem consists of a function to implement and instructions on how to implement the function.  The parts of the function that need to be implemented are marked with a `# TODO` comment. After implementing the function, run the cell to test it against the unit tests we've provided. For each problem, we provide one or more unit tests from our `project_tests` package. These unit tests won't tell you if your answer is correct, but will warn you of any major errors. Your code will be checked for the correct solution when you submit it to Udacity.\n",
    "\n",
    "## Packages\n",
    "When you implement the functions, you'll only need to you use the packages you've used in the classroom, like [Pandas](https://pandas.pydata.org/) and [Numpy](http://www.numpy.org/). These packages will be imported for you. We recommend you don't add any import statements, otherwise the grader might not be able to run your code.\n",
    "\n",
    "The other packages that we're importing are `helper`, `project_helper`, and `project_tests`. These are custom packages built to help you solve the problems.  The `helper` and `project_helper` module contains utility functions and graph functions. The `project_tests` contains the unit tests for all the problems.\n",
    "### Install Packages"
   ]
  },
  {
   "cell_type": "code",
   "execution_count": 4,
   "metadata": {},
   "outputs": [
    {
     "name": "stdout",
     "output_type": "stream",
     "text": [
      "Requirement already satisfied: colour==0.1.5 in /opt/conda/lib/python3.6/site-packages (from -r requirements.txt (line 1)) (0.1.5)\n",
      "Collecting cvxpy==1.0.3 (from -r requirements.txt (line 2))\n",
      "\u001b[?25l  Downloading https://files.pythonhosted.org/packages/a1/59/2613468ffbbe3a818934d06b81b9f4877fe054afbf4f99d2f43f398a0b34/cvxpy-1.0.3.tar.gz (880kB)\n",
      "\u001b[K    100% |████████████████████████████████| 880kB 7.6MB/s ta 0:00:011   18% |██████                          | 163kB 7.5MB/s eta 0:00:01\n",
      "\u001b[?25hRequirement already satisfied: cycler==0.10.0 in /opt/conda/lib/python3.6/site-packages/cycler-0.10.0-py3.6.egg (from -r requirements.txt (line 3)) (0.10.0)\n",
      "Collecting numpy==1.14.5 (from -r requirements.txt (line 4))\n",
      "\u001b[?25l  Downloading https://files.pythonhosted.org/packages/68/1e/116ad560de97694e2d0c1843a7a0075cc9f49e922454d32f49a80eb6f1f2/numpy-1.14.5-cp36-cp36m-manylinux1_x86_64.whl (12.2MB)\n",
      "\u001b[K    100% |████████████████████████████████| 12.2MB 2.1MB/s eta 0:00:01  2% |▊                               | 266kB 12.1MB/s eta 0:00:01    85% |███████████████████████████▌    | 10.5MB 31.4MB/s eta 0:00:01\n",
      "\u001b[?25hCollecting pandas==0.21.1 (from -r requirements.txt (line 5))\n",
      "\u001b[?25l  Downloading https://files.pythonhosted.org/packages/3a/e1/6c514df670b887c77838ab856f57783c07e8760f2e3d5939203a39735e0e/pandas-0.21.1-cp36-cp36m-manylinux1_x86_64.whl (26.2MB)\n",
      "\u001b[K    100% |████████████████████████████████| 26.2MB 1.0MB/s eta 0:00:01   15% |████▉                           | 4.0MB 33.7MB/s eta 0:00:01    31% |██████████▎                     | 8.4MB 29.0MB/s eta 0:00:01    43% |██████████████                  | 11.4MB 28.7MB/s eta 0:00:01    59% |███████████████████▏            | 15.7MB 27.0MB/s eta 0:00:01    82% |██████████████████████████▍     | 21.7MB 24.9MB/s eta 0:00:01\n",
      "\u001b[?25hCollecting plotly==2.2.3 (from -r requirements.txt (line 6))\n",
      "\u001b[?25l  Downloading https://files.pythonhosted.org/packages/99/a6/8214b6564bf4ace9bec8a26e7f89832792be582c042c47c912d3201328a0/plotly-2.2.3.tar.gz (1.1MB)\n",
      "\u001b[K    100% |████████████████████████████████| 1.1MB 16.1MB/s ta 0:00:01\n",
      "\u001b[?25hRequirement already satisfied: pyparsing==2.2.0 in /opt/conda/lib/python3.6/site-packages (from -r requirements.txt (line 7)) (2.2.0)\n",
      "Requirement already satisfied: python-dateutil==2.6.1 in /opt/conda/lib/python3.6/site-packages (from -r requirements.txt (line 8)) (2.6.1)\n",
      "Requirement already satisfied: pytz==2017.3 in /opt/conda/lib/python3.6/site-packages (from -r requirements.txt (line 9)) (2017.3)\n",
      "Requirement already satisfied: requests==2.18.4 in /opt/conda/lib/python3.6/site-packages (from -r requirements.txt (line 10)) (2.18.4)\n",
      "Collecting scipy==1.0.0 (from -r requirements.txt (line 11))\n",
      "\u001b[?25l  Downloading https://files.pythonhosted.org/packages/d8/5e/caa01ba7be11600b6a9d39265440d7b3be3d69206da887c42bef049521f2/scipy-1.0.0-cp36-cp36m-manylinux1_x86_64.whl (50.0MB)\n",
      "\u001b[K    100% |████████████████████████████████| 50.0MB 587kB/s eta 0:00:01  5% |█▉                              | 2.9MB 28.5MB/s eta 0:00:02    11% |███▌                            | 5.6MB 27.2MB/s eta 0:00:02    18% |██████                          | 9.2MB 22.0MB/s eta 0:00:02    38% |████████████▏                   | 19.1MB 22.9MB/s eta 0:00:02    45% |██████████████▍                 | 22.6MB 23.9MB/s eta 0:00:02    47% |███████████████▏                | 23.7MB 24.1MB/s eta 0:00:02    49% |███████████████▉                | 24.8MB 23.8MB/s eta 0:00:02    53% |█████████████████▎              | 27.0MB 24.3MB/s eta 0:00:01    66% |█████████████████████▍          | 33.4MB 23.7MB/s eta 0:00:01    71% |██████████████████████▊         | 35.5MB 21.6MB/s eta 0:00:01    75% |████████████████████████▏       | 37.7MB 24.7MB/s eta 0:00:01    79% |█████████████████████████▌      | 39.9MB 20.4MB/s eta 0:00:01    87% |████████████████████████████▏   | 44.0MB 19.4MB/s eta 0:00:01    90% |████████████████████████████▉   | 45.0MB 23.8MB/s eta 0:00:01    98% |███████████████████████████████▌| 49.3MB 22.7MB/s eta 0:00:01\n",
      "\u001b[?25hRequirement already satisfied: scikit-learn==0.19.1 in /opt/conda/lib/python3.6/site-packages (from -r requirements.txt (line 12)) (0.19.1)\n",
      "Requirement already satisfied: six==1.11.0 in /opt/conda/lib/python3.6/site-packages (from -r requirements.txt (line 13)) (1.11.0)\n",
      "Collecting tqdm==4.19.5 (from -r requirements.txt (line 14))\n",
      "\u001b[?25l  Downloading https://files.pythonhosted.org/packages/71/3c/341b4fa23cb3abc335207dba057c790f3bb329f6757e1fcd5d347bcf8308/tqdm-4.19.5-py2.py3-none-any.whl (51kB)\n",
      "\u001b[K    100% |████████████████████████████████| 61kB 11.3MB/s ta 0:00:01\n",
      "\u001b[?25hCollecting osqp (from cvxpy==1.0.3->-r requirements.txt (line 2))\n",
      "\u001b[?25l  Downloading https://files.pythonhosted.org/packages/6c/59/2b80e881be227eecef3f2b257339d182167b55d22a1315ff4303ddcfd42f/osqp-0.6.1-cp36-cp36m-manylinux1_x86_64.whl (208kB)\n",
      "\u001b[K    100% |████████████████████████████████| 215kB 17.4MB/s ta 0:00:01\n",
      "\u001b[?25hCollecting ecos>=2 (from cvxpy==1.0.3->-r requirements.txt (line 2))\n",
      "\u001b[?25l  Downloading https://files.pythonhosted.org/packages/55/ed/d131ff51f3a8f73420eb1191345eb49f269f23cadef515172e356018cde3/ecos-2.0.7.post1-cp36-cp36m-manylinux1_x86_64.whl (147kB)\n",
      "\u001b[K    100% |████████████████████████████████| 153kB 17.1MB/s ta 0:00:01\n",
      "\u001b[?25hCollecting scs>=1.1.3 (from cvxpy==1.0.3->-r requirements.txt (line 2))\n",
      "\u001b[?25l  Downloading https://files.pythonhosted.org/packages/1a/72/33be87cce255d4e9dbbfef547e9fd6ec7ee94d0d0910bb2b13badea3fbbe/scs-2.1.2.tar.gz (3.5MB)\n",
      "\u001b[K    100% |████████████████████████████████| 3.6MB 9.4MB/s eta 0:00:01    22% |███████▏                        | 788kB 22.0MB/s eta 0:00:01    52% |████████████████▋               | 1.8MB 20.8MB/s eta 0:00:01\n",
      "\u001b[?25hCollecting multiprocess (from cvxpy==1.0.3->-r requirements.txt (line 2))\n",
      "\u001b[?25l  Downloading https://files.pythonhosted.org/packages/58/17/5151b6ac2ac9b6276d46c33369ff814b0901872b2a0871771252f02e9192/multiprocess-0.70.9.tar.gz (1.6MB)\n",
      "\u001b[K    100% |████████████████████████████████| 1.6MB 10.8MB/s ta 0:00:01   9% |███▏                            | 153kB 21.0MB/s eta 0:00:01\n",
      "\u001b[?25hRequirement already satisfied: fastcache in /opt/conda/lib/python3.6/site-packages (from cvxpy==1.0.3->-r requirements.txt (line 2)) (1.0.2)\n",
      "Requirement already satisfied: toolz in /opt/conda/lib/python3.6/site-packages (from cvxpy==1.0.3->-r requirements.txt (line 2)) (0.8.2)\n",
      "Requirement already satisfied: decorator>=4.0.6 in /opt/conda/lib/python3.6/site-packages (from plotly==2.2.3->-r requirements.txt (line 6)) (4.0.11)\n",
      "Requirement already satisfied: nbformat>=4.2 in /opt/conda/lib/python3.6/site-packages (from plotly==2.2.3->-r requirements.txt (line 6)) (4.4.0)\n",
      "Requirement already satisfied: chardet<3.1.0,>=3.0.2 in /opt/conda/lib/python3.6/site-packages (from requests==2.18.4->-r requirements.txt (line 10)) (3.0.4)\n",
      "Requirement already satisfied: idna<2.7,>=2.5 in /opt/conda/lib/python3.6/site-packages (from requests==2.18.4->-r requirements.txt (line 10)) (2.6)\n",
      "Requirement already satisfied: urllib3<1.23,>=1.21.1 in /opt/conda/lib/python3.6/site-packages (from requests==2.18.4->-r requirements.txt (line 10)) (1.22)\n",
      "Requirement already satisfied: certifi>=2017.4.17 in /opt/conda/lib/python3.6/site-packages (from requests==2.18.4->-r requirements.txt (line 10)) (2019.11.28)\n",
      "Requirement already satisfied: future in /opt/conda/lib/python3.6/site-packages (from osqp->cvxpy==1.0.3->-r requirements.txt (line 2)) (0.16.0)\n",
      "Collecting dill>=0.3.1 (from multiprocess->cvxpy==1.0.3->-r requirements.txt (line 2))\n",
      "\u001b[?25l  Downloading https://files.pythonhosted.org/packages/c7/11/345f3173809cea7f1a193bfbf02403fff250a3360e0e118a1630985e547d/dill-0.3.1.1.tar.gz (151kB)\n",
      "\u001b[K    100% |████████████████████████████████| 153kB 17.9MB/s ta 0:00:01\n",
      "\u001b[?25hRequirement already satisfied: traitlets>=4.1 in /opt/conda/lib/python3.6/site-packages (from nbformat>=4.2->plotly==2.2.3->-r requirements.txt (line 6)) (4.3.2)\n",
      "Requirement already satisfied: jupyter-core in /opt/conda/lib/python3.6/site-packages (from nbformat>=4.2->plotly==2.2.3->-r requirements.txt (line 6)) (4.4.0)\n",
      "Requirement already satisfied: jsonschema!=2.5.0,>=2.4 in /opt/conda/lib/python3.6/site-packages (from nbformat>=4.2->plotly==2.2.3->-r requirements.txt (line 6)) (2.6.0)\n",
      "Requirement already satisfied: ipython-genutils in /opt/conda/lib/python3.6/site-packages (from nbformat>=4.2->plotly==2.2.3->-r requirements.txt (line 6)) (0.2.0)\n",
      "Building wheels for collected packages: cvxpy, plotly, scs, multiprocess, dill\n",
      "  Running setup.py bdist_wheel for cvxpy ... \u001b[?25ldone\n",
      "\u001b[?25h  Stored in directory: /root/.cache/pip/wheels/2b/60/0b/0c2596528665e21d698d6f84a3406c52044c7b4ca6ac737cf3\n",
      "  Running setup.py bdist_wheel for plotly ... \u001b[?25ldone\n",
      "\u001b[?25h  Stored in directory: /root/.cache/pip/wheels/98/54/81/dd92d5b0858fac680cd7bdb8800eb26c001dd9f5dc8b1bc0ba\n",
      "  Running setup.py bdist_wheel for scs ... \u001b[?25ldone\n",
      "\u001b[?25h  Stored in directory: /root/.cache/pip/wheels/df/d0/79/37ea880586da03c620ca9ecd5e42adbd86bc6ea84363965c5f\n",
      "  Running setup.py bdist_wheel for multiprocess ... \u001b[?25ldone\n",
      "\u001b[?25h  Stored in directory: /root/.cache/pip/wheels/96/20/ac/9f1d164f7d81787cd6f4401b1d05212807d021fbbbcc301b82\n",
      "  Running setup.py bdist_wheel for dill ... \u001b[?25ldone\n",
      "\u001b[?25h  Stored in directory: /root/.cache/pip/wheels/59/b1/91/f02e76c732915c4015ab4010f3015469866c1eb9b14058d8e7\n",
      "Successfully built cvxpy plotly scs multiprocess dill\n",
      "\u001b[31mtensorflow 1.3.0 requires tensorflow-tensorboard<0.2.0,>=0.1.0, which is not installed.\u001b[0m\n",
      "\u001b[31mmoviepy 0.2.3.2 has requirement tqdm==4.11.2, but you'll have tqdm 4.19.5 which is incompatible.\u001b[0m\n",
      "Installing collected packages: numpy, scipy, osqp, ecos, scs, dill, multiprocess, cvxpy, pandas, plotly, tqdm\n",
      "  Found existing installation: numpy 1.12.1\n",
      "    Uninstalling numpy-1.12.1:\n",
      "      Successfully uninstalled numpy-1.12.1\n",
      "  Found existing installation: scipy 1.2.1\n",
      "    Uninstalling scipy-1.2.1:\n",
      "      Successfully uninstalled scipy-1.2.1\n",
      "  Found existing installation: dill 0.2.7.1\n",
      "    Uninstalling dill-0.2.7.1:\n",
      "      Successfully uninstalled dill-0.2.7.1\n",
      "  Found existing installation: pandas 0.23.3\n",
      "    Uninstalling pandas-0.23.3:\n",
      "      Successfully uninstalled pandas-0.23.3\n",
      "  Found existing installation: plotly 2.0.15\n",
      "    Uninstalling plotly-2.0.15:\n",
      "      Successfully uninstalled plotly-2.0.15\n",
      "  Found existing installation: tqdm 4.11.2\n",
      "    Uninstalling tqdm-4.11.2:\n",
      "      Successfully uninstalled tqdm-4.11.2\n",
      "Successfully installed cvxpy-1.0.3 dill-0.3.1.1 ecos-2.0.7.post1 multiprocess-0.70.9 numpy-1.14.5 osqp-0.6.1 pandas-0.21.1 plotly-2.2.3 scipy-1.0.0 scs-2.1.2 tqdm-4.19.5\n"
     ]
    }
   ],
   "source": [
    "import sys\n",
    "!{sys.executable} -m pip install -r requirements.txt"
   ]
  },
  {
   "cell_type": "markdown",
   "metadata": {},
   "source": [
    "### Load Packages"
   ]
  },
  {
   "cell_type": "code",
   "execution_count": 1,
   "metadata": {},
   "outputs": [
    {
     "data": {
      "text/html": [
       "<script>requirejs.config({paths: { 'plotly': ['https://cdn.plot.ly/plotly-latest.min']},});if(!window.Plotly) {{require(['plotly'],function(plotly) {window.Plotly=plotly;});}}</script>"
      ]
     },
     "metadata": {},
     "output_type": "execute_result"
    }
   ],
   "source": [
    "import pandas as pd\n",
    "import numpy as np\n",
    "import helper\n",
    "import project_helper\n",
    "import project_tests"
   ]
  },
  {
   "cell_type": "markdown",
   "metadata": {},
   "source": [
    "## Market Data\n",
    "### Load Data\n",
    "For this universe of stocks, we'll be selecting large dollar volume stocks. We're using this universe, since it is highly liquid."
   ]
  },
  {
   "cell_type": "code",
   "execution_count": 36,
   "metadata": {},
   "outputs": [
    {
     "data": {
      "text/html": [
       "<div>\n",
       "<style scoped>\n",
       "    .dataframe tbody tr th:only-of-type {\n",
       "        vertical-align: middle;\n",
       "    }\n",
       "\n",
       "    .dataframe tbody tr th {\n",
       "        vertical-align: top;\n",
       "    }\n",
       "\n",
       "    .dataframe thead th {\n",
       "        text-align: right;\n",
       "    }\n",
       "</style>\n",
       "<table border=\"1\" class=\"dataframe\">\n",
       "  <thead>\n",
       "    <tr style=\"text-align: right;\">\n",
       "      <th></th>\n",
       "      <th>date</th>\n",
       "      <th>ticker</th>\n",
       "      <th>adj_close</th>\n",
       "      <th>adj_volume</th>\n",
       "      <th>dividends</th>\n",
       "    </tr>\n",
       "  </thead>\n",
       "  <tbody>\n",
       "    <tr>\n",
       "      <th>1009</th>\n",
       "      <td>2013-07-01</td>\n",
       "      <td>AAL</td>\n",
       "      <td>16.17609308</td>\n",
       "      <td>12511796.00000000</td>\n",
       "      <td>0.00000000</td>\n",
       "    </tr>\n",
       "    <tr>\n",
       "      <th>1010</th>\n",
       "      <td>2013-07-02</td>\n",
       "      <td>AAL</td>\n",
       "      <td>15.81983388</td>\n",
       "      <td>10748794.00000000</td>\n",
       "      <td>0.00000000</td>\n",
       "    </tr>\n",
       "    <tr>\n",
       "      <th>1011</th>\n",
       "      <td>2013-07-03</td>\n",
       "      <td>AAL</td>\n",
       "      <td>16.12794994</td>\n",
       "      <td>7039678.00000000</td>\n",
       "      <td>0.00000000</td>\n",
       "    </tr>\n",
       "    <tr>\n",
       "      <th>1012</th>\n",
       "      <td>2013-07-05</td>\n",
       "      <td>AAL</td>\n",
       "      <td>16.21460758</td>\n",
       "      <td>6426810.00000000</td>\n",
       "      <td>0.00000000</td>\n",
       "    </tr>\n",
       "    <tr>\n",
       "      <th>1013</th>\n",
       "      <td>2013-07-08</td>\n",
       "      <td>AAL</td>\n",
       "      <td>16.31089385</td>\n",
       "      <td>7161394.00000000</td>\n",
       "      <td>0.00000000</td>\n",
       "    </tr>\n",
       "  </tbody>\n",
       "</table>\n",
       "</div>"
      ],
      "text/plain": [
       "            date ticker   adj_close        adj_volume  dividends\n",
       "1009  2013-07-01    AAL 16.17609308 12511796.00000000 0.00000000\n",
       "1010  2013-07-02    AAL 15.81983388 10748794.00000000 0.00000000\n",
       "1011  2013-07-03    AAL 16.12794994  7039678.00000000 0.00000000\n",
       "1012  2013-07-05    AAL 16.21460758  6426810.00000000 0.00000000\n",
       "1013  2013-07-08    AAL 16.31089385  7161394.00000000 0.00000000"
      ]
     },
     "execution_count": 36,
     "metadata": {},
     "output_type": "execute_result"
    }
   ],
   "source": [
    "df.head()"
   ]
  },
  {
   "cell_type": "code",
   "execution_count": 32,
   "metadata": {},
   "outputs": [],
   "source": [
    "df = pd.read_csv('../../data/project_3/eod-quotemedia.csv')\n",
    "\n",
    "percent_top_dollar = 0.2\n",
    "high_volume_symbols = project_helper.large_dollar_volume_stocks(df, 'adj_close', 'adj_volume', percent_top_dollar)\n",
    "df = df[df['ticker'].isin(high_volume_symbols)]\n",
    "\n",
    "close = df.reset_index().pivot(index='date', columns='ticker', values='adj_close')\n",
    "volume = df.reset_index().pivot(index='date', columns='ticker', values='adj_volume')\n",
    "dividends = df.reset_index().pivot(index='date', columns='ticker', values='dividends')"
   ]
  },
  {
   "cell_type": "markdown",
   "metadata": {},
   "source": [
    "### View Data\n",
    "To see what one of these 2-d matrices looks like, let's take a look at the closing prices matrix."
   ]
  },
  {
   "cell_type": "code",
   "execution_count": 6,
   "metadata": {},
   "outputs": [
    {
     "data": {
      "text/html": [
       "<div id=\"d391c022-312e-4cc0-b006-b6dae28f167f\" style=\"height: 525px; width: 100%;\" class=\"plotly-graph-div\"></div><script type=\"text/javascript\">require([\"plotly\"], function(Plotly) { window.PLOTLYENV=window.PLOTLYENV || {};window.PLOTLYENV.BASE_URL=\"https://plot.ly\";Plotly.newPlot(\"d391c022-312e-4cc0-b006-b6dae28f167f\", [{\"type\": \"table\", \"columnwidth\": [1, 3], \"header\": {\"values\": [\"\", \"AAL\", \"AAPL\", \"ABBV\", \"...\"], \"line\": {\"color\": \"silver\"}, \"fill\": {\"color\": \"silver\"}, \"font\": {\"size\": 13}}, \"cells\": {\"values\": [[\"2013-07-01\", \"2013-07-02\", \"2013-07-03\", \"2013-07-05\", \"2013-07-08\", \"2013-07-09\", \"2013-07-10\", \"2013-07-11\", \"2013-07-12\", \"2013-07-15\", \"...\"], [\"16.176\", \"15.820\", \"16.128\", \"16.215\", \"16.311\", \"16.715\", \"16.532\", \"16.725\", \"16.908\", \"17.100\", \"...\"], [\"53.109\", \"54.312\", \"54.612\", \"54.173\", \"53.866\", \"54.813\", \"54.603\", \"55.454\", \"55.353\", \"55.474\", \"...\"], [\"34.924\", \"35.428\", \"35.445\", \"35.856\", \"36.662\", \"36.360\", \"36.855\", \"37.082\", \"38.157\", \"37.793\", \"...\"], [\"...\", \"...\", \"...\", \"...\", \"...\", \"...\", \"...\", \"...\", \"...\", \"...\", \"...\"]], \"line\": {\"color\": \"silver\"}, \"fill\": {\"color\": [\"silver\", \"white\"]}, \"font\": {\"size\": 13}}}], {}, {\"showLink\": false, \"linkText\": \"Export to plot.ly\", \"displayModeBar\": false})});</script>"
      ]
     },
     "metadata": {},
     "output_type": "execute_result"
    }
   ],
   "source": [
    "project_helper.print_dataframe(close)"
   ]
  },
  {
   "cell_type": "markdown",
   "metadata": {},
   "source": [
    "# Part 1: Smart Beta Portfolio\n",
    "In Part 1 of this project, you'll build a portfolio using dividend yield to choose the portfolio weights. A portfolio such as this could be incorporated into a smart beta ETF.  You'll compare this portfolio to a market cap weighted index to see how well it performs. \n",
    "\n",
    "Note that in practice, you'll probably get the index weights from a data vendor (such as companies that create indices, like MSCI, FTSE, Standard and Poor's), but for this exercise we will simulate a market cap weighted index.\n",
    "\n",
    "## Index Weights\n",
    "The index we'll be using is based on large dollar volume stocks. Implement `generate_dollar_volume_weights` to generate the weights for this index. For each date, generate the weights based on dollar volume traded for that date. For example, assume the following is close prices and volume data:\n",
    "```\n",
    "                 Prices\n",
    "               A         B         ...\n",
    "2013-07-08     2         2         ...\n",
    "2013-07-09     5         6         ...\n",
    "2013-07-10     1         2         ...\n",
    "2013-07-11     6         5         ...\n",
    "...            ...       ...       ...\n",
    "\n",
    "                 Volume\n",
    "               A         B         ...\n",
    "2013-07-08     100       340       ...\n",
    "2013-07-09     240       220       ...\n",
    "2013-07-10     120       500       ...\n",
    "2013-07-11     10        100       ...\n",
    "...            ...       ...       ...\n",
    "```\n",
    "The weights created from the function `generate_dollar_volume_weights` should be the following:\n",
    "```\n",
    "               A         B         ...\n",
    "2013-07-08     0.126..   0.194..   ...\n",
    "2013-07-09     0.759..   0.377..   ...\n",
    "2013-07-10     0.075..   0.285..   ...\n",
    "2013-07-11     0.037..   0.142..   ...\n",
    "...            ...       ...       ...\n",
    "```"
   ]
  },
  {
   "cell_type": "code",
   "execution_count": 8,
   "metadata": {},
   "outputs": [
    {
     "name": "stdout",
     "output_type": "stream",
     "text": [
      "Tests Passed\n"
     ]
    }
   ],
   "source": [
    "def generate_dollar_volume_weights(close, volume):\n",
    "    \"\"\"\n",
    "    Generate dollar volume weights.\n",
    "\n",
    "    Parameters\n",
    "    ----------\n",
    "    close : DataFrame\n",
    "        Close price for each ticker and date\n",
    "    volume : str\n",
    "        Volume for each ticker and date\n",
    "\n",
    "    Returns\n",
    "    -------\n",
    "    dollar_volume_weights : DataFrame\n",
    "        The dollar volume weights for each ticker and date\n",
    "    \"\"\"\n",
    "    assert close.index.equals(volume.index)\n",
    "    assert close.columns.equals(volume.columns)\n",
    "    \n",
    "\n",
    "    #TODO: Implement function\n",
    "    dollar_volume = close * volume\n",
    "    total_dolar_volume_per_date=dollar_volume.sum(axis=1)\n",
    "    return dollar_volume.div(total_dolar_volume_per_date,axis=0)\n",
    "\n",
    "project_tests.test_generate_dollar_volume_weights(generate_dollar_volume_weights)"
   ]
  },
  {
   "cell_type": "markdown",
   "metadata": {},
   "source": [
    "### View Data\n",
    "Let's generate the index weights using `generate_dollar_volume_weights` and view them using a heatmap."
   ]
  },
  {
   "cell_type": "code",
   "execution_count": 9,
   "metadata": {},
   "outputs": [
    {
     "data": {
      "text/html": [
       "The graph for Index Weights is too large. You can view it <a href=\"graphs/IndexWeights.html\" target=\"_blank\">here</a>."
      ],
      "text/plain": [
       "<IPython.core.display.HTML object>"
      ]
     },
     "metadata": {},
     "output_type": "execute_result"
    }
   ],
   "source": [
    "index_weights = generate_dollar_volume_weights(close, volume)\n",
    "project_helper.plot_weights(index_weights, 'Index Weights')"
   ]
  },
  {
   "cell_type": "markdown",
   "metadata": {},
   "source": [
    "## Portfolio Weights\n",
    "Now that we have the index weights, let's choose the portfolio weights based on dividend. You would normally calculate the weights based on trailing dividend yield, but we'll simplify this by just calculating the total dividend yield over time.\n",
    "\n",
    "Implement `calculate_dividend_weights` to return the weights for each stock based on its total dividend yield over time. This is similar to generating the weight for the index, but it's using dividend data instead.\n",
    "For example, assume the following is `dividends` data:\n",
    "```\n",
    "                 Prices\n",
    "               A         B\n",
    "2013-07-08     0         0\n",
    "2013-07-09     0         1\n",
    "2013-07-10     0.5       0\n",
    "2013-07-11     0         0\n",
    "2013-07-12     2         0\n",
    "...            ...       ...\n",
    "```\n",
    "The weights created from the function `calculate_dividend_weights` should be the following:\n",
    "```\n",
    "               A         B\n",
    "2013-07-08     NaN       NaN\n",
    "2013-07-09     0         1\n",
    "2013-07-10     0.333..   0.666..\n",
    "2013-07-11     0.333..   0.666..\n",
    "2013-07-12     0.714..   0.285..\n",
    "...            ...       ...\n",
    "```"
   ]
  },
  {
   "cell_type": "code",
   "execution_count": 18,
   "metadata": {},
   "outputs": [
    {
     "name": "stdout",
     "output_type": "stream",
     "text": [
      "Tests Passed\n"
     ]
    }
   ],
   "source": [
    "def calculate_dividend_weights(dividends):\n",
    "    \"\"\"\n",
    "    Calculate dividend weights.\n",
    "\n",
    "    Parameters\n",
    "    ----------\n",
    "    dividends : DataFrame\n",
    "        Dividend for each stock and date\n",
    "\n",
    "    Returns\n",
    "    -------\n",
    "    dividend_weights : DataFrame\n",
    "        Weights for each stock and date\n",
    "    \"\"\"\n",
    "    #TODO: Implement function\n",
    "    cum_sum = dividends.cumsum()\n",
    "    cum_sum_all_stocks_at_a_date=cum_sum.sum(axis=1)\n",
    "    return cum_sum.div(cum_sum_all_stocks_at_a_date,axis=0)\n",
    "\n",
    "\n",
    "project_tests.test_calculate_dividend_weights(calculate_dividend_weights)"
   ]
  },
  {
   "cell_type": "markdown",
   "metadata": {},
   "source": [
    "### View Data\n",
    "Just like the index weights, let's generate the ETF weights and view them using a heatmap."
   ]
  },
  {
   "cell_type": "code",
   "execution_count": 19,
   "metadata": {},
   "outputs": [
    {
     "data": {
      "text/html": [
       "The graph for ETF Weights is too large. You can view it <a href=\"graphs/ETFWeights.html\" target=\"_blank\">here</a>."
      ],
      "text/plain": [
       "<IPython.core.display.HTML object>"
      ]
     },
     "metadata": {},
     "output_type": "execute_result"
    }
   ],
   "source": [
    "etf_weights = calculate_dividend_weights(dividends)\n",
    "project_helper.plot_weights(etf_weights, 'ETF Weights')"
   ]
  },
  {
   "cell_type": "markdown",
   "metadata": {},
   "source": [
    "## Returns\n",
    "Implement `generate_returns` to generate returns data for all the stocks and dates from price data. You might notice we're implementing returns and not log returns. Since we're not dealing with volatility, we don't have to use log returns."
   ]
  },
  {
   "cell_type": "code",
   "execution_count": 20,
   "metadata": {},
   "outputs": [
    {
     "name": "stdout",
     "output_type": "stream",
     "text": [
      "Tests Passed\n"
     ]
    }
   ],
   "source": [
    "def generate_returns(prices):\n",
    "    \"\"\"\n",
    "    Generate returns for ticker and date.\n",
    "\n",
    "    Parameters\n",
    "    ----------\n",
    "    prices : DataFrame\n",
    "        Price for each ticker and date\n",
    "\n",
    "    Returns\n",
    "    -------\n",
    "    returns : Dataframe\n",
    "        The returns for each ticker and date\n",
    "    \"\"\"\n",
    "    #TODO: Implement function\n",
    "\n",
    "    return prices / prices.shift(1)-1\n",
    "\n",
    "project_tests.test_generate_returns(generate_returns)"
   ]
  },
  {
   "cell_type": "markdown",
   "metadata": {},
   "source": [
    "### View Data\n",
    "Let's generate the closing returns using `generate_returns` and view them using a heatmap."
   ]
  },
  {
   "cell_type": "code",
   "execution_count": 21,
   "metadata": {},
   "outputs": [
    {
     "data": {
      "text/html": [
       "The graph for Close Returns is too large. You can view it <a href=\"graphs/CloseReturns.html\" target=\"_blank\">here</a>."
      ],
      "text/plain": [
       "<IPython.core.display.HTML object>"
      ]
     },
     "metadata": {},
     "output_type": "execute_result"
    }
   ],
   "source": [
    "returns = generate_returns(close)\n",
    "project_helper.plot_returns(returns, 'Close Returns')"
   ]
  },
  {
   "cell_type": "markdown",
   "metadata": {},
   "source": [
    "## Weighted Returns\n",
    "With the returns of each stock computed, we can use it to compute the returns for an index or ETF. Implement `generate_weighted_returns` to create weighted returns using the returns and weights."
   ]
  },
  {
   "cell_type": "code",
   "execution_count": 22,
   "metadata": {},
   "outputs": [
    {
     "name": "stdout",
     "output_type": "stream",
     "text": [
      "Tests Passed\n"
     ]
    }
   ],
   "source": [
    "def generate_weighted_returns(returns, weights):\n",
    "    \"\"\"\n",
    "    Generate weighted returns.\n",
    "\n",
    "    Parameters\n",
    "    ----------\n",
    "    returns : DataFrame\n",
    "        Returns for each ticker and date\n",
    "    weights : DataFrame\n",
    "        Weights for each ticker and date\n",
    "\n",
    "    Returns\n",
    "    -------\n",
    "    weighted_returns : DataFrame\n",
    "        Weighted returns for each ticker and date\n",
    "    \"\"\"\n",
    "    assert returns.index.equals(weights.index)\n",
    "    assert returns.columns.equals(weights.columns)\n",
    "    \n",
    "    #TODO: Implement function\n",
    "\n",
    "    return returns*weights\n",
    "\n",
    "project_tests.test_generate_weighted_returns(generate_weighted_returns)"
   ]
  },
  {
   "cell_type": "markdown",
   "metadata": {},
   "source": [
    "### View Data\n",
    "Let's generate the ETF and index returns using `generate_weighted_returns` and view them using a heatmap."
   ]
  },
  {
   "cell_type": "code",
   "execution_count": 23,
   "metadata": {},
   "outputs": [
    {
     "data": {
      "text/html": [
       "The graph for Index Returns is too large. You can view it <a href=\"graphs/IndexReturns.html\" target=\"_blank\">here</a>."
      ],
      "text/plain": [
       "<IPython.core.display.HTML object>"
      ]
     },
     "metadata": {},
     "output_type": "execute_result"
    },
    {
     "data": {
      "text/html": [
       "The graph for ETF Returns is too large. You can view it <a href=\"graphs/ETFReturns.html\" target=\"_blank\">here</a>."
      ],
      "text/plain": [
       "<IPython.core.display.HTML object>"
      ]
     },
     "metadata": {},
     "output_type": "execute_result"
    }
   ],
   "source": [
    "index_weighted_returns = generate_weighted_returns(returns, index_weights)\n",
    "etf_weighted_returns = generate_weighted_returns(returns, etf_weights)\n",
    "project_helper.plot_returns(index_weighted_returns, 'Index Returns')\n",
    "project_helper.plot_returns(etf_weighted_returns, 'ETF Returns')"
   ]
  },
  {
   "cell_type": "markdown",
   "metadata": {},
   "source": [
    "## Cumulative Returns\n",
    "To compare performance between the ETF and Index, we're going to calculate the tracking error. Before we do that, we first need to calculate the index and ETF comulative returns. Implement `calculate_cumulative_returns` to calculate the cumulative returns over time given the returns."
   ]
  },
  {
   "cell_type": "code",
   "execution_count": 24,
   "metadata": {},
   "outputs": [
    {
     "name": "stdout",
     "output_type": "stream",
     "text": [
      "Tests Passed\n"
     ]
    }
   ],
   "source": [
    "def calculate_cumulative_returns(returns):\n",
    "    \"\"\"\n",
    "    Calculate cumulative returns.\n",
    "\n",
    "    Parameters\n",
    "    ----------\n",
    "    returns : DataFrame\n",
    "        Returns for each ticker and date\n",
    "\n",
    "    Returns\n",
    "    -------\n",
    "    cumulative_returns : Pandas Series\n",
    "        Cumulative returns for each date\n",
    "    \"\"\"\n",
    "    #TODO: Implement function\n",
    "    \n",
    "    return (returns.sum(axis = 1) + 1).cumprod() \n",
    "\n",
    "project_tests.test_calculate_cumulative_returns(calculate_cumulative_returns)"
   ]
  },
  {
   "cell_type": "markdown",
   "metadata": {},
   "source": [
    "### View Data\n",
    "Let's generate the ETF and index cumulative returns using `calculate_cumulative_returns` and compare the two."
   ]
  },
  {
   "cell_type": "code",
   "execution_count": 27,
   "metadata": {},
   "outputs": [
    {
     "data": {
      "text/plain": [
       "(1009, 99)"
      ]
     },
     "execution_count": 27,
     "metadata": {},
     "output_type": "execute_result"
    }
   ],
   "source": [
    "index_weighted_returns.shape"
   ]
  },
  {
   "cell_type": "code",
   "execution_count": 25,
   "metadata": {},
   "outputs": [
    {
     "data": {
      "text/html": [
       "<div id=\"149bc33f-2d6a-4b05-bfc2-6cfc68aecaaa\" style=\"height: 525px; width: 100%;\" class=\"plotly-graph-div\"></div><script type=\"text/javascript\">require([\"plotly\"], function(Plotly) { window.PLOTLYENV=window.PLOTLYENV || {};window.PLOTLYENV.BASE_URL=\"https://plot.ly\";Plotly.newPlot(\"149bc33f-2d6a-4b05-bfc2-6cfc68aecaaa\", [{\"type\": \"scatter\", \"name\": \"Index\", \"x\": [\"2013-07-01\", \"2013-07-02\", \"2013-07-03\", \"2013-07-05\", \"2013-07-08\", \"2013-07-09\", \"2013-07-10\", \"2013-07-11\", \"2013-07-12\", \"2013-07-15\", \"2013-07-16\", \"2013-07-17\", \"2013-07-18\", \"2013-07-19\", \"2013-07-22\", \"2013-07-23\", \"2013-07-24\", \"2013-07-25\", \"2013-07-26\", \"2013-07-29\", \"2013-07-30\", \"2013-07-31\", \"2013-08-01\", \"2013-08-02\", \"2013-08-05\", \"2013-08-06\", \"2013-08-07\", \"2013-08-08\", \"2013-08-09\", \"2013-08-12\", \"2013-08-13\", \"2013-08-14\", \"2013-08-15\", \"2013-08-16\", \"2013-08-19\", \"2013-08-20\", \"2013-08-21\", \"2013-08-22\", \"2013-08-23\", \"2013-08-26\", \"2013-08-27\", \"2013-08-28\", \"2013-08-29\", \"2013-08-30\", \"2013-09-03\", \"2013-09-04\", \"2013-09-05\", \"2013-09-06\", \"2013-09-09\", \"2013-09-10\", \"2013-09-11\", \"2013-09-12\", \"2013-09-13\", \"2013-09-16\", \"2013-09-17\", \"2013-09-18\", \"2013-09-19\", \"2013-09-20\", \"2013-09-23\", \"2013-09-24\", \"2013-09-25\", \"2013-09-26\", \"2013-09-27\", \"2013-09-30\", \"2013-10-01\", \"2013-10-02\", \"2013-10-03\", \"2013-10-04\", \"2013-10-07\", \"2013-10-08\", \"2013-10-09\", \"2013-10-10\", \"2013-10-11\", \"2013-10-14\", \"2013-10-15\", \"2013-10-16\", \"2013-10-17\", \"2013-10-18\", \"2013-10-21\", \"2013-10-22\", \"2013-10-23\", \"2013-10-24\", \"2013-10-25\", \"2013-10-28\", \"2013-10-29\", \"2013-10-30\", \"2013-10-31\", \"2013-11-01\", \"2013-11-04\", \"2013-11-05\", \"2013-11-06\", \"2013-11-07\", \"2013-11-08\", \"2013-11-11\", \"2013-11-12\", \"2013-11-13\", \"2013-11-14\", \"2013-11-15\", \"2013-11-18\", \"2013-11-19\", \"2013-11-20\", \"2013-11-21\", \"2013-11-22\", \"2013-11-25\", \"2013-11-26\", \"2013-11-27\", \"2013-11-29\", \"2013-12-02\", \"2013-12-03\", \"2013-12-04\", \"2013-12-05\", \"2013-12-06\", \"2013-12-09\", \"2013-12-10\", \"2013-12-11\", \"2013-12-12\", \"2013-12-13\", \"2013-12-16\", \"2013-12-17\", \"2013-12-18\", \"2013-12-19\", \"2013-12-20\", \"2013-12-23\", \"2013-12-24\", \"2013-12-26\", \"2013-12-27\", \"2013-12-30\", \"2013-12-31\", \"2014-01-02\", \"2014-01-03\", \"2014-01-06\", \"2014-01-07\", \"2014-01-08\", \"2014-01-09\", \"2014-01-10\", \"2014-01-13\", \"2014-01-14\", \"2014-01-15\", \"2014-01-16\", \"2014-01-17\", \"2014-01-21\", \"2014-01-22\", \"2014-01-23\", \"2014-01-24\", \"2014-01-27\", \"2014-01-28\", \"2014-01-29\", \"2014-01-30\", \"2014-01-31\", \"2014-02-03\", \"2014-02-04\", \"2014-02-05\", \"2014-02-06\", \"2014-02-07\", \"2014-02-10\", \"2014-02-11\", \"2014-02-12\", \"2014-02-13\", \"2014-02-14\", \"2014-02-18\", \"2014-02-19\", \"2014-02-20\", \"2014-02-21\", \"2014-02-24\", \"2014-02-25\", \"2014-02-26\", \"2014-02-27\", \"2014-02-28\", \"2014-03-03\", \"2014-03-04\", \"2014-03-05\", \"2014-03-06\", \"2014-03-07\", \"2014-03-10\", \"2014-03-11\", \"2014-03-12\", \"2014-03-13\", \"2014-03-14\", \"2014-03-17\", \"2014-03-18\", \"2014-03-19\", \"2014-03-20\", \"2014-03-21\", \"2014-03-24\", \"2014-03-25\", \"2014-03-26\", \"2014-03-27\", \"2014-03-28\", \"2014-03-31\", \"2014-04-01\", \"2014-04-02\", \"2014-04-03\", \"2014-04-04\", \"2014-04-07\", \"2014-04-08\", \"2014-04-09\", \"2014-04-10\", \"2014-04-11\", \"2014-04-14\", \"2014-04-15\", \"2014-04-16\", \"2014-04-17\", \"2014-04-21\", \"2014-04-22\", \"2014-04-23\", \"2014-04-24\", \"2014-04-25\", \"2014-04-28\", \"2014-04-29\", \"2014-04-30\", \"2014-05-01\", \"2014-05-02\", \"2014-05-05\", \"2014-05-06\", \"2014-05-07\", \"2014-05-08\", \"2014-05-09\", \"2014-05-12\", \"2014-05-13\", \"2014-05-14\", \"2014-05-15\", \"2014-05-16\", \"2014-05-19\", \"2014-05-20\", \"2014-05-21\", \"2014-05-22\", \"2014-05-23\", \"2014-05-27\", \"2014-05-28\", \"2014-05-29\", \"2014-05-30\", \"2014-06-02\", \"2014-06-03\", \"2014-06-04\", \"2014-06-05\", \"2014-06-06\", \"2014-06-09\", \"2014-06-10\", \"2014-06-11\", \"2014-06-12\", \"2014-06-13\", \"2014-06-16\", \"2014-06-17\", \"2014-06-18\", \"2014-06-19\", \"2014-06-20\", \"2014-06-23\", \"2014-06-24\", \"2014-06-25\", \"2014-06-26\", \"2014-06-27\", \"2014-06-30\", \"2014-07-01\", \"2014-07-02\", \"2014-07-03\", \"2014-07-07\", \"2014-07-08\", \"2014-07-09\", \"2014-07-10\", \"2014-07-11\", \"2014-07-14\", \"2014-07-15\", \"2014-07-16\", \"2014-07-17\", \"2014-07-18\", \"2014-07-21\", \"2014-07-22\", \"2014-07-23\", \"2014-07-24\", \"2014-07-25\", \"2014-07-28\", \"2014-07-29\", \"2014-07-30\", \"2014-07-31\", \"2014-08-01\", \"2014-08-04\", \"2014-08-05\", \"2014-08-06\", \"2014-08-07\", \"2014-08-08\", \"2014-08-11\", \"2014-08-12\", \"2014-08-13\", \"2014-08-14\", \"2014-08-15\", \"2014-08-18\", \"2014-08-19\", \"2014-08-20\", \"2014-08-21\", \"2014-08-22\", \"2014-08-25\", \"2014-08-26\", \"2014-08-27\", \"2014-08-28\", \"2014-08-29\", \"2014-09-02\", \"2014-09-03\", \"2014-09-04\", \"2014-09-05\", \"2014-09-08\", \"2014-09-09\", \"2014-09-10\", \"2014-09-11\", \"2014-09-12\", \"2014-09-15\", \"2014-09-16\", \"2014-09-17\", \"2014-09-18\", \"2014-09-19\", \"2014-09-22\", \"2014-09-23\", \"2014-09-24\", \"2014-09-25\", \"2014-09-26\", \"2014-09-29\", \"2014-09-30\", \"2014-10-01\", \"2014-10-02\", \"2014-10-03\", \"2014-10-06\", \"2014-10-07\", \"2014-10-08\", \"2014-10-09\", \"2014-10-10\", \"2014-10-13\", \"2014-10-14\", \"2014-10-15\", \"2014-10-16\", \"2014-10-17\", \"2014-10-20\", \"2014-10-21\", \"2014-10-22\", \"2014-10-23\", \"2014-10-24\", \"2014-10-27\", \"2014-10-28\", \"2014-10-29\", \"2014-10-30\", \"2014-10-31\", \"2014-11-03\", \"2014-11-04\", \"2014-11-05\", \"2014-11-06\", \"2014-11-07\", \"2014-11-10\", \"2014-11-11\", \"2014-11-12\", \"2014-11-13\", \"2014-11-14\", \"2014-11-17\", \"2014-11-18\", \"2014-11-19\", \"2014-11-20\", \"2014-11-21\", \"2014-11-24\", \"2014-11-25\", \"2014-11-26\", \"2014-11-28\", \"2014-12-01\", \"2014-12-02\", \"2014-12-03\", \"2014-12-04\", \"2014-12-05\", \"2014-12-08\", \"2014-12-09\", \"2014-12-10\", \"2014-12-11\", \"2014-12-12\", \"2014-12-15\", \"2014-12-16\", \"2014-12-17\", \"2014-12-18\", \"2014-12-19\", \"2014-12-22\", \"2014-12-23\", \"2014-12-24\", \"2014-12-26\", \"2014-12-29\", \"2014-12-30\", \"2014-12-31\", \"2015-01-02\", \"2015-01-05\", \"2015-01-06\", \"2015-01-07\", \"2015-01-08\", \"2015-01-09\", \"2015-01-12\", \"2015-01-13\", \"2015-01-14\", \"2015-01-15\", \"2015-01-16\", \"2015-01-20\", \"2015-01-21\", \"2015-01-22\", \"2015-01-23\", \"2015-01-26\", \"2015-01-27\", \"2015-01-28\", \"2015-01-29\", \"2015-01-30\", \"2015-02-02\", \"2015-02-03\", \"2015-02-04\", \"2015-02-05\", \"2015-02-06\", \"2015-02-09\", \"2015-02-10\", \"2015-02-11\", \"2015-02-12\", \"2015-02-13\", \"2015-02-17\", \"2015-02-18\", \"2015-02-19\", \"2015-02-20\", \"2015-02-23\", \"2015-02-24\", \"2015-02-25\", \"2015-02-26\", \"2015-02-27\", \"2015-03-02\", \"2015-03-03\", \"2015-03-04\", \"2015-03-05\", \"2015-03-06\", \"2015-03-09\", \"2015-03-10\", \"2015-03-11\", \"2015-03-12\", \"2015-03-13\", \"2015-03-16\", \"2015-03-17\", \"2015-03-18\", \"2015-03-19\", \"2015-03-20\", \"2015-03-23\", \"2015-03-24\", \"2015-03-25\", \"2015-03-26\", \"2015-03-27\", \"2015-03-30\", \"2015-03-31\", \"2015-04-01\", \"2015-04-02\", \"2015-04-06\", \"2015-04-07\", \"2015-04-08\", \"2015-04-09\", \"2015-04-10\", \"2015-04-13\", \"2015-04-14\", \"2015-04-15\", \"2015-04-16\", \"2015-04-17\", \"2015-04-20\", \"2015-04-21\", \"2015-04-22\", \"2015-04-23\", \"2015-04-24\", \"2015-04-27\", \"2015-04-28\", \"2015-04-29\", \"2015-04-30\", \"2015-05-01\", \"2015-05-04\", \"2015-05-05\", \"2015-05-06\", \"2015-05-07\", \"2015-05-08\", \"2015-05-11\", \"2015-05-12\", \"2015-05-13\", \"2015-05-14\", \"2015-05-15\", \"2015-05-18\", \"2015-05-19\", \"2015-05-20\", \"2015-05-21\", \"2015-05-22\", \"2015-05-26\", \"2015-05-27\", \"2015-05-28\", \"2015-05-29\", \"2015-06-01\", \"2015-06-02\", \"2015-06-03\", \"2015-06-04\", \"2015-06-05\", \"2015-06-08\", \"2015-06-09\", \"2015-06-10\", \"2015-06-11\", \"2015-06-12\", \"2015-06-15\", \"2015-06-16\", \"2015-06-17\", \"2015-06-18\", \"2015-06-19\", \"2015-06-22\", \"2015-06-23\", \"2015-06-24\", \"2015-06-25\", \"2015-06-26\", \"2015-06-29\", \"2015-06-30\", \"2015-07-01\", \"2015-07-02\", \"2015-07-06\", \"2015-07-07\", \"2015-07-08\", \"2015-07-09\", \"2015-07-10\", \"2015-07-13\", \"2015-07-14\", \"2015-07-15\", \"2015-07-16\", \"2015-07-17\", \"2015-07-20\", \"2015-07-21\", \"2015-07-22\", \"2015-07-23\", \"2015-07-24\", \"2015-07-27\", \"2015-07-28\", \"2015-07-29\", \"2015-07-30\", \"2015-07-31\", \"2015-08-03\", \"2015-08-04\", \"2015-08-05\", \"2015-08-06\", \"2015-08-07\", \"2015-08-10\", \"2015-08-11\", \"2015-08-12\", \"2015-08-13\", \"2015-08-14\", \"2015-08-17\", \"2015-08-18\", \"2015-08-19\", \"2015-08-20\", \"2015-08-21\", \"2015-08-24\", \"2015-08-25\", \"2015-08-26\", \"2015-08-27\", \"2015-08-28\", \"2015-08-31\", \"2015-09-01\", \"2015-09-02\", \"2015-09-03\", \"2015-09-04\", \"2015-09-08\", \"2015-09-09\", \"2015-09-10\", \"2015-09-11\", \"2015-09-14\", \"2015-09-15\", \"2015-09-16\", \"2015-09-17\", \"2015-09-18\", \"2015-09-21\", \"2015-09-22\", \"2015-09-23\", \"2015-09-24\", \"2015-09-25\", \"2015-09-28\", \"2015-09-29\", \"2015-09-30\", \"2015-10-01\", \"2015-10-02\", \"2015-10-05\", \"2015-10-06\", \"2015-10-07\", \"2015-10-08\", \"2015-10-09\", \"2015-10-12\", \"2015-10-13\", \"2015-10-14\", \"2015-10-15\", \"2015-10-16\", \"2015-10-19\", \"2015-10-20\", \"2015-10-21\", \"2015-10-22\", \"2015-10-23\", \"2015-10-26\", \"2015-10-27\", \"2015-10-28\", \"2015-10-29\", \"2015-10-30\", \"2015-11-02\", \"2015-11-03\", \"2015-11-04\", \"2015-11-05\", \"2015-11-06\", \"2015-11-09\", \"2015-11-10\", \"2015-11-11\", \"2015-11-12\", \"2015-11-13\", \"2015-11-16\", \"2015-11-17\", \"2015-11-18\", \"2015-11-19\", \"2015-11-20\", \"2015-11-23\", \"2015-11-24\", \"2015-11-25\", \"2015-11-27\", \"2015-11-30\", \"2015-12-01\", \"2015-12-02\", \"2015-12-03\", \"2015-12-04\", \"2015-12-07\", \"2015-12-08\", \"2015-12-09\", \"2015-12-10\", \"2015-12-11\", \"2015-12-14\", \"2015-12-15\", \"2015-12-16\", \"2015-12-17\", \"2015-12-18\", \"2015-12-21\", \"2015-12-22\", \"2015-12-23\", \"2015-12-24\", \"2015-12-28\", \"2015-12-29\", \"2015-12-30\", \"2015-12-31\", \"2016-01-04\", \"2016-01-05\", \"2016-01-06\", \"2016-01-07\", \"2016-01-08\", \"2016-01-11\", \"2016-01-12\", \"2016-01-13\", \"2016-01-14\", \"2016-01-15\", \"2016-01-19\", \"2016-01-20\", \"2016-01-21\", \"2016-01-22\", \"2016-01-25\", \"2016-01-26\", \"2016-01-27\", \"2016-01-28\", \"2016-01-29\", \"2016-02-01\", \"2016-02-02\", \"2016-02-03\", \"2016-02-04\", \"2016-02-05\", \"2016-02-08\", \"2016-02-09\", \"2016-02-10\", \"2016-02-11\", \"2016-02-12\", \"2016-02-16\", \"2016-02-17\", \"2016-02-18\", \"2016-02-19\", \"2016-02-22\", \"2016-02-23\", \"2016-02-24\", \"2016-02-25\", \"2016-02-26\", \"2016-02-29\", \"2016-03-01\", \"2016-03-02\", \"2016-03-03\", \"2016-03-04\", \"2016-03-07\", \"2016-03-08\", \"2016-03-09\", \"2016-03-10\", \"2016-03-11\", \"2016-03-14\", \"2016-03-15\", \"2016-03-16\", \"2016-03-17\", \"2016-03-18\", \"2016-03-21\", \"2016-03-22\", \"2016-03-23\", \"2016-03-24\", \"2016-03-28\", \"2016-03-29\", \"2016-03-30\", \"2016-03-31\", \"2016-04-01\", \"2016-04-04\", \"2016-04-05\", \"2016-04-06\", \"2016-04-07\", \"2016-04-08\", \"2016-04-11\", \"2016-04-12\", \"2016-04-13\", \"2016-04-14\", \"2016-04-15\", \"2016-04-18\", \"2016-04-19\", \"2016-04-20\", \"2016-04-21\", \"2016-04-22\", \"2016-04-25\", \"2016-04-26\", \"2016-04-27\", \"2016-04-28\", \"2016-04-29\", \"2016-05-02\", \"2016-05-03\", \"2016-05-04\", \"2016-05-05\", \"2016-05-06\", \"2016-05-09\", \"2016-05-10\", \"2016-05-11\", \"2016-05-12\", \"2016-05-13\", \"2016-05-16\", \"2016-05-17\", \"2016-05-18\", \"2016-05-19\", \"2016-05-20\", \"2016-05-23\", \"2016-05-24\", \"2016-05-25\", \"2016-05-26\", \"2016-05-27\", \"2016-05-31\", \"2016-06-01\", \"2016-06-02\", \"2016-06-03\", \"2016-06-06\", \"2016-06-07\", \"2016-06-08\", \"2016-06-09\", \"2016-06-10\", \"2016-06-13\", \"2016-06-14\", \"2016-06-15\", \"2016-06-16\", \"2016-06-17\", \"2016-06-20\", \"2016-06-21\", \"2016-06-22\", \"2016-06-23\", \"2016-06-24\", \"2016-06-27\", \"2016-06-28\", \"2016-06-29\", \"2016-06-30\", \"2016-07-01\", \"2016-07-05\", \"2016-07-06\", \"2016-07-07\", \"2016-07-08\", \"2016-07-11\", \"2016-07-12\", \"2016-07-13\", \"2016-07-14\", \"2016-07-15\", \"2016-07-18\", \"2016-07-19\", \"2016-07-20\", \"2016-07-21\", \"2016-07-22\", \"2016-07-25\", \"2016-07-26\", \"2016-07-27\", \"2016-07-28\", \"2016-07-29\", \"2016-08-01\", \"2016-08-02\", \"2016-08-03\", \"2016-08-04\", \"2016-08-05\", \"2016-08-08\", \"2016-08-09\", \"2016-08-10\", \"2016-08-11\", \"2016-08-12\", \"2016-08-15\", \"2016-08-16\", \"2016-08-17\", \"2016-08-18\", \"2016-08-19\", \"2016-08-22\", \"2016-08-23\", \"2016-08-24\", \"2016-08-25\", \"2016-08-26\", \"2016-08-29\", \"2016-08-30\", \"2016-08-31\", \"2016-09-01\", \"2016-09-02\", \"2016-09-06\", \"2016-09-07\", \"2016-09-08\", \"2016-09-09\", \"2016-09-12\", \"2016-09-13\", \"2016-09-14\", \"2016-09-15\", \"2016-09-16\", \"2016-09-19\", \"2016-09-20\", \"2016-09-21\", \"2016-09-22\", \"2016-09-23\", \"2016-09-26\", \"2016-09-27\", \"2016-09-28\", \"2016-09-29\", \"2016-09-30\", \"2016-10-03\", \"2016-10-04\", \"2016-10-05\", \"2016-10-06\", \"2016-10-07\", \"2016-10-10\", \"2016-10-11\", \"2016-10-12\", \"2016-10-13\", \"2016-10-14\", \"2016-10-17\", \"2016-10-18\", \"2016-10-19\", \"2016-10-20\", \"2016-10-21\", \"2016-10-24\", \"2016-10-25\", \"2016-10-26\", \"2016-10-27\", \"2016-10-28\", \"2016-10-31\", \"2016-11-01\", \"2016-11-02\", \"2016-11-03\", \"2016-11-04\", \"2016-11-07\", \"2016-11-08\", \"2016-11-09\", \"2016-11-10\", \"2016-11-11\", \"2016-11-14\", \"2016-11-15\", \"2016-11-16\", \"2016-11-17\", \"2016-11-18\", \"2016-11-21\", \"2016-11-22\", \"2016-11-23\", \"2016-11-25\", \"2016-11-28\", \"2016-11-29\", \"2016-11-30\", \"2016-12-01\", \"2016-12-02\", \"2016-12-05\", \"2016-12-06\", \"2016-12-07\", \"2016-12-08\", \"2016-12-09\", \"2016-12-12\", \"2016-12-13\", \"2016-12-14\", \"2016-12-15\", \"2016-12-16\", \"2016-12-19\", \"2016-12-20\", \"2016-12-21\", \"2016-12-22\", \"2016-12-23\", \"2016-12-27\", \"2016-12-28\", \"2016-12-29\", \"2016-12-30\", \"2017-01-03\", \"2017-01-04\", \"2017-01-05\", \"2017-01-06\", \"2017-01-09\", \"2017-01-10\", \"2017-01-11\", \"2017-01-12\", \"2017-01-13\", \"2017-01-17\", \"2017-01-18\", \"2017-01-19\", \"2017-01-20\", \"2017-01-23\", \"2017-01-24\", \"2017-01-25\", \"2017-01-26\", \"2017-01-27\", \"2017-01-30\", \"2017-01-31\", \"2017-02-01\", \"2017-02-02\", \"2017-02-03\", \"2017-02-06\", \"2017-02-07\", \"2017-02-08\", \"2017-02-09\", \"2017-02-10\", \"2017-02-13\", \"2017-02-14\", \"2017-02-15\", \"2017-02-16\", \"2017-02-17\", \"2017-02-21\", \"2017-02-22\", \"2017-02-23\", \"2017-02-24\", \"2017-02-27\", \"2017-02-28\", \"2017-03-01\", \"2017-03-02\", \"2017-03-03\", \"2017-03-06\", \"2017-03-07\", \"2017-03-08\", \"2017-03-09\", \"2017-03-10\", \"2017-03-13\", \"2017-03-14\", \"2017-03-15\", \"2017-03-16\", \"2017-03-17\", \"2017-03-20\", \"2017-03-21\", \"2017-03-22\", \"2017-03-23\", \"2017-03-24\", \"2017-03-27\", \"2017-03-28\", \"2017-03-29\", \"2017-03-30\", \"2017-03-31\", \"2017-04-03\", \"2017-04-04\", \"2017-04-05\", \"2017-04-06\", \"2017-04-07\", \"2017-04-10\", \"2017-04-11\", \"2017-04-12\", \"2017-04-13\", \"2017-04-17\", \"2017-04-18\", \"2017-04-19\", \"2017-04-20\", \"2017-04-21\", \"2017-04-24\", \"2017-04-25\", \"2017-04-26\", \"2017-04-27\", \"2017-04-28\", \"2017-05-01\", \"2017-05-02\", \"2017-05-03\", \"2017-05-04\", \"2017-05-05\", \"2017-05-08\", \"2017-05-09\", \"2017-05-10\", \"2017-05-11\", \"2017-05-12\", \"2017-05-15\", \"2017-05-16\", \"2017-05-17\", \"2017-05-18\", \"2017-05-19\", \"2017-05-22\", \"2017-05-23\", \"2017-05-24\", \"2017-05-25\", \"2017-05-26\", \"2017-05-30\", \"2017-05-31\", \"2017-06-01\", \"2017-06-02\", \"2017-06-05\", \"2017-06-06\", \"2017-06-07\", \"2017-06-08\", \"2017-06-09\", \"2017-06-12\", \"2017-06-13\", \"2017-06-14\", \"2017-06-15\", \"2017-06-16\", \"2017-06-19\", \"2017-06-20\", \"2017-06-21\", \"2017-06-22\", \"2017-06-23\", \"2017-06-26\", \"2017-06-27\", \"2017-06-28\", \"2017-06-29\", \"2017-06-30\"], \"y\": [null, 1.0027289937577213, 1.0047799621008515, 1.0141760707697136, 1.0186679619467407, 1.027943983004139, 1.0267359072685873, 1.0423535415987486, 1.0423935903116288, 1.0467340940235315, 1.0444274654579078, 1.0498027568163582, 1.053265667080935, 1.0438241909781645, 1.0474737217021317, 1.0421838142539606, 1.0472166287558964, 1.1135695812811484, 1.1184386685955974, 1.1206386767007517, 1.1305880330799396, 1.124848144276652, 1.143773610177145, 1.150236108617087, 1.154627691347643, 1.1455033733322244, 1.1441602741439019, 1.1495764214616413, 1.144000953940036, 1.1473449668533011, 1.1513573547829956, 1.1515241443184836, 1.1338066825654214, 1.1338388574124967, 1.132211849106876, 1.1356716968265632, 1.131995544525689, 1.141732081830552, 1.1619662478239228, 1.1644674471799725, 1.14009379115478, 1.1466932414818252, 1.1535480653994648, 1.1548392944020436, 1.1583665961621024, 1.169828145308239, 1.1733632799099287, 1.1767792012135656, 1.1916752200632552, 1.2012191889153643, 1.190475909576601, 1.189899454021009, 1.191506601306839, 1.1881822901332268, 1.2015415364044004, 1.2172707228308732, 1.2186812880895603, 1.2152399053546412, 1.2191180979967104, 1.2231014245038356, 1.2222718531834005, 1.229585185401399, 1.228232403357451, 1.2187670206292436, 1.2327319181183019, 1.2335485085672337, 1.220963449075948, 1.2326058723069102, 1.223983442637936, 1.1988470523849601, 1.1972427235490397, 1.2275050275038455, 1.2279234277223368, 1.2391819635698507, 1.2341141097756745, 1.254917211007831, 1.2570913032462783, 1.2973277139556745, 1.3034825624595316, 1.2921484065964879, 1.286935754151552, 1.2954649016673256, 1.3076086835591847, 1.3074155287376512, 1.3102013196858784, 1.3088872040163002, 1.3102664127034127, 1.309733147348769, 1.312830030344548, 1.3161702532163655, 1.3181744453863442, 1.2949925113162646, 1.3158383392882993, 1.3135294208020183, 1.3148825986652508, 1.3320777306697722, 1.329289690889359, 1.3346486222973784, 1.3225035819157336, 1.321562829534289, 1.3139621799358794, 1.3280276715602048, 1.3389245119203783, 1.337530668725241, 1.3433314487174748, 1.3532644681572612, 1.3582943366062936, 1.3542123260102124, 1.352024898507297, 1.352531061866867, 1.3483158014264152, 1.358197066884, 1.371419228251232, 1.3700847683419797, 1.358850755499973, 1.3607983611978611, 1.3579679524714028, 1.3688776797959457, 1.3677121022118144, 1.3813759530507568, 1.379821853372121, 1.387262479506175, 1.407839466617142, 1.4100178419179945, 1.4153194253816543, 1.4062691322459764, 1.399603197687395, 1.40893757935414, 1.4013882508000388, 1.3977780312988275, 1.4008438741759952, 1.4081344224306116, 1.4166714782726901, 1.4164553666872712, 1.4190742928691553, 1.403762256335765, 1.4245850733570589, 1.4354974761500128, 1.4306107661112333, 1.4239092865482657, 1.4291349260671042, 1.4296674330538266, 1.4383193829502399, 1.4071787294135285, 1.400538867225384, 1.3876554632843014, 1.3688151829906774, 1.4069278317238458, 1.399499866534155, 1.3686482191197613, 1.3804741751099336, 1.3772540153888042, 1.3955348179396185, 1.4196320288779571, 1.4217467541932143, 1.4401467850836691, 1.4384154812246044, 1.444917160194301, 1.4502345048603584, 1.4547912398908054, 1.4462310532992855, 1.4588492365766115, 1.4511134197758744, 1.4529543461852583, 1.4501597046514783, 1.4523287307596067, 1.4636937520155882, 1.4632343283500397, 1.4519393226723514, 1.4767750869911695, 1.4871981921088286, 1.4864664616922239, 1.4808924340662069, 1.4839136052714754, 1.4743079019135352, 1.4757584619009374, 1.4547555920558357, 1.4454779724175006, 1.4605556840239415, 1.475134415003342, 1.4678979798923557, 1.4789712621965971, 1.4674008606787363, 1.4540427446954465, 1.4619925302056176, 1.4431835090422287, 1.4344922062223417, 1.433782934377982, 1.4458684612114292, 1.4668014186606346, 1.4713439576123712, 1.4766224763175506, 1.4434000656954886, 1.4281014013549853, 1.4369364485623892, 1.4661408390499406, 1.4235012583411257, 1.406708518215459, 1.4204995062318184, 1.4296816495956834, 1.4464763102296871, 1.4433202438549821, 1.4553719046416516, 1.473173711791573, 1.4624740403149532, 1.482545908519308, 1.45062815950267, 1.4520567432733271, 1.467017733689257, 1.4707905051531602, 1.478519480758935, 1.4777495432501118, 1.4834202515372878, 1.4648610602896992, 1.4667515730033007, 1.4669873732285446, 1.4695502556095303, 1.4926709174942199, 1.4940356709100173, 1.4867096703524618, 1.4727730583543717, 1.4809516401165603, 1.4924679948818018, 1.4838825675639868, 1.5014630953264736, 1.5085644476697941, 1.518969501767007, 1.5363673830555666, 1.5356230103672777, 1.5485281276116714, 1.5481857766788198, 1.5488718731612237, 1.5504153381002546, 1.5583636259402143, 1.570348165638846, 1.5769634493934557, 1.5795224041557685, 1.589415801099869, 1.588812670544609, 1.568958578823882, 1.5797432744792557, 1.579702353560656, 1.5877495235320362, 1.603374772975973, 1.6039728136663813, 1.6033623891799105, 1.6056311070053912, 1.598544763585009, 1.6149109875582208, 1.6139665895216475, 1.6169555214564322, 1.6177147001339944, 1.6402086036816443, 1.6398428974207202, 1.6485746929748217, 1.6409214188038137, 1.6223468043331024, 1.6361873747484015, 1.6290860262644655, 1.6395810008170109, 1.6544385872609477, 1.6526619142026497, 1.6838781370951212, 1.6675682637485714, 1.688720407017876, 1.686647883868565, 1.6944773126914885, 1.7085570660976221, 1.712307706411104, 1.687668262892516, 1.6857505653354568, 1.681393742371803, 1.6894023125566344, 1.6511950808377882, 1.6477002576813387, 1.6586616402227625, 1.6390357631279318, 1.6129314316403984, 1.6100392006636803, 1.6263884098337384, 1.6497213382873477, 1.6450269651688492, 1.6607196208964978, 1.6693179872421067, 1.6759930312460336, 1.6917637462872874, 1.7052068616535478, 1.7117070638892073, 1.7213867599664336, 1.7259757423645652, 1.736278091723579, 1.7399084698501686, 1.7384302527868791, 1.733816471521064, 1.7402032043902849, 1.7424385751417564, 1.7234865672537514, 1.7208492704663194, 1.729478255055047, 1.7261165971486578, 1.7151905339356397, 1.7301958066019003, 1.7322576965635197, 1.7242945695729666, 1.7126963249659168, 1.7271151569333951, 1.7298595948620186, 1.741887747798106, 1.7432313916075521, 1.7261326896120732, 1.7234237943580704, 1.7373012128290692, 1.70169741266048, 1.7302907445789693, 1.724422125896335, 1.7247567631855016, 1.6981996286745855, 1.698860692706386, 1.7223542950610307, 1.7169561342476651, 1.6897602415026403, 1.7176744748736046, 1.6819761323496472, 1.6492159158005666, 1.6147844957829123, 1.6171538666578542, 1.6040672137728962, 1.5891279321687617, 1.610958014656761, 1.6253166424528052, 1.6543231236060902, 1.6423338927877777, 1.6666198559208008, 1.6646487781890495, 1.6605572357374312, 1.6812093181519392, 1.6671048167527587, 1.6824043412675238, 1.7031998341954255, 1.7009073165590431, 1.6930874828654767, 1.6986414149314972, 1.6974171126529856, 1.6969904613682165, 1.6965393348052953, 1.7004092413618148, 1.7013897328301313, 1.7063941309912014, 1.712272970229987, 1.6996508569155455, 1.7198477592204795, 1.7190212362314579, 1.7210158338885535, 1.728928528343197, 1.73626468466635, 1.7342441831195103, 1.7521618294304477, 1.7332712575868814, 1.7161207271444274, 1.7299331524510517, 1.7388052485629266, 1.739371833114481, 1.7442425569691151, 1.725954255465877, 1.724715728171289, 1.6948838613513724, 1.705994814121837, 1.6793620344935427, 1.6650224293625613, 1.6442057119241948, 1.6798112259512707, 1.7222721963853616, 1.733703797616575, 1.7167158004983072, 1.707715420537835, 1.7124667916798877, 1.7251414567632453, 1.730306947866664, 1.7210192049335513, 1.7040016269051415, 1.7026774858265736, 1.6690247650136922, 1.6516032121250985, 1.669732198010367, 1.7024627627177351, 1.688532688045514, 1.6702577449563427, 1.66554892175355, 1.6502120520283547, 1.626382129037644, 1.6485418773640115, 1.658532598360966, 1.685406662777937, 1.7176689028490395, 1.7121784890517562, 1.7156888248356428, 1.6701545145988677, 1.6665148421556863, 1.6853308487646566, 1.6916442851869646, 1.7123519814728971, 1.7384318386402873, 1.7286509285951435, 1.7473067461321183, 1.7452668026469413, 1.737048785266244, 1.765130188242216, 1.771075902291453, 1.7909343080585027, 1.8024775456809305, 1.8074669699058308, 1.8061970565477474, 1.8087206152415456, 1.8219331401164227, 1.8252544380385118, 1.8299344166912623, 1.8281914646939237, 1.8385412097328786, 1.8286412268244585, 1.8433884046716678, 1.8374644850918627, 1.8332016878507944, 1.8278123295318938, 1.8057913198696, 1.811612171794308, 1.7777286837127109, 1.772804035619167, 1.7933372432996935, 1.7838180371180234, 1.8065874642940898, 1.8097481364956927, 1.8308883635939328, 1.8294567169211398, 1.8521761725016783, 1.8464132822493795, 1.8397572645913935, 1.8048022405406439, 1.7997410912575955, 1.8047823305809425, 1.8276246241834075, 1.8093942238586345, 1.799289388777669, 1.8007195782559435, 1.8143059506568604, 1.8101891839015174, 1.8185233173066797, 1.8345866499872376, 1.8768932709913835, 1.8711096193898653, 1.8752049127276922, 1.8920272122159763, 1.943353200450368, 1.9217315480496346, 1.9444908166518184, 1.9447428860392937, 1.9553939421695332, 1.9562504448441098, 2.0032730177709097, 1.9907571192937705, 1.9908195063658058, 1.9848928598280964, 1.9590660299166431, 1.986602808931141, 1.9889615610423295, 1.9643540663103352, 1.9552596037165897, 1.9629604606327031, 1.9896142195359074, 1.9831233271468103, 1.975820647872946, 1.976298635496033, 2.0004079698614214, 2.0065846249494896, 2.016209450140297, 2.0111496677290344, 1.9928434481513648, 2.0045042013825087, 2.0026446416360595, 1.9820948572045254, 2.0092462722658153, 2.008120553355772, 1.9975060041079538, 2.0050434519630187, 2.002727941893597, 2.0099383489143876, 1.9955448405527003, 1.9957756755124594, 1.9768617233421997, 1.9816630405236788, 2.009751640675404, 2.0128229769964707, 1.9969199602526198, 1.987712404877541, 1.998998180458002, 2.001417258689318, 2.016308541255297, 2.0056609318651084, 2.022967638933353, 2.0360033213522053, 2.023789140938373, 2.0155843413950323, 1.9991158749197844, 1.9560123956437299, 1.963966982362486, 1.9730419025780759, 1.973980558584707, 1.966822675579148, 1.974674897571366, 1.9381269800818235, 1.9380607219088681, 1.9682225202517678, 2.0001551981107832, 2.020084993563445, 2.0244757960526933, 2.0840640955311334, 2.164021740587866, 2.169956819786319, 2.158820087831018, 2.140720703070217, 2.1224572705262092, 2.106175714618124, 2.09874643181136, 2.133058735017223, 2.1512119981289715, 2.149371765445891, 2.136971248622512, 2.127499440189828, 2.1209875326107603, 2.103963694945976, 2.084311792484164, 2.08017805282951, 2.1123686566062827, 2.0892058268164857, 2.095292957608108, 2.094857905341943, 2.099429087435151, 2.112445537682794, 2.1038040638387234, 2.0847576169721806, 2.024863409810248, 1.944711573955715, 1.8658276473406792, 1.8520226164473161, 1.9352146731684612, 1.9983384171876526, 2.0082038376572977, 1.9947056612871221, 1.9285355550168708, 1.9688025930021953, 1.9599526728891528, 1.9315307894199232, 1.9755361371165472, 1.9560138963469569, 1.973249450941737, 1.9813357269712741, 1.9747333295713596, 2.003407433261095, 2.02494125555756, 2.02286104280442, 1.9916240133003171, 1.994392762805218, 1.9701855850933323, 1.9649885356718166, 1.959536063036994, 1.9544993581594483, 1.893307719235721, 1.8872946089820173, 1.9301996011764775, 1.9411333116528844, 1.9768143099716418, 2.0171853467828864, 2.012114444459712, 2.0347229833416303, 2.0550593877309318, 2.0610714275417283, 2.058312153928461, 2.0431899489750394, 2.025110085302376, 2.0445539106729256, 2.0518053991144916, 2.0534696172067384, 2.0370374380152625, 2.027530275514297, 2.0609170255574445, 2.120875739919378, 2.117505298795412, 2.114972181055649, 2.143202278484213, 2.154512781061145, 2.1442758819710828, 2.1684792214447985, 2.1820708898457544, 2.1745869551731096, 2.165936604145697, 2.1793029218008675, 2.156405221838541, 2.155201970627385, 2.1512405798747856, 2.1191773422337654, 2.0841177009936476, 2.114163661094656, 2.1210112079399535, 2.153552783923592, 2.146322355838905, 2.1518848795905305, 2.1460506820800678, 2.1531570756019387, 2.1574702379635067, 2.1547353105441744, 2.1416385343086026, 2.170885165606948, 2.1536286909741404, 2.1259015136249935, 2.160842099300254, 2.137657642189662, 2.1194415309322214, 2.109891971570946, 2.120010524126772, 2.070865933162857, 2.081388507227998, 2.102157274374906, 2.135000120526884, 2.1013443030361656, 2.060102119191863, 2.0718302226173737, 2.0842222088554085, 2.1133237204126645, 2.108767666083779, 2.103463598036868, 2.1313050006559107, 2.1129557107533308, 2.0903800366152168, 2.0496220401941416, 2.0464324827695544, 2.0270393568417098, 1.970985509584844, 1.951638706655962, 1.9529848398618708, 1.967926254242884, 1.9083525982562495, 1.9466526404088522, 1.897298716885158, 1.897455794947983, 1.8761527050541738, 1.886714088388739, 1.9210120152258245, 1.889179885669094, 1.9144248813831233, 1.8727887231361053, 1.925861798720329, 1.9642284841371795, 1.9692453799292753, 1.933127882702243, 1.9294213477559963, 1.9281230663744058, 1.8703021283420744, 1.841376584718026, 1.8372080576442762, 1.836088261715092, 1.8138772026559795, 1.8582621046948866, 1.8937176280326182, 1.9362699033884059, 1.9215899647935828, 1.9231334143708891, 1.9619411334480334, 1.931281379514584, 1.942587801115055, 1.9721482775153987, 1.96964649914199, 1.9522124626145239, 2.0081983748305583, 2.0200335520848847, 2.026444137313781, 2.0391793710845816, 2.0316508300996508, 2.004266912137766, 2.0152719141022835, 2.0164193065664606, 2.052986798115485, 2.052980216759187, 2.047248129059359, 2.0602908555506962, 2.070863690954747, 2.080320766471344, 2.087866451792867, 2.0887984495105263, 2.06925594482958, 2.0706616412956866, 2.0713737587602643, 2.0910646734848393, 2.100721437105419, 2.093712136227632, 2.110787431371519, 2.1014551494914078, 2.0550325002264147, 2.092203240533191, 2.0685666072652396, 2.06723278991264, 2.056816620599418, 2.080155869280491, 2.1060948659301237, 2.1128853080843952, 2.1059630356117305, 2.113191583394751, 2.1000919664319295, 2.1084016761065416, 2.0960325435557294, 2.0650200311804725, 2.059828453277388, 2.0601205433978773, 2.0438624934615643, 2.03962137605722, 2.038447860125831, 2.0585665998644, 2.039213816372139, 2.0215868570505573, 2.0185282553969075, 2.0230079832151273, 2.0252597634723335, 2.059372776350833, 2.0410027384329377, 2.0339379748603865, 2.0312386942777123, 2.047229944448788, 2.0292982144250145, 2.0370153912738616, 2.0388909270931173, 2.06056991268721, 2.0600069977781152, 2.092312302885197, 2.113423120332628, 2.117401535494774, 2.1262041705032164, 2.126027975453085, 2.1253800990538756, 2.1283994540125737, 2.1178300965831913, 2.1289278302336645, 2.1232653738121714, 2.129150473817874, 2.122914689835392, 2.1008695844164653, 2.08036362859595, 2.073318197342672, 2.07119449670434, 2.0721517052625247, 2.059584219186664, 2.069770360066741, 2.0755268949509613, 2.0720408357688256, 2.1057158195947085, 2.0205755475287805, 1.976894898137517, 2.0205332182836364, 2.060571285498405, 2.0819120672437044, 2.089076265250925, 2.0731546526040106, 2.0855256112335194, 2.090372848390544, 2.1236997046361084, 2.134480680840767, 2.159616576335254, 2.156795548071476, 2.1785995962889038, 2.1745483837537782, 2.189400361306188, 2.1638955249160996, 2.1843845039022622, 2.18583469238711, 2.19899130118062, 2.1942629270810508, 2.192094338161333, 2.213862103741945, 2.2207703260839486, 2.2264321989772915, 2.228496236604969, 2.220323425899144, 2.2285644814739545, 2.2292479526468854, 2.2418812968636765, 2.232802060640266, 2.2404767870201776, 2.2344203878675546, 2.2489163845821154, 2.255430020845896, 2.2638908844831995, 2.2531666256039884, 2.247761144133676, 2.2514356531647595, 2.252815329011083, 2.2501548905954367, 2.2544380156210884, 2.238835515364197, 2.23213487460123, 2.233830527347826, 2.2436042989305376, 2.244935294757425, 2.2388958765556013, 2.2410129801633243, 2.24619253724267, 2.260215992375736, 2.270650505293726, 2.264213037090573, 2.2117003999957277, 2.247374167302758, 2.21945244318689, 2.2301445396477995, 2.258136741887139, 2.2510462740378405, 2.2454873482185342, 2.2484799569485054, 2.2644156838452516, 2.28086788299668, 2.2610326127720044, 2.238923722375177, 2.257932078704789, 2.2773601261850156, 2.2631047886137656, 2.2866805471984755, 2.284934102838862, 2.2809554513901293, 2.289340357161707, 2.2913521293533257, 2.280238992396941, 2.283600405624831, 2.2551306717581685, 2.2537754797787724, 2.246549826908905, 2.251831899660468, 2.2402064559023915, 2.291616864577852, 2.3006569343626095, 2.3010199148522754, 2.3201297710617133, 2.3295407855525316, 2.327243646520804, 2.3159304540509593, 2.3171715260629755, 2.289270762947712, 2.2834205880840766, 2.2690021212810634, 2.24532173133541, 2.2150835105311835, 2.2130437729578736, 2.2688058764088175, 2.2625427010174035, 2.318065865437883, 2.3225207978027096, 2.3598127755660823, 2.3566474203045993, 2.3793553931468523, 2.386860242859602, 2.3998767568297876, 2.3962735141288003, 2.423557437310177, 2.4230561239161275, 2.4139472870398344, 2.4227584445211234, 2.4057721928781843, 2.40854979784493, 2.423511950060557, 2.4104526787903366, 2.410988807003553, 2.4307767130166003, 2.4388318475041557, 2.470358864736311, 2.471511690042657, 2.4926241970296115, 2.4838682014683133, 2.5070838684749734, 2.4978570882801665, 2.5125868564978004, 2.5061518635540305, 2.5122242179993246, 2.527596700262652, 2.5235758430722073, 2.5302406855585544, 2.537379251690522, 2.562137527227208, 2.521508924773103, 2.52234086809412, 2.500506141102918, 2.5230489270834937, 2.544739700925676, 2.547511044487232, 2.5635653713872184, 2.565471597543868, 2.5734936798056878, 2.5770956071119504, 2.570684107004324, 2.579572147246092, 2.5617411832023285, 2.5658747901183867, 2.5643277694343345, 2.5593688492979885, 2.531625249407659, 2.5481964258883734, 2.572757713192202, 2.5804396095546958, 2.5797377954364173, 2.5589817493282636, 2.5481235766404726, 2.581097573574267, 2.578881711404547, 2.589872042551498, 2.5888715466747243, 2.589209193228852, 2.58388278719353, 2.597949880545226, 2.600971378069228, 2.611707918917497, 2.627951412798255, 2.641281909524013, 2.636537538599255, 2.638241235334336, 2.657450040292821, 2.6559217553641137, 2.6387816280294296, 2.6389426540608247, 2.6494822105763203, 2.6286404310581086, 2.675438560866934, 2.653723067728903, 2.6561262640845213, 2.6458299702791495, 2.637400096774382, 2.630919453621602, 2.6340413211309404, 2.641813928147587, 2.642958125173882, 2.632075019375255, 2.6518783035990894, 2.655674946530725, 2.6446189695258586, 2.6432854425844377, 2.596211948903179, 2.597220324970502, 2.5927128899704424, 2.601541773501616, 2.599795055840384, 2.6223065343282914, 2.6312714095312955, 2.651329760953642, 2.6454720991556018, 2.6433167521584346, 2.638312912864063, 2.629953505569809, 2.6307882547397203, 2.626889415896118, 2.625757490747844, 2.61770766006913, 2.6029647974616994, 2.5798902078371007, 2.608759789139965, 2.5912653987981864, 2.580698072014155, 2.6020881349565355, 2.590452638918926, 2.620959838728718, 2.6438583854326088, 2.647589857722339, 2.649358776506501, 2.655416050198113, 2.672006271318892, 2.67180082442481, 2.663814579787463, 2.661084213964223, 2.6682876005019085, 2.6753332209346548, 2.6795127943600083, 2.728678918629685, 2.736448045460377, 2.7374863514611794, 2.756008220186466, 2.759660543676433, 2.6846817084753094, 2.7008437353769663, 2.7201810641276563, 2.7349579897183536, 2.7417879193323897, 2.7494436749680258, 2.761362882608399, 2.7691566622143964, 2.768839136606717, 2.7616099260209324, 2.78006083971872, 2.8040157656873657, 2.8059873124904597, 2.799516147492652, 2.8050796759312986, 2.8204318386997334, 2.7676296406213847, 2.7584955808443903, 2.7741509715065145, 2.766831306743537, 2.7532179808962436, 2.742068715437436, 2.7742719424335753, 2.7543396091468435, 2.76843904870387, 2.782787698884819, 2.781108010846096, 2.778794200825732, 2.7449804297562412, 2.7808814128442165, 2.757786451998531, 2.7622716106410716], \"line\": {\"color\": \"#B6B2CF\"}}, {\"type\": \"scatter\", \"name\": \"ETF\", \"x\": [\"2013-07-01\", \"2013-07-02\", \"2013-07-03\", \"2013-07-05\", \"2013-07-08\", \"2013-07-09\", \"2013-07-10\", \"2013-07-11\", \"2013-07-12\", \"2013-07-15\", \"2013-07-16\", \"2013-07-17\", \"2013-07-18\", \"2013-07-19\", \"2013-07-22\", \"2013-07-23\", \"2013-07-24\", \"2013-07-25\", \"2013-07-26\", \"2013-07-29\", \"2013-07-30\", \"2013-07-31\", \"2013-08-01\", \"2013-08-02\", \"2013-08-05\", \"2013-08-06\", \"2013-08-07\", \"2013-08-08\", \"2013-08-09\", \"2013-08-12\", \"2013-08-13\", \"2013-08-14\", \"2013-08-15\", \"2013-08-16\", \"2013-08-19\", \"2013-08-20\", \"2013-08-21\", \"2013-08-22\", \"2013-08-23\", \"2013-08-26\", \"2013-08-27\", \"2013-08-28\", \"2013-08-29\", \"2013-08-30\", \"2013-09-03\", \"2013-09-04\", \"2013-09-05\", \"2013-09-06\", \"2013-09-09\", \"2013-09-10\", \"2013-09-11\", \"2013-09-12\", \"2013-09-13\", \"2013-09-16\", \"2013-09-17\", \"2013-09-18\", \"2013-09-19\", \"2013-09-20\", \"2013-09-23\", \"2013-09-24\", \"2013-09-25\", \"2013-09-26\", \"2013-09-27\", \"2013-09-30\", \"2013-10-01\", \"2013-10-02\", \"2013-10-03\", \"2013-10-04\", \"2013-10-07\", \"2013-10-08\", \"2013-10-09\", \"2013-10-10\", \"2013-10-11\", \"2013-10-14\", \"2013-10-15\", \"2013-10-16\", \"2013-10-17\", \"2013-10-18\", \"2013-10-21\", \"2013-10-22\", \"2013-10-23\", \"2013-10-24\", \"2013-10-25\", \"2013-10-28\", \"2013-10-29\", \"2013-10-30\", \"2013-10-31\", \"2013-11-01\", \"2013-11-04\", \"2013-11-05\", \"2013-11-06\", \"2013-11-07\", \"2013-11-08\", \"2013-11-11\", \"2013-11-12\", \"2013-11-13\", \"2013-11-14\", \"2013-11-15\", \"2013-11-18\", \"2013-11-19\", \"2013-11-20\", \"2013-11-21\", \"2013-11-22\", \"2013-11-25\", \"2013-11-26\", \"2013-11-27\", \"2013-11-29\", \"2013-12-02\", \"2013-12-03\", \"2013-12-04\", \"2013-12-05\", \"2013-12-06\", \"2013-12-09\", \"2013-12-10\", \"2013-12-11\", \"2013-12-12\", \"2013-12-13\", \"2013-12-16\", \"2013-12-17\", \"2013-12-18\", \"2013-12-19\", \"2013-12-20\", \"2013-12-23\", \"2013-12-24\", \"2013-12-26\", \"2013-12-27\", \"2013-12-30\", \"2013-12-31\", \"2014-01-02\", \"2014-01-03\", \"2014-01-06\", \"2014-01-07\", \"2014-01-08\", \"2014-01-09\", \"2014-01-10\", \"2014-01-13\", \"2014-01-14\", \"2014-01-15\", \"2014-01-16\", \"2014-01-17\", \"2014-01-21\", \"2014-01-22\", \"2014-01-23\", \"2014-01-24\", \"2014-01-27\", \"2014-01-28\", \"2014-01-29\", \"2014-01-30\", \"2014-01-31\", \"2014-02-03\", \"2014-02-04\", \"2014-02-05\", \"2014-02-06\", \"2014-02-07\", \"2014-02-10\", \"2014-02-11\", \"2014-02-12\", \"2014-02-13\", \"2014-02-14\", \"2014-02-18\", \"2014-02-19\", \"2014-02-20\", \"2014-02-21\", \"2014-02-24\", \"2014-02-25\", \"2014-02-26\", \"2014-02-27\", \"2014-02-28\", \"2014-03-03\", \"2014-03-04\", \"2014-03-05\", \"2014-03-06\", \"2014-03-07\", \"2014-03-10\", \"2014-03-11\", \"2014-03-12\", \"2014-03-13\", \"2014-03-14\", \"2014-03-17\", \"2014-03-18\", \"2014-03-19\", \"2014-03-20\", \"2014-03-21\", \"2014-03-24\", \"2014-03-25\", \"2014-03-26\", \"2014-03-27\", \"2014-03-28\", \"2014-03-31\", \"2014-04-01\", \"2014-04-02\", \"2014-04-03\", \"2014-04-04\", \"2014-04-07\", \"2014-04-08\", \"2014-04-09\", \"2014-04-10\", \"2014-04-11\", \"2014-04-14\", \"2014-04-15\", \"2014-04-16\", \"2014-04-17\", \"2014-04-21\", \"2014-04-22\", \"2014-04-23\", \"2014-04-24\", \"2014-04-25\", \"2014-04-28\", \"2014-04-29\", \"2014-04-30\", \"2014-05-01\", \"2014-05-02\", \"2014-05-05\", \"2014-05-06\", \"2014-05-07\", \"2014-05-08\", \"2014-05-09\", \"2014-05-12\", \"2014-05-13\", \"2014-05-14\", \"2014-05-15\", \"2014-05-16\", \"2014-05-19\", \"2014-05-20\", \"2014-05-21\", \"2014-05-22\", \"2014-05-23\", \"2014-05-27\", \"2014-05-28\", \"2014-05-29\", \"2014-05-30\", \"2014-06-02\", \"2014-06-03\", \"2014-06-04\", \"2014-06-05\", \"2014-06-06\", \"2014-06-09\", \"2014-06-10\", \"2014-06-11\", \"2014-06-12\", \"2014-06-13\", \"2014-06-16\", \"2014-06-17\", \"2014-06-18\", \"2014-06-19\", \"2014-06-20\", \"2014-06-23\", \"2014-06-24\", \"2014-06-25\", \"2014-06-26\", \"2014-06-27\", \"2014-06-30\", \"2014-07-01\", \"2014-07-02\", \"2014-07-03\", \"2014-07-07\", \"2014-07-08\", \"2014-07-09\", \"2014-07-10\", \"2014-07-11\", \"2014-07-14\", \"2014-07-15\", \"2014-07-16\", \"2014-07-17\", \"2014-07-18\", \"2014-07-21\", \"2014-07-22\", \"2014-07-23\", \"2014-07-24\", \"2014-07-25\", \"2014-07-28\", \"2014-07-29\", \"2014-07-30\", \"2014-07-31\", \"2014-08-01\", \"2014-08-04\", \"2014-08-05\", \"2014-08-06\", \"2014-08-07\", \"2014-08-08\", \"2014-08-11\", \"2014-08-12\", \"2014-08-13\", \"2014-08-14\", \"2014-08-15\", \"2014-08-18\", \"2014-08-19\", \"2014-08-20\", \"2014-08-21\", \"2014-08-22\", \"2014-08-25\", \"2014-08-26\", \"2014-08-27\", \"2014-08-28\", \"2014-08-29\", \"2014-09-02\", \"2014-09-03\", \"2014-09-04\", \"2014-09-05\", \"2014-09-08\", \"2014-09-09\", \"2014-09-10\", \"2014-09-11\", \"2014-09-12\", \"2014-09-15\", \"2014-09-16\", \"2014-09-17\", \"2014-09-18\", \"2014-09-19\", \"2014-09-22\", \"2014-09-23\", \"2014-09-24\", \"2014-09-25\", \"2014-09-26\", \"2014-09-29\", \"2014-09-30\", \"2014-10-01\", \"2014-10-02\", \"2014-10-03\", \"2014-10-06\", \"2014-10-07\", \"2014-10-08\", \"2014-10-09\", \"2014-10-10\", \"2014-10-13\", \"2014-10-14\", \"2014-10-15\", \"2014-10-16\", \"2014-10-17\", \"2014-10-20\", \"2014-10-21\", \"2014-10-22\", \"2014-10-23\", \"2014-10-24\", \"2014-10-27\", \"2014-10-28\", \"2014-10-29\", \"2014-10-30\", \"2014-10-31\", \"2014-11-03\", \"2014-11-04\", \"2014-11-05\", \"2014-11-06\", \"2014-11-07\", \"2014-11-10\", \"2014-11-11\", \"2014-11-12\", \"2014-11-13\", \"2014-11-14\", \"2014-11-17\", \"2014-11-18\", \"2014-11-19\", \"2014-11-20\", \"2014-11-21\", \"2014-11-24\", \"2014-11-25\", \"2014-11-26\", \"2014-11-28\", \"2014-12-01\", \"2014-12-02\", \"2014-12-03\", \"2014-12-04\", \"2014-12-05\", \"2014-12-08\", \"2014-12-09\", \"2014-12-10\", \"2014-12-11\", \"2014-12-12\", \"2014-12-15\", \"2014-12-16\", \"2014-12-17\", \"2014-12-18\", \"2014-12-19\", \"2014-12-22\", \"2014-12-23\", \"2014-12-24\", \"2014-12-26\", \"2014-12-29\", \"2014-12-30\", \"2014-12-31\", \"2015-01-02\", \"2015-01-05\", \"2015-01-06\", \"2015-01-07\", \"2015-01-08\", \"2015-01-09\", \"2015-01-12\", \"2015-01-13\", \"2015-01-14\", \"2015-01-15\", \"2015-01-16\", \"2015-01-20\", \"2015-01-21\", \"2015-01-22\", \"2015-01-23\", \"2015-01-26\", \"2015-01-27\", \"2015-01-28\", \"2015-01-29\", \"2015-01-30\", \"2015-02-02\", \"2015-02-03\", \"2015-02-04\", \"2015-02-05\", \"2015-02-06\", \"2015-02-09\", \"2015-02-10\", \"2015-02-11\", \"2015-02-12\", \"2015-02-13\", \"2015-02-17\", \"2015-02-18\", \"2015-02-19\", \"2015-02-20\", \"2015-02-23\", \"2015-02-24\", \"2015-02-25\", \"2015-02-26\", \"2015-02-27\", \"2015-03-02\", \"2015-03-03\", \"2015-03-04\", \"2015-03-05\", \"2015-03-06\", \"2015-03-09\", \"2015-03-10\", \"2015-03-11\", \"2015-03-12\", \"2015-03-13\", \"2015-03-16\", \"2015-03-17\", \"2015-03-18\", \"2015-03-19\", \"2015-03-20\", \"2015-03-23\", \"2015-03-24\", \"2015-03-25\", \"2015-03-26\", \"2015-03-27\", \"2015-03-30\", \"2015-03-31\", \"2015-04-01\", \"2015-04-02\", \"2015-04-06\", \"2015-04-07\", \"2015-04-08\", \"2015-04-09\", \"2015-04-10\", \"2015-04-13\", \"2015-04-14\", \"2015-04-15\", \"2015-04-16\", \"2015-04-17\", \"2015-04-20\", \"2015-04-21\", \"2015-04-22\", \"2015-04-23\", \"2015-04-24\", \"2015-04-27\", \"2015-04-28\", \"2015-04-29\", \"2015-04-30\", \"2015-05-01\", \"2015-05-04\", \"2015-05-05\", \"2015-05-06\", \"2015-05-07\", \"2015-05-08\", \"2015-05-11\", \"2015-05-12\", \"2015-05-13\", \"2015-05-14\", \"2015-05-15\", \"2015-05-18\", \"2015-05-19\", \"2015-05-20\", \"2015-05-21\", \"2015-05-22\", \"2015-05-26\", \"2015-05-27\", \"2015-05-28\", \"2015-05-29\", \"2015-06-01\", \"2015-06-02\", \"2015-06-03\", \"2015-06-04\", \"2015-06-05\", \"2015-06-08\", \"2015-06-09\", \"2015-06-10\", \"2015-06-11\", \"2015-06-12\", \"2015-06-15\", \"2015-06-16\", \"2015-06-17\", \"2015-06-18\", \"2015-06-19\", \"2015-06-22\", \"2015-06-23\", \"2015-06-24\", \"2015-06-25\", \"2015-06-26\", \"2015-06-29\", \"2015-06-30\", \"2015-07-01\", \"2015-07-02\", \"2015-07-06\", \"2015-07-07\", \"2015-07-08\", \"2015-07-09\", \"2015-07-10\", \"2015-07-13\", \"2015-07-14\", \"2015-07-15\", \"2015-07-16\", \"2015-07-17\", \"2015-07-20\", \"2015-07-21\", \"2015-07-22\", \"2015-07-23\", \"2015-07-24\", \"2015-07-27\", \"2015-07-28\", \"2015-07-29\", \"2015-07-30\", \"2015-07-31\", \"2015-08-03\", \"2015-08-04\", \"2015-08-05\", \"2015-08-06\", \"2015-08-07\", \"2015-08-10\", \"2015-08-11\", \"2015-08-12\", \"2015-08-13\", \"2015-08-14\", \"2015-08-17\", \"2015-08-18\", \"2015-08-19\", \"2015-08-20\", \"2015-08-21\", \"2015-08-24\", \"2015-08-25\", \"2015-08-26\", \"2015-08-27\", \"2015-08-28\", \"2015-08-31\", \"2015-09-01\", \"2015-09-02\", \"2015-09-03\", \"2015-09-04\", \"2015-09-08\", \"2015-09-09\", \"2015-09-10\", \"2015-09-11\", \"2015-09-14\", \"2015-09-15\", \"2015-09-16\", \"2015-09-17\", \"2015-09-18\", \"2015-09-21\", \"2015-09-22\", \"2015-09-23\", \"2015-09-24\", \"2015-09-25\", \"2015-09-28\", \"2015-09-29\", \"2015-09-30\", \"2015-10-01\", \"2015-10-02\", \"2015-10-05\", \"2015-10-06\", \"2015-10-07\", \"2015-10-08\", \"2015-10-09\", \"2015-10-12\", \"2015-10-13\", \"2015-10-14\", \"2015-10-15\", \"2015-10-16\", \"2015-10-19\", \"2015-10-20\", \"2015-10-21\", \"2015-10-22\", \"2015-10-23\", \"2015-10-26\", \"2015-10-27\", \"2015-10-28\", \"2015-10-29\", \"2015-10-30\", \"2015-11-02\", \"2015-11-03\", \"2015-11-04\", \"2015-11-05\", \"2015-11-06\", \"2015-11-09\", \"2015-11-10\", \"2015-11-11\", \"2015-11-12\", \"2015-11-13\", \"2015-11-16\", \"2015-11-17\", \"2015-11-18\", \"2015-11-19\", \"2015-11-20\", \"2015-11-23\", \"2015-11-24\", \"2015-11-25\", \"2015-11-27\", \"2015-11-30\", \"2015-12-01\", \"2015-12-02\", \"2015-12-03\", \"2015-12-04\", \"2015-12-07\", \"2015-12-08\", \"2015-12-09\", \"2015-12-10\", \"2015-12-11\", \"2015-12-14\", \"2015-12-15\", \"2015-12-16\", \"2015-12-17\", \"2015-12-18\", \"2015-12-21\", \"2015-12-22\", \"2015-12-23\", \"2015-12-24\", \"2015-12-28\", \"2015-12-29\", \"2015-12-30\", \"2015-12-31\", \"2016-01-04\", \"2016-01-05\", \"2016-01-06\", \"2016-01-07\", \"2016-01-08\", \"2016-01-11\", \"2016-01-12\", \"2016-01-13\", \"2016-01-14\", \"2016-01-15\", \"2016-01-19\", \"2016-01-20\", \"2016-01-21\", \"2016-01-22\", \"2016-01-25\", \"2016-01-26\", \"2016-01-27\", \"2016-01-28\", \"2016-01-29\", \"2016-02-01\", \"2016-02-02\", \"2016-02-03\", \"2016-02-04\", \"2016-02-05\", \"2016-02-08\", \"2016-02-09\", \"2016-02-10\", \"2016-02-11\", \"2016-02-12\", \"2016-02-16\", \"2016-02-17\", \"2016-02-18\", \"2016-02-19\", \"2016-02-22\", \"2016-02-23\", \"2016-02-24\", \"2016-02-25\", \"2016-02-26\", \"2016-02-29\", \"2016-03-01\", \"2016-03-02\", \"2016-03-03\", \"2016-03-04\", \"2016-03-07\", \"2016-03-08\", \"2016-03-09\", \"2016-03-10\", \"2016-03-11\", \"2016-03-14\", \"2016-03-15\", \"2016-03-16\", \"2016-03-17\", \"2016-03-18\", \"2016-03-21\", \"2016-03-22\", \"2016-03-23\", \"2016-03-24\", \"2016-03-28\", \"2016-03-29\", \"2016-03-30\", \"2016-03-31\", \"2016-04-01\", \"2016-04-04\", \"2016-04-05\", \"2016-04-06\", \"2016-04-07\", \"2016-04-08\", \"2016-04-11\", \"2016-04-12\", \"2016-04-13\", \"2016-04-14\", \"2016-04-15\", \"2016-04-18\", \"2016-04-19\", \"2016-04-20\", \"2016-04-21\", \"2016-04-22\", \"2016-04-25\", \"2016-04-26\", \"2016-04-27\", \"2016-04-28\", \"2016-04-29\", \"2016-05-02\", \"2016-05-03\", \"2016-05-04\", \"2016-05-05\", \"2016-05-06\", \"2016-05-09\", \"2016-05-10\", \"2016-05-11\", \"2016-05-12\", \"2016-05-13\", \"2016-05-16\", \"2016-05-17\", \"2016-05-18\", \"2016-05-19\", \"2016-05-20\", \"2016-05-23\", \"2016-05-24\", \"2016-05-25\", \"2016-05-26\", \"2016-05-27\", \"2016-05-31\", \"2016-06-01\", \"2016-06-02\", \"2016-06-03\", \"2016-06-06\", \"2016-06-07\", \"2016-06-08\", \"2016-06-09\", \"2016-06-10\", \"2016-06-13\", \"2016-06-14\", \"2016-06-15\", \"2016-06-16\", \"2016-06-17\", \"2016-06-20\", \"2016-06-21\", \"2016-06-22\", \"2016-06-23\", \"2016-06-24\", \"2016-06-27\", \"2016-06-28\", \"2016-06-29\", \"2016-06-30\", \"2016-07-01\", \"2016-07-05\", \"2016-07-06\", \"2016-07-07\", \"2016-07-08\", \"2016-07-11\", \"2016-07-12\", \"2016-07-13\", \"2016-07-14\", \"2016-07-15\", \"2016-07-18\", \"2016-07-19\", \"2016-07-20\", \"2016-07-21\", \"2016-07-22\", \"2016-07-25\", \"2016-07-26\", \"2016-07-27\", \"2016-07-28\", \"2016-07-29\", \"2016-08-01\", \"2016-08-02\", \"2016-08-03\", \"2016-08-04\", \"2016-08-05\", \"2016-08-08\", \"2016-08-09\", \"2016-08-10\", \"2016-08-11\", \"2016-08-12\", \"2016-08-15\", \"2016-08-16\", \"2016-08-17\", \"2016-08-18\", \"2016-08-19\", \"2016-08-22\", \"2016-08-23\", \"2016-08-24\", \"2016-08-25\", \"2016-08-26\", \"2016-08-29\", \"2016-08-30\", \"2016-08-31\", \"2016-09-01\", \"2016-09-02\", \"2016-09-06\", \"2016-09-07\", \"2016-09-08\", \"2016-09-09\", \"2016-09-12\", \"2016-09-13\", \"2016-09-14\", \"2016-09-15\", \"2016-09-16\", \"2016-09-19\", \"2016-09-20\", \"2016-09-21\", \"2016-09-22\", \"2016-09-23\", \"2016-09-26\", \"2016-09-27\", \"2016-09-28\", \"2016-09-29\", \"2016-09-30\", \"2016-10-03\", \"2016-10-04\", \"2016-10-05\", \"2016-10-06\", \"2016-10-07\", \"2016-10-10\", \"2016-10-11\", \"2016-10-12\", \"2016-10-13\", \"2016-10-14\", \"2016-10-17\", \"2016-10-18\", \"2016-10-19\", \"2016-10-20\", \"2016-10-21\", \"2016-10-24\", \"2016-10-25\", \"2016-10-26\", \"2016-10-27\", \"2016-10-28\", \"2016-10-31\", \"2016-11-01\", \"2016-11-02\", \"2016-11-03\", \"2016-11-04\", \"2016-11-07\", \"2016-11-08\", \"2016-11-09\", \"2016-11-10\", \"2016-11-11\", \"2016-11-14\", \"2016-11-15\", \"2016-11-16\", \"2016-11-17\", \"2016-11-18\", \"2016-11-21\", \"2016-11-22\", \"2016-11-23\", \"2016-11-25\", \"2016-11-28\", \"2016-11-29\", \"2016-11-30\", \"2016-12-01\", \"2016-12-02\", \"2016-12-05\", \"2016-12-06\", \"2016-12-07\", \"2016-12-08\", \"2016-12-09\", \"2016-12-12\", \"2016-12-13\", \"2016-12-14\", \"2016-12-15\", \"2016-12-16\", \"2016-12-19\", \"2016-12-20\", \"2016-12-21\", \"2016-12-22\", \"2016-12-23\", \"2016-12-27\", \"2016-12-28\", \"2016-12-29\", \"2016-12-30\", \"2017-01-03\", \"2017-01-04\", \"2017-01-05\", \"2017-01-06\", \"2017-01-09\", \"2017-01-10\", \"2017-01-11\", \"2017-01-12\", \"2017-01-13\", \"2017-01-17\", \"2017-01-18\", \"2017-01-19\", \"2017-01-20\", \"2017-01-23\", \"2017-01-24\", \"2017-01-25\", \"2017-01-26\", \"2017-01-27\", \"2017-01-30\", \"2017-01-31\", \"2017-02-01\", \"2017-02-02\", \"2017-02-03\", \"2017-02-06\", \"2017-02-07\", \"2017-02-08\", \"2017-02-09\", \"2017-02-10\", \"2017-02-13\", \"2017-02-14\", \"2017-02-15\", \"2017-02-16\", \"2017-02-17\", \"2017-02-21\", \"2017-02-22\", \"2017-02-23\", \"2017-02-24\", \"2017-02-27\", \"2017-02-28\", \"2017-03-01\", \"2017-03-02\", \"2017-03-03\", \"2017-03-06\", \"2017-03-07\", \"2017-03-08\", \"2017-03-09\", \"2017-03-10\", \"2017-03-13\", \"2017-03-14\", \"2017-03-15\", \"2017-03-16\", \"2017-03-17\", \"2017-03-20\", \"2017-03-21\", \"2017-03-22\", \"2017-03-23\", \"2017-03-24\", \"2017-03-27\", \"2017-03-28\", \"2017-03-29\", \"2017-03-30\", \"2017-03-31\", \"2017-04-03\", \"2017-04-04\", \"2017-04-05\", \"2017-04-06\", \"2017-04-07\", \"2017-04-10\", \"2017-04-11\", \"2017-04-12\", \"2017-04-13\", \"2017-04-17\", \"2017-04-18\", \"2017-04-19\", \"2017-04-20\", \"2017-04-21\", \"2017-04-24\", \"2017-04-25\", \"2017-04-26\", \"2017-04-27\", \"2017-04-28\", \"2017-05-01\", \"2017-05-02\", \"2017-05-03\", \"2017-05-04\", \"2017-05-05\", \"2017-05-08\", \"2017-05-09\", \"2017-05-10\", \"2017-05-11\", \"2017-05-12\", \"2017-05-15\", \"2017-05-16\", \"2017-05-17\", \"2017-05-18\", \"2017-05-19\", \"2017-05-22\", \"2017-05-23\", \"2017-05-24\", \"2017-05-25\", \"2017-05-26\", \"2017-05-30\", \"2017-05-31\", \"2017-06-01\", \"2017-06-02\", \"2017-06-05\", \"2017-06-06\", \"2017-06-07\", \"2017-06-08\", \"2017-06-09\", \"2017-06-12\", \"2017-06-13\", \"2017-06-14\", \"2017-06-15\", \"2017-06-16\", \"2017-06-19\", \"2017-06-20\", \"2017-06-21\", \"2017-06-22\", \"2017-06-23\", \"2017-06-26\", \"2017-06-27\", \"2017-06-28\", \"2017-06-29\", \"2017-06-30\"], \"y\": [null, 0.9968589988052922, 1.00581271546485, 1.0271548984263343, 1.0288015572045144, 1.0272093736901171, 1.0248724877394786, 1.033370342337189, 1.0364081692059761, 1.0312570940817805, 1.0333443733807322, 1.033914116574472, 1.044735064222556, 1.043487166503327, 1.049368575097812, 1.049846476432626, 1.0380298545979205, 1.037173989173192, 1.0380933887951396, 1.031253811739609, 1.0227498829840225, 1.0286569608294298, 1.048049028850069, 1.0589831802210397, 1.055350167604484, 1.0522982857779228, 1.054428293288893, 1.0636066492110439, 1.0581217016041162, 1.0622042484434853, 1.0699982004983213, 1.0676177154245041, 1.0565870496406786, 1.0550146806105445, 1.0496935199902633, 1.051763176699855, 1.045131593946964, 1.0543483188890956, 1.0581442892029223, 1.0557919702358036, 1.0391900938905743, 1.0419014440700831, 1.0430139769625808, 1.039851079808026, 1.0461602337814908, 1.0540621257588068, 1.0549259539685818, 1.055394749407496, 1.0657464453215504, 1.0719779951094224, 1.0727283274744455, 1.07185205937905, 1.0738565692481432, 1.0767374935401848, 1.0817406423981648, 1.0943160986456228, 1.0956972919829884, 1.0889299023259398, 1.0890196456396724, 1.0862375874365013, 1.0820543658797297, 1.087240718618614, 1.0836937027028337, 1.0776599466804393, 1.087291175956496, 1.0850330859485824, 1.0751444817857365, 1.0808669554650747, 1.0732393668339568, 1.06082538743201, 1.0616022206772486, 1.0845399674677725, 1.0915689909630957, 1.0973877265898824, 1.090846255682168, 1.1057359512668383, 1.112983590691035, 1.116784731313671, 1.1186022075078637, 1.1270033646828734, 1.1218773650409968, 1.1287507857267853, 1.1298007671272354, 1.1337227221265727, 1.137947779924198, 1.1310529856944334, 1.1273274595055378, 1.1318296629534477, 1.1346580843259462, 1.1315362063569092, 1.1355865492437822, 1.119264381301182, 1.1349766486522928, 1.1344853946304103, 1.133295075866453, 1.1413547698381246, 1.147418202751741, 1.1498784611936441, 1.1473659278221258, 1.1423282676043116, 1.1364081862478244, 1.1453234645843504, 1.1492594275779995, 1.1490764433958855, 1.1499928383694897, 1.155258429833661, 1.1558459489246713, 1.1511880374886234, 1.1498679391292472, 1.1475184067492437, 1.1462056899220212, 1.1564287277950065, 1.1604579367750545, 1.1590302367938516, 1.150084501114664, 1.1453363925749012, 1.1454012527234954, 1.1520810766379839, 1.1486178562219784, 1.1667806649553942, 1.1648663148338683, 1.1703647346683146, 1.1780155035496684, 1.182945475647048, 1.1901922219336052, 1.1903947245191613, 1.1909162328399048, 1.1963323814421212, 1.1891594741880551, 1.1862811191753257, 1.1831028017032486, 1.1913668597522415, 1.1906322713486366, 1.1880954440584917, 1.1891181142433382, 1.1756229730881766, 1.1856811094282953, 1.1942776565748272, 1.1930558918813283, 1.1892480103529863, 1.188639466080029, 1.1885506419063805, 1.179008723132693, 1.1543786702781174, 1.1511551647119667, 1.1525835420745039, 1.138604348417466, 1.1509180371640912, 1.1504141529242211, 1.1253643149606933, 1.133805327455637, 1.1327432525467467, 1.1479270598625109, 1.1636432744579563, 1.1659877870190791, 1.1800187785108835, 1.179438160908858, 1.1849996144757313, 1.1923441806522002, 1.1934850737700728, 1.185841920402698, 1.1913433281815233, 1.1897185941234516, 1.1974453818506874, 1.195255258180316, 1.195224888767412, 1.2042856762619094, 1.2083270787490306, 1.2021162118459583, 1.2196996441331691, 1.2193034374793286, 1.2219908881033354, 1.2214190985577291, 1.2190696833125823, 1.2146337993161815, 1.2150447478941073, 1.1996099811464926, 1.1966938782624776, 1.207713656614896, 1.215754076819376, 1.2067041951021609, 1.2113652455027315, 1.2078433330612803, 1.2060727117576824, 1.2118283913196322, 1.2043249383814407, 1.2031370182322592, 1.209699920158908, 1.2196428147302107, 1.2284576911049807, 1.2334228548849802, 1.2372865956399095, 1.1869911467504473, 1.17649336832326, 1.2078948422604632, 1.2277327575150592, 1.1868609492906024, 1.1691328978285496, 1.1839919646609003, 1.1908284588041202, 1.2202856049892834, 1.1838373808954499, 1.1772600111218317, 1.1893843810832734, 1.1741355363972041, 1.1700895753270635, 1.1477326084529766, 1.148374412811696, 1.174033381519224, 1.1717376049149466, 1.17840879266183, 1.1706749748848015, 1.1736062579652762, 1.1486401934727768, 1.1412709225640467, 1.145140114047731, 1.1573836949505822, 1.18064907385124, 1.1867759541208347, 1.1728687046320847, 1.161457861139857, 1.1608581244668057, 1.1805407205284024, 1.1817557810945782, 1.2003869400237681, 1.2112225348131223, 1.2268964256827135, 1.2479773133914795, 1.2401999051604744, 1.2419801628020213, 1.2439261214107433, 1.2313675196282228, 1.213505672122397, 1.2128252795839658, 1.2336717737268588, 1.2362870421865064, 1.2460440923757266, 1.2427361777769133, 1.2405209840268752, 1.2249455964513687, 1.2272499262787693, 1.213523595854075, 1.2102632583421569, 1.2292553506801092, 1.2370793561378746, 1.23941632814054, 1.2506144127435337, 1.244923680456679, 1.2671159341242688, 1.26472969984629, 1.2665126321968225, 1.2650537308496594, 1.277313495530986, 1.2767270456508586, 1.2829382267197469, 1.2776513700337528, 1.2572322548872579, 1.266805857018105, 1.259177040391797, 1.2704574482306703, 1.2843552678848513, 1.2822403277421415, 1.2808313215189013, 1.262042453443403, 1.301832446298072, 1.291943227924968, 1.303113570651476, 1.3050297263754496, 1.3002577188728908, 1.2919306359728158, 1.2920253702987736, 1.2822142512816976, 1.2842235107137643, 1.2540582778770117, 1.2443972394019713, 1.2590908904469003, 1.2425669302672253, 1.2428733140902084, 1.2375431444111242, 1.2515430308437714, 1.2531526838387683, 1.246798912538135, 1.2669181240741392, 1.2700413474185661, 1.2691316392946477, 1.2871496639544289, 1.29597278079225, 1.2959699724582905, 1.2921715374610916, 1.2918001431912263, 1.2896360306146992, 1.285973466247157, 1.2788749296929884, 1.2742081723579561, 1.2778611999950484, 1.287698589776191, 1.2891393617640678, 1.2949601117595908, 1.3037313243658761, 1.3079464305481452, 1.2925689508455573, 1.2955631217159, 1.29313323521642, 1.2815384858645809, 1.2770802978294904, 1.2904464988087738, 1.300239159264116, 1.307254422633309, 1.3191711489198172, 1.3037002015162564, 1.2924809426576804, 1.3064887803912801, 1.2804603271050026, 1.2891854635335909, 1.2878164702487989, 1.28857553241327, 1.268194072270758, 1.2703602256058453, 1.2858810825783542, 1.2875537641484152, 1.2591968214265972, 1.280133815739902, 1.2520784689300175, 1.2211765506559262, 1.1968331315364218, 1.2057377773473026, 1.1917549940369205, 1.1935176987641634, 1.1794116778476247, 1.1951158158471484, 1.2114252763581637, 1.2140350433278164, 1.2410415984172907, 1.2385346997423814, 1.2399249534170091, 1.2583425340844392, 1.2560980404615003, 1.2607488134950937, 1.2768614515568848, 1.2686788304189223, 1.2678301058316817, 1.2584815765501218, 1.256274692858087, 1.2565402264110588, 1.2698295788415928, 1.2755177642648137, 1.2703401583403762, 1.2677909451637335, 1.2670311269454444, 1.2537350446328515, 1.2520214171657993, 1.2558572274724462, 1.2514881886403237, 1.2577535306392411, 1.2622935957898276, 1.2638144173848036, 1.263508171069787, 1.257081033653518, 1.238873388648596, 1.2444698352299572, 1.2454666208286391, 1.2514852288557528, 1.2285841898918624, 1.2241885825816752, 1.2335951847183013, 1.2129366357469544, 1.2209873018799318, 1.1981485215680783, 1.187143358563725, 1.159047179092756, 1.1799430338818397, 1.2040704007432006, 1.2137464152014898, 1.2356622916379685, 1.2467406904921916, 1.2432119027127244, 1.2512314916339249, 1.2454368091196117, 1.240391911950681, 1.2291366334486906, 1.2264716722718194, 1.2006028328069855, 1.176449315109331, 1.1784537170160463, 1.191641511882201, 1.1779333806457382, 1.1689577810416945, 1.1728993613629375, 1.176551000463007, 1.17067810148646, 1.1850951901124198, 1.1869346206394353, 1.2043526529732884, 1.2401805358182523, 1.2452348485764002, 1.2410271505959263, 1.2131252237437775, 1.1947456113609929, 1.2000645678821524, 1.2287827398728521, 1.2273104294239097, 1.2376382588946626, 1.2232553713855991, 1.2342300890609568, 1.2380801645916288, 1.2278298460568131, 1.24908247554636, 1.2477971477758305, 1.2647780219681408, 1.2730911414579096, 1.264572778620642, 1.2618518139986867, 1.265165425540774, 1.2624009971847454, 1.2521750974490926, 1.2564841297476723, 1.2685738565823916, 1.283049408009647, 1.2859996125835216, 1.3058822960367675, 1.3070254990608978, 1.3046150797872043, 1.30876373600095, 1.2896998338577845, 1.2935402131260265, 1.2649414305363582, 1.2570422850055334, 1.2694402811027017, 1.2550669733147541, 1.2743267673844374, 1.2668698103966098, 1.2847211342527278, 1.2800841381695014, 1.2847665703634945, 1.2796784277798028, 1.2939294430289099, 1.2726361963804582, 1.2635506301147978, 1.2557075262231454, 1.2674459107567029, 1.2524462638878218, 1.242676961166586, 1.2328036492238303, 1.238224309595695, 1.2408472448282246, 1.2472522614512733, 1.2511275603826943, 1.255621830457122, 1.249635317348094, 1.2374448149269635, 1.2406665543670605, 1.2452458201428358, 1.2262000887966367, 1.2491154167268124, 1.2445892339365427, 1.2571920212912748, 1.2657940897907887, 1.2878581697744789, 1.276100975354778, 1.2757629604395302, 1.266292815060358, 1.2453009195099756, 1.2542316988610296, 1.2578654944749683, 1.2379566601729672, 1.2270073449192582, 1.2380202632615385, 1.2527149314155286, 1.2447361737055418, 1.2326155642340162, 1.229268736328571, 1.2453213255046711, 1.2446549098628539, 1.2455907566783906, 1.2485547301815016, 1.2518491554727886, 1.2610514840672702, 1.2555782554680506, 1.239890063420609, 1.2525941061303068, 1.2502110003617806, 1.2350606412884184, 1.2420298716017115, 1.2481827513251569, 1.2514113556463742, 1.2444476114816854, 1.2413151396068822, 1.228290543688239, 1.2255291838428066, 1.2436133628559956, 1.242857561056964, 1.2357843337696646, 1.2281414834819318, 1.2326117847075708, 1.2368000759710742, 1.254594728367033, 1.2525696979474348, 1.2573736664558801, 1.2619337278207727, 1.248415298777392, 1.2446788543914173, 1.2379002200957396, 1.213103457740466, 1.2127521586973604, 1.2208244728593802, 1.2268612805915884, 1.2225861343139477, 1.2343747329208519, 1.2142220274798303, 1.2192252083916357, 1.2409647799563115, 1.2647267675972698, 1.2820252946599942, 1.2803528752642075, 1.3042135329596487, 1.4302297303231115, 1.4295500220075261, 1.4310531320702775, 1.426829584228364, 1.3931401448319618, 1.3654013188054452, 1.3656501751575072, 1.3801529205990968, 1.3885733099334185, 1.3913429983720804, 1.3807514546693502, 1.3855223808718387, 1.3790868945035077, 1.3922562449717764, 1.3840793628688735, 1.3750883226289745, 1.381685594951481, 1.4054541405109622, 1.4086849207172891, 1.4009949048033528, 1.4055529557627564, 1.4126507909137866, 1.404119917825865, 1.4041523182055335, 1.3729188132131842, 1.3138597660770686, 1.2608213093980432, 1.246620130628496, 1.320526884778602, 1.3475536185619752, 1.3407049429802083, 1.322679948829505, 1.2850735871268826, 1.3132277027139216, 1.3063032053852706, 1.2881383557356674, 1.3189757262450843, 1.310372492864456, 1.3205497806646314, 1.3248215393924903, 1.3182870305419632, 1.3419276104660895, 1.351582603231109, 1.3559233978026324, 1.3331235854616774, 1.3415839486743901, 1.3183775762625372, 1.3141127407218143, 1.3132366705261285, 1.299185757730592, 1.2661735778474914, 1.2675957950121173, 1.294549063159241, 1.3038317374561614, 1.3347245075873257, 1.362005721061401, 1.362527676054067, 1.368358116687267, 1.3697735730006109, 1.375323391508733, 1.3779835131645395, 1.380482734201149, 1.373092074315552, 1.3960227273907817, 1.397658578665711, 1.4003009622393183, 1.3790021887375246, 1.3673451965153396, 1.3981489707616976, 1.4463797355970887, 1.454064392074604, 1.4461591711800128, 1.4564954102487373, 1.4660543612759807, 1.4548238055058655, 1.4720195631441222, 1.4765840656021485, 1.4805065844113408, 1.4822111150253958, 1.481715194551143, 1.4683101716568985, 1.4692618653177019, 1.4727940869524292, 1.4553377507201295, 1.4322100727214604, 1.4531721198651115, 1.448971933125599, 1.4737626524600957, 1.4732223985283694, 1.4909900171665775, 1.4874413872090395, 1.4828242343416804, 1.4821595654787425, 1.4846675632205772, 1.473833961717932, 1.5004540727181135, 1.485116536463494, 1.4626549270350233, 1.4813632496886913, 1.4685599442889945, 1.461665767224511, 1.4513941347444728, 1.4504528005732218, 1.4289721796011383, 1.4426654259048217, 1.4460623214413106, 1.4748437099835645, 1.4545313050298145, 1.4282949296151193, 1.4365450803068653, 1.4521538521811022, 1.4638051166609942, 1.4598372776133766, 1.4725196541294434, 1.491182032292357, 1.4823370928206114, 1.4652241452890356, 1.4403219547219321, 1.4422391947099154, 1.4269861530114596, 1.391907854088694, 1.3783892065603227, 1.3822646361583102, 1.400040013056688, 1.3570240450685176, 1.3809352273082784, 1.349904466552036, 1.3587451644896624, 1.350248831699133, 1.3592090497799945, 1.3855515259737161, 1.3639880991101911, 1.3752997791215367, 1.3524248970783723, 1.3806547078131532, 1.410590478787959, 1.4220208858351868, 1.4167765544476172, 1.3945806151553817, 1.3826631081561012, 1.3476147296587548, 1.344965738510141, 1.3402767481515503, 1.3438740769793023, 1.3354771934497682, 1.3511760083975963, 1.3758603035296395, 1.401031022474831, 1.38422662719965, 1.390856235320574, 1.4093759577571405, 1.3854544405471225, 1.394472692820123, 1.407848552557532, 1.4034921640607128, 1.3897523153573639, 1.4282386855019733, 1.4260148351077437, 1.4229050458101205, 1.4256827769823592, 1.410732025282953, 1.3989286679376547, 1.4172566907123105, 1.4230090657144128, 1.446884839567168, 1.4506466036338406, 1.4477751333032893, 1.459744791507406, 1.470526561103525, 1.4734543622019574, 1.480903669776612, 1.4745585891591824, 1.4661314727793988, 1.463274135206841, 1.4575998272503001, 1.4756647643404792, 1.481755144511844, 1.4729374177716352, 1.4810682697689759, 1.4748273865911523, 1.4659481707778084, 1.482902513706632, 1.4680422958973605, 1.4718023864597587, 1.4676172191015564, 1.4828834801624098, 1.5002957835422859, 1.5056705838326927, 1.5067040450975833, 1.517511929719317, 1.509614760826418, 1.5124337381652029, 1.520102277291991, 1.4828524484659826, 1.481491600004219, 1.4688494865202013, 1.4689075187487224, 1.4443401120307706, 1.4418357573164193, 1.4534125492997456, 1.440146797162796, 1.4366371200368278, 1.4391717042235848, 1.4522639905263486, 1.4537286494543398, 1.4743035516668888, 1.4573233065439095, 1.4536305894790311, 1.4425242268460683, 1.45388080526813, 1.4384906251334568, 1.439045314884207, 1.4285140127065517, 1.4402296841772377, 1.4337533727834446, 1.4567469567599656, 1.4699429977897776, 1.4688933654930711, 1.4826796871792813, 1.484870448147216, 1.4838399075274178, 1.482756893099932, 1.4763996543567548, 1.4745222952259867, 1.4795788416819555, 1.4950789761181045, 1.4944515192902275, 1.4794603131859991, 1.4735894450472684, 1.4735096713588398, 1.4712193107718459, 1.463897756231634, 1.4439429376125916, 1.4510569021482878, 1.455071981517386, 1.4544856978007181, 1.4686508420540294, 1.4099756202324873, 1.391616737511202, 1.4141137469142064, 1.430409844806369, 1.4468278353335502, 1.4560048804431662, 1.4455615977338152, 1.4530691679777992, 1.4530075020123352, 1.4774410092092636, 1.4920741860205708, 1.503889384416464, 1.5035912418056503, 1.5161337407253515, 1.5151384883050663, 1.535273427909756, 1.534461604162313, 1.540115434576902, 1.536814980560018, 1.5480404198590767, 1.5438644104658712, 1.5484893152067885, 1.5501274896303219, 1.5560364366855424, 1.5809621175359805, 1.5888188874742082, 1.5815118450494197, 1.585473744222263, 1.583825042120827, 1.6000138804606296, 1.5985766354163915, 1.5994636867105145, 1.598339676684992, 1.603398063346837, 1.5994810103519577, 1.602980705934961, 1.5957455618802812, 1.6022968798514636, 1.6023643547098219, 1.59723649429572, 1.5931246216468955, 1.5944963137333683, 1.5880105712752801, 1.583437047297592, 1.583522061436959, 1.5916496028590719, 1.58607116622942, 1.582493021948813, 1.5843859454719464, 1.5920218211363422, 1.6060248621123232, 1.606847061005273, 1.602872434966255, 1.5683333665103798, 1.590558519740956, 1.5689730028096625, 1.570299418383881, 1.5870774194917951, 1.5796846008510275, 1.5768983899159852, 1.581181243049516, 1.5967099857095277, 1.6110869548800129, 1.60461655747528, 1.586599286147778, 1.5991627392095502, 1.6055608579373828, 1.59408509613209, 1.6032963229059056, 1.5982057602519182, 1.5959067880771314, 1.6000988579416373, 1.6014978637250397, 1.5957437258287577, 1.6104511923370326, 1.5972221565422768, 1.5986457929009463, 1.5908469241390566, 1.591669056849833, 1.5911718728095836, 1.6067592158138582, 1.616263605676788, 1.5957709208745958, 1.5975261988150167, 1.6109213580808206, 1.6046823620576796, 1.5975983895242698, 1.5919977912135241, 1.5905775671137163, 1.5799123411554, 1.5719278030767612, 1.553587114449669, 1.5433646053191759, 1.5401985081524348, 1.575465222124071, 1.5855482411823656, 1.5957517805172676, 1.5786522860200631, 1.5704707419374742, 1.5548288292375465, 1.582034412107854, 1.5848887195240058, 1.5952691629866906, 1.5868051183075358, 1.6026693821431035, 1.6044429744652515, 1.6012554320793997, 1.6058400995650595, 1.6064980126785786, 1.6095226098309299, 1.5978553409261316, 1.5867874310963388, 1.5888299893729443, 1.6040537010056695, 1.6048063937250747, 1.6327001765385594, 1.6341278505238408, 1.6538082581726028, 1.6518820416057485, 1.6631921810151553, 1.6585661340455062, 1.6613087410538445, 1.6540287450080156, 1.65726052960316, 1.6630325421320733, 1.6593555135055513, 1.6570648414594382, 1.6560013288271511, 1.6606967144186837, 1.6486156121881033, 1.6465832274840861, 1.6318642065935436, 1.651089350952136, 1.6547211593250521, 1.658599504085055, 1.6766024040915812, 1.6745846703042881, 1.6737077169283707, 1.6799938060931758, 1.6781005393809583, 1.6804300526170486, 1.6748342082649288, 1.6774384140367442, 1.675025013307645, 1.6838577488028954, 1.6950071815784427, 1.7037751845168798, 1.7201182813344418, 1.7205120898603607, 1.7110728020423684, 1.6851692095442674, 1.6770379594873492, 1.6736586328908059, 1.6771624899463262, 1.6866925108791075, 1.6855740374870112, 1.6935401336430054, 1.6959319385287699, 1.700048579298485, 1.70949800920106, 1.717526311757217, 1.7230688058193637, 1.7269120721456892, 1.728015477532227, 1.7335459178779828, 1.7403189747349828, 1.7391211095580397, 1.7358658222642767, 1.7375747456268429, 1.742439645452661, 1.735394633503637, 1.7611486078909067, 1.74804299536475, 1.7472492164175453, 1.7438142366072704, 1.743387368102875, 1.740431430411142, 1.7438659800901655, 1.749097510471751, 1.7525867710029186, 1.7484583557065083, 1.7591893152749907, 1.7580917295249583, 1.761180540064787, 1.7556709027879687, 1.7295592777122095, 1.7316916041198074, 1.7203838255817765, 1.7145829450321886, 1.717337247774523, 1.726478853053447, 1.7350119128481372, 1.739318991342354, 1.7343541552773962, 1.741469586257243, 1.7427546278431458, 1.7348862923639807, 1.7339132888729174, 1.7304504247409458, 1.7317628248761423, 1.7296712120197555, 1.7258750772362461, 1.718193312331387, 1.7388507677224136, 1.7347850712309592, 1.734225855191175, 1.7415491255477447, 1.7386194225856204, 1.7648835587983616, 1.7832566760776971, 1.7837138092039617, 1.7893867499938594, 1.8147989701867029, 1.8204861599344828, 1.8237310617666052, 1.832904339854368, 1.8361269905403388, 1.8353469249454963, 1.8402589698901843, 1.8393462813679176, 1.8375083559529406, 1.8382147567205513, 1.8376728371719238, 1.8469349978755516, 1.8513996628221647, 1.8107136713883838, 1.8209042319222362, 1.8296027820476999, 1.8419597876223386, 1.8502077531978265, 1.8581948534835688, 1.8753341318846841, 1.8786888882877821, 1.8789125345706934, 1.8710341266489168, 1.8803574856186391, 1.8918868704513918, 1.8961037765575344, 1.8868763991596005, 1.8911925376571959, 1.8953784213159703, 1.8692712072817854, 1.8629773021138392, 1.8749711145809405, 1.8688267563076075, 1.8618059884797342, 1.860102705504535, 1.882593283748477, 1.868373646237808, 1.8749394111945739, 1.8732633073879346, 1.883416594214783, 1.8722830649395845, 1.844713922347811, 1.8643533682809437, 1.8361071624027896, 1.8336640503815789], \"line\": {\"color\": \"#2D3ECF\"}}], {\"title\": \"Smart Beta ETF vs Index\", \"xaxis\": {\"title\": \"Date\"}, \"yaxis\": {\"title\": \"Cumulative Returns\", \"range\": [0, 3]}}, {\"showLink\": false, \"linkText\": \"Export to plot.ly\", \"displayModeBar\": false})});</script>"
      ]
     },
     "metadata": {},
     "output_type": "execute_result"
    }
   ],
   "source": [
    "index_weighted_cumulative_returns = calculate_cumulative_returns(index_weighted_returns)\n",
    "etf_weighted_cumulative_returns = calculate_cumulative_returns(etf_weighted_returns)\n",
    "project_helper.plot_benchmark_returns(index_weighted_cumulative_returns, etf_weighted_cumulative_returns, 'Smart Beta ETF vs Index')"
   ]
  },
  {
   "cell_type": "markdown",
   "metadata": {},
   "source": [
    "## Tracking Error\n",
    "In order to check the performance of the smart beta portfolio, we can calculate the annualized tracking error against the index. Implement `tracking_error` to return the tracking error between the ETF and benchmark.\n",
    "\n",
    "For reference, we'll be using the following annualized tracking error function:\n",
    "$$ TE = \\sqrt{252} * SampleStdev(r_p - r_b) $$\n",
    "\n",
    "Where $ r_p $ is the portfolio/ETF returns and $ r_b $ is the benchmark returns.\n",
    "\n",
    "_Note: When calculating the sample standard deviation, the delta degrees of freedom is 1, which is the also the default value._"
   ]
  },
  {
   "cell_type": "code",
   "execution_count": 20,
   "metadata": {},
   "outputs": [
    {
     "name": "stdout",
     "output_type": "stream",
     "text": [
      "Tests Passed\n"
     ]
    }
   ],
   "source": [
    "def tracking_error(benchmark_returns_by_date, etf_returns_by_date):\n",
    "    \"\"\"\n",
    "    Calculate the tracking error.\n",
    "\n",
    "    Parameters\n",
    "    ----------\n",
    "    benchmark_returns_by_date : Pandas Series\n",
    "        The benchmark returns for each date\n",
    "    etf_returns_by_date : Pandas Series\n",
    "        The ETF returns for each date\n",
    "\n",
    "    Returns\n",
    "    -------\n",
    "    tracking_error : float\n",
    "        The tracking error\n",
    "    \"\"\"\n",
    "    assert benchmark_returns_by_date.index.equals(etf_returns_by_date.index)\n",
    "    \n",
    "    #TODO: Implement function\n",
    "\n",
    "    return  np.sqrt(252) * np.std(etf_returns_by_date - benchmark_returns_by_date, ddof=1)\n",
    "\n",
    "project_tests.test_tracking_error(tracking_error)"
   ]
  },
  {
   "cell_type": "markdown",
   "metadata": {},
   "source": [
    "### View Data\n",
    "Let's generate the tracking error using `tracking_error`."
   ]
  },
  {
   "cell_type": "code",
   "execution_count": 21,
   "metadata": {},
   "outputs": [
    {
     "name": "stdout",
     "output_type": "stream",
     "text": [
      "Smart Beta Tracking Error: 0.10207614832007529\n"
     ]
    }
   ],
   "source": [
    "smart_beta_tracking_error = tracking_error(np.sum(index_weighted_returns, 1), np.sum(etf_weighted_returns, 1))\n",
    "print('Smart Beta Tracking Error: {}'.format(smart_beta_tracking_error))"
   ]
  },
  {
   "cell_type": "markdown",
   "metadata": {},
   "source": [
    "# Part 2: Portfolio Optimization\n",
    "\n",
    "Now, let's create a second portfolio.  We'll still reuse the market cap weighted index, but this will be independent of the dividend-weighted portfolio that we created in part 1.\n",
    "\n",
    "We want to both minimize the portfolio variance and also want to closely track a market cap weighted index.  In other words, we're trying to minimize the distance between the weights of our portfolio and the weights of the index.\n",
    "\n",
    "$Minimize \\left [ \\sigma^2_p + \\lambda \\sqrt{\\sum_{1}^{m}(weight_i - indexWeight_i)^2} \\right  ]$ where $m$ is the number of stocks in the portfolio, and $\\lambda$ is a scaling factor that you can choose.\n",
    "\n",
    "Why are we doing this? One way that investors evaluate a fund is by how well it tracks its index. The fund is still expected to deviate from the index within a certain range in order to improve fund performance.  A way for a fund to track the performance of its benchmark is by keeping its asset weights similar to the weights of the index.  We’d expect that if the fund has the same stocks as the benchmark, and also the same weights for each stock as the benchmark, the fund would yield about the same returns as the benchmark. By minimizing a linear combination of both the portfolio risk and distance between portfolio and benchmark weights, we attempt to balance the desire to minimize portfolio variance with the goal of tracking the index.\n",
    "\n",
    "\n",
    "## Covariance\n",
    "Implement `get_covariance_returns` to calculate the covariance of the `returns`. We'll use this to calculate the portfolio variance.\n",
    "\n",
    "If we have $m$ stock series, the covariance matrix is an $m \\times m$ matrix containing the covariance between each pair of stocks.  We can use [`Numpy.cov`](https://docs.scipy.org/doc/numpy/reference/generated/numpy.cov.html) to get the covariance.  We give it a 2D array in which each row is a stock series, and each column is an observation at the same period of time. For any `NaN` values, you can replace them with zeros using the [`DataFrame.fillna`](https://pandas.pydata.org/pandas-docs/stable/generated/pandas.DataFrame.fillna.html) function.\n",
    "\n",
    "The covariance matrix $\\mathbf{P} = \n",
    "\\begin{bmatrix}\n",
    "\\sigma^2_{1,1} & ... & \\sigma^2_{1,m} \\\\ \n",
    "... & ... & ...\\\\\n",
    "\\sigma_{m,1} & ... & \\sigma^2_{m,m}  \\\\\n",
    "\\end{bmatrix}$"
   ]
  },
  {
   "cell_type": "code",
   "execution_count": 22,
   "metadata": {},
   "outputs": [
    {
     "name": "stdout",
     "output_type": "stream",
     "text": [
      "Tests Passed\n"
     ]
    }
   ],
   "source": [
    "def get_covariance_returns(returns):\n",
    "    \"\"\"\n",
    "    Calculate covariance matrices.\n",
    "\n",
    "    Parameters\n",
    "    ----------\n",
    "    returns : DataFrame\n",
    "        Returns for each ticker and date\n",
    "\n",
    "    Returns\n",
    "    -------\n",
    "    returns_covariance  : 2 dimensional Ndarray\n",
    "        The covariance of the returns\n",
    "    \"\"\"\n",
    "    #TODO: Implement function\n",
    "    \n",
    "    return np.cov(returns.T.fillna(0))\n",
    "\n",
    "project_tests.test_get_covariance_returns(get_covariance_returns)"
   ]
  },
  {
   "cell_type": "markdown",
   "metadata": {},
   "source": [
    "### View Data\n",
    "Let's look at the covariance generated from `get_covariance_returns`."
   ]
  },
  {
   "cell_type": "code",
   "execution_count": 23,
   "metadata": {},
   "outputs": [
    {
     "data": {
      "text/html": [
       "The graph for Covariance Returns Correlation Matrix is too large. You can view it <a href=\"graphs/CovarianceReturnsCorrelationMatrix.html\" target=\"_blank\">here</a>."
      ],
      "text/plain": [
       "<IPython.core.display.HTML object>"
      ]
     },
     "metadata": {},
     "output_type": "execute_result"
    }
   ],
   "source": [
    "covariance_returns = get_covariance_returns(returns)\n",
    "covariance_returns = pd.DataFrame(covariance_returns, returns.columns, returns.columns)\n",
    "\n",
    "covariance_returns_correlation = np.linalg.inv(np.diag(np.sqrt(np.diag(covariance_returns))))\n",
    "covariance_returns_correlation = pd.DataFrame(\n",
    "    covariance_returns_correlation.dot(covariance_returns).dot(covariance_returns_correlation),\n",
    "    covariance_returns.index,\n",
    "    covariance_returns.columns)\n",
    "\n",
    "project_helper.plot_covariance_returns_correlation(\n",
    "    covariance_returns_correlation,\n",
    "    'Covariance Returns Correlation Matrix')"
   ]
  },
  {
   "cell_type": "markdown",
   "metadata": {},
   "source": [
    "### portfolio variance\n",
    "We can write the portfolio variance $\\sigma^2_p = \\mathbf{x^T} \\mathbf{P} \\mathbf{x}$\n",
    "\n",
    "Recall that the $\\mathbf{x^T} \\mathbf{P} \\mathbf{x}$ is called the quadratic form.\n",
    "We can use the cvxpy function `quad_form(x,P)` to get the quadratic form.\n",
    "\n",
    "### Distance from index weights\n",
    "We want portfolio weights that track the index closely.  So we want to minimize the distance between them.\n",
    "Recall from the Pythagorean theorem that you can get the distance between two points in an x,y plane by adding the square of the x and y distances and taking the square root.  Extending this to any number of dimensions is called the L2 norm.  So: $\\sqrt{\\sum_{1}^{n}(weight_i - indexWeight_i)^2}$  Can also be written as $\\left \\| \\mathbf{x} - \\mathbf{index} \\right \\|_2$.  There's a cvxpy function called [norm()](https://www.cvxpy.org/api_reference/cvxpy.atoms.other_atoms.html#norm)\n",
    "`norm(x, p=2, axis=None)`.  The default is already set to find an L2 norm, so you would pass in one argument, which is the difference between your portfolio weights and the index weights.\n",
    "\n",
    "### objective function\n",
    "We want to minimize both the portfolio variance and the distance of the portfolio weights from the index weights.\n",
    "We also want to choose a `scale` constant, which is $\\lambda$ in the expression. \n",
    "\n",
    "$\\mathbf{x^T} \\mathbf{P} \\mathbf{x} + \\lambda \\left \\| \\mathbf{x} - \\mathbf{index} \\right \\|_2$\n",
    "\n",
    "\n",
    "This lets us choose how much priority we give to minimizing the difference from the index, relative to minimizing the variance of the portfolio.  If you choose a higher value for `scale` ($\\lambda$).\n",
    "\n",
    "We can find the objective function using cvxpy `objective = cvx.Minimize()`.  Can you guess what to pass into this function?\n",
    "\n"
   ]
  },
  {
   "cell_type": "markdown",
   "metadata": {},
   "source": [
    "### constraints\n",
    "We can also define our constraints in a list.  For example, you'd want the weights to sum to one. So $\\sum_{1}^{n}x = 1$.  You may also need to go long only, which means no shorting, so no negative weights.  So $x_i >0 $ for all $i$. you could save a variable as `[x >= 0, sum(x) == 1]`, where x was created using `cvx.Variable()`.\n",
    "\n",
    "### optimization\n",
    "So now that we have our objective function and constraints, we can solve for the values of $\\mathbf{x}$.\n",
    "cvxpy has the constructor `Problem(objective, constraints)`, which returns a `Problem` object.\n",
    "\n",
    "The `Problem` object has a function solve(), which returns the minimum of the solution.  In this case, this is the minimum variance of the portfolio.\n",
    "\n",
    "It also updates the vector $\\mathbf{x}$.\n",
    "\n",
    "We can check out the values of $x_A$ and $x_B$ that gave the minimum portfolio variance by using `x.value`"
   ]
  },
  {
   "cell_type": "code",
   "execution_count": 31,
   "metadata": {},
   "outputs": [
    {
     "name": "stdout",
     "output_type": "stream",
     "text": [
      "Tests Passed\n"
     ]
    }
   ],
   "source": [
    "import cvxpy as cvx\n",
    "\n",
    "def get_optimal_weights(covariance_returns, index_weights, scale=2.0):\n",
    "    \"\"\"\n",
    "    Find the optimal weights.\n",
    "\n",
    "    Parameters\n",
    "    ----------\n",
    "    covariance_returns : 2 dimensional Ndarray\n",
    "        The covariance of the returns\n",
    "    index_weights : Pandas Series\n",
    "        Index weights for all tickers at a period in time\n",
    "    scale : int\n",
    "        The penalty factor for weights the deviate from the index \n",
    "    Returns\n",
    "    -------\n",
    "    x : 1 dimensional Ndarray\n",
    "        The solution for x\n",
    "    \"\"\"\n",
    "    assert len(covariance_returns.shape) == 2\n",
    "    assert len(index_weights.shape) == 1\n",
    "    assert covariance_returns.shape[0] == covariance_returns.shape[1]  == index_weights.shape[0]\n",
    "\n",
    "    m = covariance_returns.shape[0]\n",
    "    cov = np.cov(covariance_returns)\n",
    "    x = cvx.Variable(m)\n",
    "    portfolio_variance = cvx.quad_form(x, cov)\n",
    "    distance_to_index = cvx.norm(x - index_weights)\n",
    "    objective = cvx.Minimize(portfolio_variance + scale * distance_to_index)\n",
    "    constraints = [x >= 0, sum(x) == 1]\n",
    "    cvx.Problem(objective, constraints).solve()\n",
    "    x_values = x.value\n",
    "    return x_values\n",
    "\n",
    "project_tests.test_get_optimal_weights(get_optimal_weights)"
   ]
  },
  {
   "cell_type": "markdown",
   "metadata": {},
   "source": [
    "## Optimized Portfolio\n",
    "Using the `get_optimal_weights` function, let's generate the optimal ETF weights without rebalanceing. We can do this by feeding in the covariance of the entire history of data. We also need to feed in a set of index weights. We'll go with the average weights of the index over time."
   ]
  },
  {
   "cell_type": "code",
   "execution_count": 35,
   "metadata": {},
   "outputs": [],
   "source": [
    "raw_optimal_single_rebalance_etf_weights = get_optimal_weights(covariance_returns.values, index_weights.iloc[-1])\n",
    "optimal_single_rebalance_etf_weights = pd.DataFrame(\n",
    "    np.tile(raw_optimal_single_rebalance_etf_weights, (len(returns.index), 1)),\n",
    "    returns.index,\n",
    "    returns.columns)"
   ]
  },
  {
   "cell_type": "markdown",
   "metadata": {},
   "source": [
    "With our ETF weights built, let's compare it to the index. Run the next cell to calculate the ETF returns and compare it to the index returns."
   ]
  },
  {
   "cell_type": "code",
   "execution_count": 36,
   "metadata": {},
   "outputs": [
    {
     "data": {
      "text/html": [
       "<div id=\"6887c882-4f4f-41c1-93a9-a9baba962c07\" style=\"height: 525px; width: 100%;\" class=\"plotly-graph-div\"></div><script type=\"text/javascript\">require([\"plotly\"], function(Plotly) { window.PLOTLYENV=window.PLOTLYENV || {};window.PLOTLYENV.BASE_URL=\"https://plot.ly\";Plotly.newPlot(\"6887c882-4f4f-41c1-93a9-a9baba962c07\", [{\"type\": \"scatter\", \"name\": \"Index\", \"x\": [\"2013-07-01\", \"2013-07-02\", \"2013-07-03\", \"2013-07-05\", \"2013-07-08\", \"2013-07-09\", \"2013-07-10\", \"2013-07-11\", \"2013-07-12\", \"2013-07-15\", \"2013-07-16\", \"2013-07-17\", \"2013-07-18\", \"2013-07-19\", \"2013-07-22\", \"2013-07-23\", \"2013-07-24\", \"2013-07-25\", \"2013-07-26\", \"2013-07-29\", \"2013-07-30\", \"2013-07-31\", \"2013-08-01\", \"2013-08-02\", \"2013-08-05\", \"2013-08-06\", \"2013-08-07\", \"2013-08-08\", \"2013-08-09\", \"2013-08-12\", \"2013-08-13\", \"2013-08-14\", \"2013-08-15\", \"2013-08-16\", \"2013-08-19\", \"2013-08-20\", \"2013-08-21\", \"2013-08-22\", \"2013-08-23\", \"2013-08-26\", \"2013-08-27\", \"2013-08-28\", \"2013-08-29\", \"2013-08-30\", \"2013-09-03\", \"2013-09-04\", \"2013-09-05\", \"2013-09-06\", \"2013-09-09\", \"2013-09-10\", \"2013-09-11\", \"2013-09-12\", \"2013-09-13\", \"2013-09-16\", \"2013-09-17\", \"2013-09-18\", \"2013-09-19\", \"2013-09-20\", \"2013-09-23\", \"2013-09-24\", \"2013-09-25\", \"2013-09-26\", \"2013-09-27\", \"2013-09-30\", \"2013-10-01\", \"2013-10-02\", \"2013-10-03\", \"2013-10-04\", \"2013-10-07\", \"2013-10-08\", \"2013-10-09\", \"2013-10-10\", \"2013-10-11\", \"2013-10-14\", \"2013-10-15\", \"2013-10-16\", \"2013-10-17\", \"2013-10-18\", \"2013-10-21\", \"2013-10-22\", \"2013-10-23\", \"2013-10-24\", \"2013-10-25\", \"2013-10-28\", \"2013-10-29\", \"2013-10-30\", \"2013-10-31\", \"2013-11-01\", \"2013-11-04\", \"2013-11-05\", \"2013-11-06\", \"2013-11-07\", \"2013-11-08\", \"2013-11-11\", \"2013-11-12\", \"2013-11-13\", \"2013-11-14\", \"2013-11-15\", \"2013-11-18\", \"2013-11-19\", \"2013-11-20\", \"2013-11-21\", \"2013-11-22\", \"2013-11-25\", \"2013-11-26\", \"2013-11-27\", \"2013-11-29\", \"2013-12-02\", \"2013-12-03\", \"2013-12-04\", \"2013-12-05\", \"2013-12-06\", \"2013-12-09\", \"2013-12-10\", \"2013-12-11\", \"2013-12-12\", \"2013-12-13\", \"2013-12-16\", \"2013-12-17\", \"2013-12-18\", \"2013-12-19\", \"2013-12-20\", \"2013-12-23\", \"2013-12-24\", \"2013-12-26\", \"2013-12-27\", \"2013-12-30\", \"2013-12-31\", \"2014-01-02\", \"2014-01-03\", \"2014-01-06\", \"2014-01-07\", \"2014-01-08\", \"2014-01-09\", \"2014-01-10\", \"2014-01-13\", \"2014-01-14\", \"2014-01-15\", \"2014-01-16\", \"2014-01-17\", \"2014-01-21\", \"2014-01-22\", \"2014-01-23\", \"2014-01-24\", \"2014-01-27\", \"2014-01-28\", \"2014-01-29\", \"2014-01-30\", \"2014-01-31\", \"2014-02-03\", \"2014-02-04\", \"2014-02-05\", \"2014-02-06\", \"2014-02-07\", \"2014-02-10\", \"2014-02-11\", \"2014-02-12\", \"2014-02-13\", \"2014-02-14\", \"2014-02-18\", \"2014-02-19\", \"2014-02-20\", \"2014-02-21\", \"2014-02-24\", \"2014-02-25\", \"2014-02-26\", \"2014-02-27\", \"2014-02-28\", \"2014-03-03\", \"2014-03-04\", \"2014-03-05\", \"2014-03-06\", \"2014-03-07\", \"2014-03-10\", \"2014-03-11\", \"2014-03-12\", \"2014-03-13\", \"2014-03-14\", \"2014-03-17\", \"2014-03-18\", \"2014-03-19\", \"2014-03-20\", \"2014-03-21\", \"2014-03-24\", \"2014-03-25\", \"2014-03-26\", \"2014-03-27\", \"2014-03-28\", \"2014-03-31\", \"2014-04-01\", \"2014-04-02\", \"2014-04-03\", \"2014-04-04\", \"2014-04-07\", \"2014-04-08\", \"2014-04-09\", \"2014-04-10\", \"2014-04-11\", \"2014-04-14\", \"2014-04-15\", \"2014-04-16\", \"2014-04-17\", \"2014-04-21\", \"2014-04-22\", \"2014-04-23\", \"2014-04-24\", \"2014-04-25\", \"2014-04-28\", \"2014-04-29\", \"2014-04-30\", \"2014-05-01\", \"2014-05-02\", \"2014-05-05\", \"2014-05-06\", \"2014-05-07\", \"2014-05-08\", \"2014-05-09\", \"2014-05-12\", \"2014-05-13\", \"2014-05-14\", \"2014-05-15\", \"2014-05-16\", \"2014-05-19\", \"2014-05-20\", \"2014-05-21\", \"2014-05-22\", \"2014-05-23\", \"2014-05-27\", \"2014-05-28\", \"2014-05-29\", \"2014-05-30\", \"2014-06-02\", \"2014-06-03\", \"2014-06-04\", \"2014-06-05\", \"2014-06-06\", \"2014-06-09\", \"2014-06-10\", \"2014-06-11\", \"2014-06-12\", \"2014-06-13\", \"2014-06-16\", \"2014-06-17\", \"2014-06-18\", \"2014-06-19\", \"2014-06-20\", \"2014-06-23\", \"2014-06-24\", \"2014-06-25\", \"2014-06-26\", \"2014-06-27\", \"2014-06-30\", \"2014-07-01\", \"2014-07-02\", \"2014-07-03\", \"2014-07-07\", \"2014-07-08\", \"2014-07-09\", \"2014-07-10\", \"2014-07-11\", \"2014-07-14\", \"2014-07-15\", \"2014-07-16\", \"2014-07-17\", \"2014-07-18\", \"2014-07-21\", \"2014-07-22\", \"2014-07-23\", \"2014-07-24\", \"2014-07-25\", \"2014-07-28\", \"2014-07-29\", \"2014-07-30\", \"2014-07-31\", \"2014-08-01\", \"2014-08-04\", \"2014-08-05\", \"2014-08-06\", \"2014-08-07\", \"2014-08-08\", \"2014-08-11\", \"2014-08-12\", \"2014-08-13\", \"2014-08-14\", \"2014-08-15\", \"2014-08-18\", \"2014-08-19\", \"2014-08-20\", \"2014-08-21\", \"2014-08-22\", \"2014-08-25\", \"2014-08-26\", \"2014-08-27\", \"2014-08-28\", \"2014-08-29\", \"2014-09-02\", \"2014-09-03\", \"2014-09-04\", \"2014-09-05\", \"2014-09-08\", \"2014-09-09\", \"2014-09-10\", \"2014-09-11\", \"2014-09-12\", \"2014-09-15\", \"2014-09-16\", \"2014-09-17\", \"2014-09-18\", \"2014-09-19\", \"2014-09-22\", \"2014-09-23\", \"2014-09-24\", \"2014-09-25\", \"2014-09-26\", \"2014-09-29\", \"2014-09-30\", \"2014-10-01\", \"2014-10-02\", \"2014-10-03\", \"2014-10-06\", \"2014-10-07\", \"2014-10-08\", \"2014-10-09\", \"2014-10-10\", \"2014-10-13\", \"2014-10-14\", \"2014-10-15\", \"2014-10-16\", \"2014-10-17\", \"2014-10-20\", \"2014-10-21\", \"2014-10-22\", \"2014-10-23\", \"2014-10-24\", \"2014-10-27\", \"2014-10-28\", \"2014-10-29\", \"2014-10-30\", \"2014-10-31\", \"2014-11-03\", \"2014-11-04\", \"2014-11-05\", \"2014-11-06\", \"2014-11-07\", \"2014-11-10\", \"2014-11-11\", \"2014-11-12\", \"2014-11-13\", \"2014-11-14\", \"2014-11-17\", \"2014-11-18\", \"2014-11-19\", \"2014-11-20\", \"2014-11-21\", \"2014-11-24\", \"2014-11-25\", \"2014-11-26\", \"2014-11-28\", \"2014-12-01\", \"2014-12-02\", \"2014-12-03\", \"2014-12-04\", \"2014-12-05\", \"2014-12-08\", \"2014-12-09\", \"2014-12-10\", \"2014-12-11\", \"2014-12-12\", \"2014-12-15\", \"2014-12-16\", \"2014-12-17\", \"2014-12-18\", \"2014-12-19\", \"2014-12-22\", \"2014-12-23\", \"2014-12-24\", \"2014-12-26\", \"2014-12-29\", \"2014-12-30\", \"2014-12-31\", \"2015-01-02\", \"2015-01-05\", \"2015-01-06\", \"2015-01-07\", \"2015-01-08\", \"2015-01-09\", \"2015-01-12\", \"2015-01-13\", \"2015-01-14\", \"2015-01-15\", \"2015-01-16\", \"2015-01-20\", \"2015-01-21\", \"2015-01-22\", \"2015-01-23\", \"2015-01-26\", \"2015-01-27\", \"2015-01-28\", \"2015-01-29\", \"2015-01-30\", \"2015-02-02\", \"2015-02-03\", \"2015-02-04\", \"2015-02-05\", \"2015-02-06\", \"2015-02-09\", \"2015-02-10\", \"2015-02-11\", \"2015-02-12\", \"2015-02-13\", \"2015-02-17\", \"2015-02-18\", \"2015-02-19\", \"2015-02-20\", \"2015-02-23\", \"2015-02-24\", \"2015-02-25\", \"2015-02-26\", \"2015-02-27\", \"2015-03-02\", \"2015-03-03\", \"2015-03-04\", \"2015-03-05\", \"2015-03-06\", \"2015-03-09\", \"2015-03-10\", \"2015-03-11\", \"2015-03-12\", \"2015-03-13\", \"2015-03-16\", \"2015-03-17\", \"2015-03-18\", \"2015-03-19\", \"2015-03-20\", \"2015-03-23\", \"2015-03-24\", \"2015-03-25\", \"2015-03-26\", \"2015-03-27\", \"2015-03-30\", \"2015-03-31\", \"2015-04-01\", \"2015-04-02\", \"2015-04-06\", \"2015-04-07\", \"2015-04-08\", \"2015-04-09\", \"2015-04-10\", \"2015-04-13\", \"2015-04-14\", \"2015-04-15\", \"2015-04-16\", \"2015-04-17\", \"2015-04-20\", \"2015-04-21\", \"2015-04-22\", \"2015-04-23\", \"2015-04-24\", \"2015-04-27\", \"2015-04-28\", \"2015-04-29\", \"2015-04-30\", \"2015-05-01\", \"2015-05-04\", \"2015-05-05\", \"2015-05-06\", \"2015-05-07\", \"2015-05-08\", \"2015-05-11\", \"2015-05-12\", \"2015-05-13\", \"2015-05-14\", \"2015-05-15\", \"2015-05-18\", \"2015-05-19\", \"2015-05-20\", \"2015-05-21\", \"2015-05-22\", \"2015-05-26\", \"2015-05-27\", \"2015-05-28\", \"2015-05-29\", \"2015-06-01\", \"2015-06-02\", \"2015-06-03\", \"2015-06-04\", \"2015-06-05\", \"2015-06-08\", \"2015-06-09\", \"2015-06-10\", \"2015-06-11\", \"2015-06-12\", \"2015-06-15\", \"2015-06-16\", \"2015-06-17\", \"2015-06-18\", \"2015-06-19\", \"2015-06-22\", \"2015-06-23\", \"2015-06-24\", \"2015-06-25\", \"2015-06-26\", \"2015-06-29\", \"2015-06-30\", \"2015-07-01\", \"2015-07-02\", \"2015-07-06\", \"2015-07-07\", \"2015-07-08\", \"2015-07-09\", \"2015-07-10\", \"2015-07-13\", \"2015-07-14\", \"2015-07-15\", \"2015-07-16\", \"2015-07-17\", \"2015-07-20\", \"2015-07-21\", \"2015-07-22\", \"2015-07-23\", \"2015-07-24\", \"2015-07-27\", \"2015-07-28\", \"2015-07-29\", \"2015-07-30\", \"2015-07-31\", \"2015-08-03\", \"2015-08-04\", \"2015-08-05\", \"2015-08-06\", \"2015-08-07\", \"2015-08-10\", \"2015-08-11\", \"2015-08-12\", \"2015-08-13\", \"2015-08-14\", \"2015-08-17\", \"2015-08-18\", \"2015-08-19\", \"2015-08-20\", \"2015-08-21\", \"2015-08-24\", \"2015-08-25\", \"2015-08-26\", \"2015-08-27\", \"2015-08-28\", \"2015-08-31\", \"2015-09-01\", \"2015-09-02\", \"2015-09-03\", \"2015-09-04\", \"2015-09-08\", \"2015-09-09\", \"2015-09-10\", \"2015-09-11\", \"2015-09-14\", \"2015-09-15\", \"2015-09-16\", \"2015-09-17\", \"2015-09-18\", \"2015-09-21\", \"2015-09-22\", \"2015-09-23\", \"2015-09-24\", \"2015-09-25\", \"2015-09-28\", \"2015-09-29\", \"2015-09-30\", \"2015-10-01\", \"2015-10-02\", \"2015-10-05\", \"2015-10-06\", \"2015-10-07\", \"2015-10-08\", \"2015-10-09\", \"2015-10-12\", \"2015-10-13\", \"2015-10-14\", \"2015-10-15\", \"2015-10-16\", \"2015-10-19\", \"2015-10-20\", \"2015-10-21\", \"2015-10-22\", \"2015-10-23\", \"2015-10-26\", \"2015-10-27\", \"2015-10-28\", \"2015-10-29\", \"2015-10-30\", \"2015-11-02\", \"2015-11-03\", \"2015-11-04\", \"2015-11-05\", \"2015-11-06\", \"2015-11-09\", \"2015-11-10\", \"2015-11-11\", \"2015-11-12\", \"2015-11-13\", \"2015-11-16\", \"2015-11-17\", \"2015-11-18\", \"2015-11-19\", \"2015-11-20\", \"2015-11-23\", \"2015-11-24\", \"2015-11-25\", \"2015-11-27\", \"2015-11-30\", \"2015-12-01\", \"2015-12-02\", \"2015-12-03\", \"2015-12-04\", \"2015-12-07\", \"2015-12-08\", \"2015-12-09\", \"2015-12-10\", \"2015-12-11\", \"2015-12-14\", \"2015-12-15\", \"2015-12-16\", \"2015-12-17\", \"2015-12-18\", \"2015-12-21\", \"2015-12-22\", \"2015-12-23\", \"2015-12-24\", \"2015-12-28\", \"2015-12-29\", \"2015-12-30\", \"2015-12-31\", \"2016-01-04\", \"2016-01-05\", \"2016-01-06\", \"2016-01-07\", \"2016-01-08\", \"2016-01-11\", \"2016-01-12\", \"2016-01-13\", \"2016-01-14\", \"2016-01-15\", \"2016-01-19\", \"2016-01-20\", \"2016-01-21\", \"2016-01-22\", \"2016-01-25\", \"2016-01-26\", \"2016-01-27\", \"2016-01-28\", \"2016-01-29\", \"2016-02-01\", \"2016-02-02\", \"2016-02-03\", \"2016-02-04\", \"2016-02-05\", \"2016-02-08\", \"2016-02-09\", \"2016-02-10\", \"2016-02-11\", \"2016-02-12\", \"2016-02-16\", \"2016-02-17\", \"2016-02-18\", \"2016-02-19\", \"2016-02-22\", \"2016-02-23\", \"2016-02-24\", \"2016-02-25\", \"2016-02-26\", \"2016-02-29\", \"2016-03-01\", \"2016-03-02\", \"2016-03-03\", \"2016-03-04\", \"2016-03-07\", \"2016-03-08\", \"2016-03-09\", \"2016-03-10\", \"2016-03-11\", \"2016-03-14\", \"2016-03-15\", \"2016-03-16\", \"2016-03-17\", \"2016-03-18\", \"2016-03-21\", \"2016-03-22\", \"2016-03-23\", \"2016-03-24\", \"2016-03-28\", \"2016-03-29\", \"2016-03-30\", \"2016-03-31\", \"2016-04-01\", \"2016-04-04\", \"2016-04-05\", \"2016-04-06\", \"2016-04-07\", \"2016-04-08\", \"2016-04-11\", \"2016-04-12\", \"2016-04-13\", \"2016-04-14\", \"2016-04-15\", \"2016-04-18\", \"2016-04-19\", \"2016-04-20\", \"2016-04-21\", \"2016-04-22\", \"2016-04-25\", \"2016-04-26\", \"2016-04-27\", \"2016-04-28\", \"2016-04-29\", \"2016-05-02\", \"2016-05-03\", \"2016-05-04\", \"2016-05-05\", \"2016-05-06\", \"2016-05-09\", \"2016-05-10\", \"2016-05-11\", \"2016-05-12\", \"2016-05-13\", \"2016-05-16\", \"2016-05-17\", \"2016-05-18\", \"2016-05-19\", \"2016-05-20\", \"2016-05-23\", \"2016-05-24\", \"2016-05-25\", \"2016-05-26\", \"2016-05-27\", \"2016-05-31\", \"2016-06-01\", \"2016-06-02\", \"2016-06-03\", \"2016-06-06\", \"2016-06-07\", \"2016-06-08\", \"2016-06-09\", \"2016-06-10\", \"2016-06-13\", \"2016-06-14\", \"2016-06-15\", \"2016-06-16\", \"2016-06-17\", \"2016-06-20\", \"2016-06-21\", \"2016-06-22\", \"2016-06-23\", \"2016-06-24\", \"2016-06-27\", \"2016-06-28\", \"2016-06-29\", \"2016-06-30\", \"2016-07-01\", \"2016-07-05\", \"2016-07-06\", \"2016-07-07\", \"2016-07-08\", \"2016-07-11\", \"2016-07-12\", \"2016-07-13\", \"2016-07-14\", \"2016-07-15\", \"2016-07-18\", \"2016-07-19\", \"2016-07-20\", \"2016-07-21\", \"2016-07-22\", \"2016-07-25\", \"2016-07-26\", \"2016-07-27\", \"2016-07-28\", \"2016-07-29\", \"2016-08-01\", \"2016-08-02\", \"2016-08-03\", \"2016-08-04\", \"2016-08-05\", \"2016-08-08\", \"2016-08-09\", \"2016-08-10\", \"2016-08-11\", \"2016-08-12\", \"2016-08-15\", \"2016-08-16\", \"2016-08-17\", \"2016-08-18\", \"2016-08-19\", \"2016-08-22\", \"2016-08-23\", \"2016-08-24\", \"2016-08-25\", \"2016-08-26\", \"2016-08-29\", \"2016-08-30\", \"2016-08-31\", \"2016-09-01\", \"2016-09-02\", \"2016-09-06\", \"2016-09-07\", \"2016-09-08\", \"2016-09-09\", \"2016-09-12\", \"2016-09-13\", \"2016-09-14\", \"2016-09-15\", \"2016-09-16\", \"2016-09-19\", \"2016-09-20\", \"2016-09-21\", \"2016-09-22\", \"2016-09-23\", \"2016-09-26\", \"2016-09-27\", \"2016-09-28\", \"2016-09-29\", \"2016-09-30\", \"2016-10-03\", \"2016-10-04\", \"2016-10-05\", \"2016-10-06\", \"2016-10-07\", \"2016-10-10\", \"2016-10-11\", \"2016-10-12\", \"2016-10-13\", \"2016-10-14\", \"2016-10-17\", \"2016-10-18\", \"2016-10-19\", \"2016-10-20\", \"2016-10-21\", \"2016-10-24\", \"2016-10-25\", \"2016-10-26\", \"2016-10-27\", \"2016-10-28\", \"2016-10-31\", \"2016-11-01\", \"2016-11-02\", \"2016-11-03\", \"2016-11-04\", \"2016-11-07\", \"2016-11-08\", \"2016-11-09\", \"2016-11-10\", \"2016-11-11\", \"2016-11-14\", \"2016-11-15\", \"2016-11-16\", \"2016-11-17\", \"2016-11-18\", \"2016-11-21\", \"2016-11-22\", \"2016-11-23\", \"2016-11-25\", \"2016-11-28\", \"2016-11-29\", \"2016-11-30\", \"2016-12-01\", \"2016-12-02\", \"2016-12-05\", \"2016-12-06\", \"2016-12-07\", \"2016-12-08\", \"2016-12-09\", \"2016-12-12\", \"2016-12-13\", \"2016-12-14\", \"2016-12-15\", \"2016-12-16\", \"2016-12-19\", \"2016-12-20\", \"2016-12-21\", \"2016-12-22\", \"2016-12-23\", \"2016-12-27\", \"2016-12-28\", \"2016-12-29\", \"2016-12-30\", \"2017-01-03\", \"2017-01-04\", \"2017-01-05\", \"2017-01-06\", \"2017-01-09\", \"2017-01-10\", \"2017-01-11\", \"2017-01-12\", \"2017-01-13\", \"2017-01-17\", \"2017-01-18\", \"2017-01-19\", \"2017-01-20\", \"2017-01-23\", \"2017-01-24\", \"2017-01-25\", \"2017-01-26\", \"2017-01-27\", \"2017-01-30\", \"2017-01-31\", \"2017-02-01\", \"2017-02-02\", \"2017-02-03\", \"2017-02-06\", \"2017-02-07\", \"2017-02-08\", \"2017-02-09\", \"2017-02-10\", \"2017-02-13\", \"2017-02-14\", \"2017-02-15\", \"2017-02-16\", \"2017-02-17\", \"2017-02-21\", \"2017-02-22\", \"2017-02-23\", \"2017-02-24\", \"2017-02-27\", \"2017-02-28\", \"2017-03-01\", \"2017-03-02\", \"2017-03-03\", \"2017-03-06\", \"2017-03-07\", \"2017-03-08\", \"2017-03-09\", \"2017-03-10\", \"2017-03-13\", \"2017-03-14\", \"2017-03-15\", \"2017-03-16\", \"2017-03-17\", \"2017-03-20\", \"2017-03-21\", \"2017-03-22\", \"2017-03-23\", \"2017-03-24\", \"2017-03-27\", \"2017-03-28\", \"2017-03-29\", \"2017-03-30\", \"2017-03-31\", \"2017-04-03\", \"2017-04-04\", \"2017-04-05\", \"2017-04-06\", \"2017-04-07\", \"2017-04-10\", \"2017-04-11\", \"2017-04-12\", \"2017-04-13\", \"2017-04-17\", \"2017-04-18\", \"2017-04-19\", \"2017-04-20\", \"2017-04-21\", \"2017-04-24\", \"2017-04-25\", \"2017-04-26\", \"2017-04-27\", \"2017-04-28\", \"2017-05-01\", \"2017-05-02\", \"2017-05-03\", \"2017-05-04\", \"2017-05-05\", \"2017-05-08\", \"2017-05-09\", \"2017-05-10\", \"2017-05-11\", \"2017-05-12\", \"2017-05-15\", \"2017-05-16\", \"2017-05-17\", \"2017-05-18\", \"2017-05-19\", \"2017-05-22\", \"2017-05-23\", \"2017-05-24\", \"2017-05-25\", \"2017-05-26\", \"2017-05-30\", \"2017-05-31\", \"2017-06-01\", \"2017-06-02\", \"2017-06-05\", \"2017-06-06\", \"2017-06-07\", \"2017-06-08\", \"2017-06-09\", \"2017-06-12\", \"2017-06-13\", \"2017-06-14\", \"2017-06-15\", \"2017-06-16\", \"2017-06-19\", \"2017-06-20\", \"2017-06-21\", \"2017-06-22\", \"2017-06-23\", \"2017-06-26\", \"2017-06-27\", \"2017-06-28\", \"2017-06-29\", \"2017-06-30\"], \"y\": [null, null, null, null, null, null, null, null, null, null, null, null, null, null, null, null, null, null, null, null, null, null, null, null, null, null, null, null, null, null, null, null, null, null, null, null, null, null, null, null, null, null, null, null, null, null, null, null, null, null, null, null, null, null, null, null, null, null, null, null, null, null, null, null, null, null, null, null, null, null, null, null, null, null, null, null, null, null, null, null, null, null, null, null, null, null, null, null, null, null, null, null, null, null, null, null, null, null, null, null, null, null, null, null, null, null, null, null, null, null, null, null, null, null, null, null, null, null, null, null, null, null, null, null, null, null, null, null, null, null, null, null, null, null, null, null, null, null, null, null, null, null, null, null, null, null, null, null, null, null, null, null, null, null, null, null, null, null, null, null, null, null, null, null, null, null, null, null, null, null, null, null, null, null, null, null, null, null, null, null, null, null, null, null, null, null, null, 0.9995055589418449, 1.0079305101413176, 1.0225231007168576, 1.0256897536495349, 1.0293694660120578, 1.0062097649847852, 0.9955449009484783, 1.0017039077169225, 1.0220626035403453, 0.9923380916023515, 0.9806316912100557, 0.9902455378078544, 0.9966465090533139, 1.0083542482527004, 1.0061541203182194, 1.0145554631309537, 1.0269652950371178, 1.019506438564975, 1.0334987545338523, 1.01124854719345, 1.0122444283592453, 1.022673896258084, 1.0253039359665872, 1.030691888283267, 1.030155156535626, 1.0341082684888163, 1.0211704559534223, 1.0224883527711262, 1.0226527316532288, 1.0244393446232183, 1.0405570075734942, 1.0415083919099706, 1.0364013578488738, 1.0266859952016334, 1.0323873728227266, 1.0404155480301533, 1.034430553980988, 1.0466861296378152, 1.0516365590040517, 1.0588900345210879, 1.0710182853495647, 1.070499375114249, 1.0794956716353563, 1.0792570151049363, 1.079735300368131, 1.0808112664363576, 1.0863521036786115, 1.0947066556564102, 1.0993182413631257, 1.1011021163477461, 1.1079989101408292, 1.1075784613209307, 1.0937379596893382, 1.10125608743419, 1.1012275610201583, 1.1068373300634995, 1.1177298601003722, 1.1181467607205458, 1.1177212272224737, 1.1193027749057862, 1.1143628084217272, 1.1257718798005891, 1.125113529736032, 1.1271971464484962, 1.127726378098741, 1.1434071210474157, 1.143152183265713, 1.1492392121922042, 1.1439040321627758, 1.130955467932074, 1.1406038789553359, 1.1356534522795179, 1.1429696123165134, 1.1533269961903956, 1.1520884582251203, 1.1738496241325167, 1.1624798353837154, 1.1772252227602058, 1.175780444503258, 1.1812384238418436, 1.1910535719096131, 1.1936681837542875, 1.1764917617342092, 1.175154914068714, 1.1721177257558357, 1.1777005864713508, 1.1510659128543619, 1.1486296339109907, 1.1562709319911595, 1.14258952123849, 1.1243919100041442, 1.1223757045732798, 1.133772914749216, 1.1500385510157631, 1.14676605284663, 1.157705572531421, 1.1636995865165176, 1.1683528317380483, 1.1793467674128786, 1.188718108231566, 1.193249469369301, 1.199997289981528, 1.20319631914197, 1.2103781980774746, 1.212908973853629, 1.2118784927838278, 1.2086621760650598, 1.2131144364827307, 1.214672737560823, 1.2014610883055692, 1.199622600249662, 1.2056379585425114, 1.2032945105322626, 1.1956778339371408, 1.2061381714706405, 1.2075755372176802, 1.2020243554433827, 1.1939390939433616, 1.2039906173360535, 1.2059037946379023, 1.2142887498742663, 1.2152254184763107, 1.203305728762201, 1.2014173286424565, 1.2110914268430626, 1.1862716334596255, 1.206204353759158, 1.2021132763331683, 1.2023465555993191, 1.1838332904900908, 1.1842941253617847, 1.2006717691389606, 1.1969086529714763, 1.17795010260288, 1.1974094159751534, 1.172523716095356, 1.1496862155450025, 1.1256837010187455, 1.1273354150292256, 1.1182125680536947, 1.1077982336018706, 1.1230162197249793, 1.1330257741399572, 1.153246505230349, 1.1448886830223877, 1.1618186900504346, 1.1604446304890084, 1.1575923720843473, 1.171989161641604, 1.1621567614807669, 1.172822225153836, 1.187318987727866, 1.1857208489394933, 1.1802695584691465, 1.1841412644581573, 1.1832877901254275, 1.1829903669097988, 1.1826758817135987, 1.1853736353435822, 1.1860571465289782, 1.1895457665015112, 1.1936439687875084, 1.1848449573605442, 1.1989244359504778, 1.198348257853841, 1.1997387134090847, 1.205254738118261, 1.2103688518731712, 1.208960338436796, 1.221450923072402, 1.2082821015468297, 1.1963262816629288, 1.2059550724271524, 1.2121399063867868, 1.2125348785930468, 1.2159303127637635, 1.2031813403929763, 1.2023179496480034, 1.1815218333006883, 1.1892673984018922, 1.1707014002648717, 1.1607051067550282, 1.1461935483456689, 1.1710145364783553, 1.2006145372660273, 1.208583629870105, 1.1967411137207806, 1.1904668517056707, 1.1937790838122257, 1.2026147296445133, 1.2062156492458973, 1.1997410634009373, 1.1878779260798746, 1.1869548530420262, 1.1634951781362253, 1.1513504255798677, 1.1639883373138116, 1.1868051672452633, 1.1770943618384462, 1.1643547017622877, 1.1610721302834275, 1.150380632861086, 1.1337685363384666, 1.149216336075716, 1.156180975516501, 1.1749151758839902, 1.1974055316566878, 1.1935781049383913, 1.1960251979017829, 1.164282738765886, 1.1617454838213186, 1.1748623251170418, 1.179263489790452, 1.1936990483777412, 1.2118795982993544, 1.2050612203376496, 1.2180663921023007, 1.2166443254808659, 1.210915456864466, 1.2304913059727178, 1.234636127410887, 1.2484796364107342, 1.256526551948063, 1.2600047334280724, 1.2591194631194749, 1.2608786631226898, 1.2700892568209794, 1.2724045694505512, 1.2756670330822464, 1.2744520024325305, 1.2816669214080825, 1.2747655364681871, 1.2850459533176066, 1.2809163250393147, 1.2779446830725074, 1.2741877032189235, 1.2588366197018617, 1.2628943984053353, 1.2392738531457501, 1.2358408278060637, 1.2501547485031999, 1.2435188071293959, 1.2593916205732754, 1.2615949592793994, 1.2763320397644247, 1.2753340234164912, 1.2911720011217651, 1.2871546281257311, 1.282514646375315, 1.2581471218261215, 1.2546189400339203, 1.2581332423783176, 1.2740568517945159, 1.261348242960187, 1.2543040533597596, 1.255301053881666, 1.2647722607254424, 1.2619024181863991, 1.2677122325367398, 1.278910155126267, 1.3084025572603695, 1.3043707113037093, 1.307225584491631, 1.3189525910346533, 1.3547324914145626, 1.3396598041549554, 1.355525535947336, 1.3557012562380297, 1.363126222427486, 1.3637232996865059, 1.3965032428070272, 1.3877782748895653, 1.3878217655908496, 1.3836902363207695, 1.3656860744302934, 1.3848822602966595, 1.3865265718523145, 1.3693724216762067, 1.3630325736419708, 1.3684009241165915, 1.3869815471325893, 1.3824566759893777, 1.3773658994468578, 1.3776991097780216, 1.3945059869857264, 1.398811799914703, 1.4055213694397641, 1.401994140508638, 1.3892326772547678, 1.3973615141913254, 1.396065195021111, 1.381739718491928, 1.4006672629871273, 1.3998825121846064, 1.3924829953369189, 1.397737431591344, 1.3961232645297332, 1.4011497170887046, 1.3911158470549372, 1.3912767645968784, 1.3780916443932152, 1.3814386944229418, 1.401019560760093, 1.4031606224596578, 1.3920744578399624, 1.3856557716072038, 1.3935232075761879, 1.3952095731213074, 1.4055904469255607, 1.3981678834957958, 1.4102325757912113, 1.4193198907046756, 1.4108052537057072, 1.4050855993863942, 1.3936052536558192, 1.363557353019562, 1.3691025812782112, 1.3754288061097064, 1.376083153343215, 1.3710933158421743, 1.3765671845450906, 1.3510892367869851, 1.3510430474994672, 1.3720691626725354, 1.3943297770700918, 1.4082230525903163, 1.4112839283972411, 1.4528235751237735, 1.5085629125073463, 1.5127003202762477, 1.5049367842270494, 1.4923195077564686, 1.4795878718055813, 1.468237823448775, 1.4630587902169885, 1.4869782671280714, 1.499633102778628, 1.4983502567128928, 1.4897057225916268, 1.4831028227002236, 1.4785633016412585, 1.4666958006601165, 1.4529962473432223, 1.4501145728128741, 1.4725549901515953, 1.4564079314995342, 1.4606513360751872, 1.4603480564447522, 1.463534676820506, 1.4726085847798396, 1.466584520092289, 1.453307036405779, 1.4115541381313013, 1.3556794282466038, 1.3006885915778064, 1.2910649555388782, 1.3490590362039985, 1.3930632794793414, 1.3999405705701204, 1.3905308461313084, 1.3444029508501576, 1.372473537647813, 1.3663041628163188, 1.3464909610812763, 1.3771675639277356, 1.3635583991759794, 1.3755734903141663, 1.3812105206127356, 1.3766079181229658, 1.3965969452960356, 1.4116084052419724, 1.4101582664791983, 1.3883825960582599, 1.390312721222336, 1.373437636361726, 1.3698147171161752, 1.3660137395917442, 1.3625025982584569, 1.3198452462991375, 1.3156534422394006, 1.3455629753887288, 1.3531849829736986, 1.3780585920208481, 1.4062016775225532, 1.402666696780812, 1.4184273532583096, 1.432604080256957, 1.4367951380993897, 1.4348716186816484, 1.4243297663886723, 1.4117260982793307, 1.4252805988100472, 1.430335689670849, 1.431495834065519, 1.4200407845921246, 1.4134132389981324, 1.4366875028096238, 1.4784853697494735, 1.4761357988634511, 1.4743699351461195, 1.4940494407621914, 1.5019341141873035, 1.4947978613407156, 1.5116702705240697, 1.521145169266635, 1.5159280376292639, 1.5098977845613903, 1.519215588866769, 1.503253355079089, 1.5024145556726252, 1.499653027422129, 1.4773013983913537, 1.4528609440702769, 1.4738063071546348, 1.4785798059687763, 1.501264889821086, 1.4962244803623772, 1.5001021757081567, 1.496035093652809, 1.5009890372790244, 1.5039957893149427, 1.5020892418917717, 1.4929593378192625, 1.5133474801678113, 1.5013178054453173, 1.4819888908448224, 1.5063463502466234, 1.4901842149558036, 1.4774855671845402, 1.4708284662816196, 1.47788221848183, 1.4436229936838547, 1.450958393638973, 1.4654365253826103, 1.4883316279209975, 1.4648697942876527, 1.4361194227865686, 1.4442952102705564, 1.4529337976287047, 1.4732207754394055, 1.470044700791441, 1.4663471777070327, 1.4857557199760503, 1.47296423193381, 1.4572264858239403, 1.4288136466016144, 1.4265901716947784, 1.4130710142927907, 1.3739952723586601, 1.3605084072192315, 1.361446811206419, 1.3718626324400252, 1.3303331938496836, 1.3570325666217837, 1.3226274138369771, 1.3227369146499781, 1.307886300752319, 1.3152487550680367, 1.3391582100572745, 1.3169676889664987, 1.3345662479579836, 1.3055412326484446, 1.3425390464769273, 1.3692848769878416, 1.3727822091938544, 1.347604312046441, 1.345020446529313, 1.3441154005653413, 1.3038078005787233, 1.2836434919135529, 1.2807375666978786, 1.2799569448692434, 1.2644733758663806, 1.2954145701415258, 1.3201309981457614, 1.3497946485798384, 1.339561104938997, 1.3406370602983997, 1.3676903401341558, 1.3463170947442835, 1.3541989232766574, 1.374805850433264, 1.3730618337264762, 1.36090837869072, 1.3999367623746373, 1.4081871921803826, 1.412656080335431, 1.421533949253477, 1.4162857220743577, 1.397196097297658, 1.4048678029484671, 1.4056676626195064, 1.4311592556657473, 1.4311546677312368, 1.4271587675269946, 1.4362509929394176, 1.4436214306163804, 1.4502140600329612, 1.4554742387141644, 1.456123944382565, 1.442500653439486, 1.4434805796182475, 1.4439770043889706, 1.4577037535753115, 1.464435587724491, 1.4595493284284256, 1.471452700973651, 1.4649470665480118, 1.4325853366873493, 1.458497460953722, 1.4420201087830904, 1.4410902903101743, 1.4338290662560873, 1.450099108421416, 1.468181462955737, 1.4729151534734106, 1.468089562617888, 1.4731286612980103, 1.4639967769238742, 1.469789565228033, 1.4611669094219166, 1.439547752314799, 1.4359286473238029, 1.4361322664994403, 1.4247986044092658, 1.4218420756906376, 1.4210240050686442, 1.435048995689925, 1.4215579614352145, 1.409270017837388, 1.40713783361193, 1.4102607002254872, 1.4118304405471416, 1.4356109900199994, 1.4228050383123412, 1.4178801153731253, 1.4159984177445388, 1.4271460908386908, 1.4146456882948557, 1.4200254155707328, 1.4213328718337368, 1.4364455266812546, 1.4360531126223612, 1.4585734894964582, 1.473290068196474, 1.4760634643466164, 1.482199876221327, 1.4820770487501376, 1.4816254071194621, 1.483730232050264, 1.4763622189069818, 1.4840985688169606, 1.4801512093284035, 1.4842537760625933, 1.4799067437431195, 1.4645388628140337, 1.4502439396826516, 1.4453324935118623, 1.4438520388749392, 1.4445193192923804, 1.4357583891030443, 1.442859257853598, 1.4468722004539485, 1.4444420309716646, 1.4679172256641226, 1.4085650230542943, 1.3781147709010992, 1.408535514880628, 1.4364464836827568, 1.4513233729769128, 1.4563176127337725, 1.4452184847093383, 1.4538424134946242, 1.457221474834936, 1.480453986033675, 1.4879695209092876, 1.5054920249601678, 1.503525455709013, 1.5187252930611082, 1.515901149076531, 1.5262546229315908, 1.5084749262002615, 1.5227580145971789, 1.523768956642425, 1.532940570636869, 1.5296443700168454, 1.5281326232744714, 1.5433071676088295, 1.5481229639666194, 1.552069916671405, 1.5535087795796345, 1.5478114250242216, 1.5535563538143982, 1.5540328089460231, 1.5628396495562349, 1.5565104159891037, 1.5618605505849008, 1.5576385693664931, 1.5677438851372463, 1.5722846112809834, 1.578182770643999, 1.5707067740281284, 1.5669385545516716, 1.5695000944576711, 1.570461881381531, 1.568607261046819, 1.5715930737316652, 1.5607164023986226, 1.5560453134000893, 1.5572273712315932, 1.5640407728940882, 1.5649686244509764, 1.560758480836653, 1.5622343366123344, 1.565845061757357, 1.5756209636913214, 1.5828949752702821, 1.578407346703721, 1.5418002205952182, 1.5666687888260458, 1.5472042535746495, 1.5546578294215805, 1.574171495733547, 1.5692286540655738, 1.5653534668772477, 1.5674396467233216, 1.578548613943654, 1.5900176195472147, 1.5761902385836675, 1.5607778924580304, 1.5740288228201198, 1.5875723244131952, 1.5776347747287738, 1.5940696905006728, 1.5928522252875208, 1.590078664419449, 1.595923872734424, 1.5973263008430554, 1.589579213122272, 1.5919224905644982, 1.572075931800937, 1.5711312128449764, 1.566094132240059, 1.5697763221666767, 1.5616720998449036, 1.597510850625465, 1.6038127808454723, 1.6040658184626106, 1.6173875054864548, 1.6239480252648104, 1.622346664851862, 1.6144601162733674, 1.6153252809683256, 1.5958753578566909, 1.591797137815997, 1.581745868983395, 1.5652380135604547, 1.5441586234647375, 1.542736700386688, 1.581609064564804, 1.577242937398517, 1.6159487345995327, 1.6190543160349025, 1.6450509562408324, 1.6428443529231198, 1.6586743258875971, 1.6639060376251698, 1.6729799900061755, 1.670468130628092, 1.6894880479640166, 1.6891385769861507, 1.6827887084844033, 1.6889310614669215, 1.6770897621072884, 1.679026060509397, 1.689456338311344, 1.6803525793549872, 1.6807263201190645, 1.6945206829794648, 1.7001360041729958, 1.7221138281691122, 1.7229174751330658, 1.7376352316293198, 1.7315313326166115, 1.7477152246628413, 1.7412831366007493, 1.751551417009483, 1.747065513972954, 1.7512986177980945, 1.7620149411051482, 1.7592119581589853, 1.763858091792502, 1.7688344632924673, 1.7860937243949628, 1.7577710871036119, 1.7583510437721868, 1.7431298199157654, 1.7588446393360404, 1.773965511898537, 1.7758974454075063, 1.7870890899701941, 1.7884179407986485, 1.794010220928873, 1.7965211633310965, 1.7920516374042108, 1.7982475861888851, 1.785817428697322, 1.7886990106941625, 1.787620565877703, 1.7841636491270674, 1.7648232861958593, 1.776375232179835, 1.7934971706590332, 1.798852303527077, 1.7983630613302672, 1.7838937975600488, 1.7763244481828324, 1.7993109773467861, 1.7977662759115964, 1.8054277543771322, 1.8047302979026851, 1.8049656749599206, 1.8012525798226882, 1.8110589024298644, 1.8131652209660654, 1.8206497794751308, 1.8319732943818685, 1.8412661275307243, 1.8379587753512012, 1.8391464407338993, 1.8525371059986975, 1.8514717220795112, 1.8395231543143216, 1.8396354072988248, 1.8469826459033836, 1.832453616447659, 1.865077097848137, 1.8499389931976997, 1.851614287315851, 1.8444366297721502, 1.8385600739650139, 1.8340423476750634, 1.8362186352113752, 1.841637003455505, 1.8424346355523067, 1.8348479050344135, 1.8486529882115368, 1.8512996689778503, 1.8435924280762201, 1.8426628120520714, 1.8098473715240087, 1.810550321364342, 1.8074081397752693, 1.8135628497784866, 1.8123451940438264, 1.8280381886730481, 1.83428769993851, 1.8482705932127574, 1.8441871539492805, 1.8426846382940416, 1.8391964079135164, 1.833368974862299, 1.8339508875184223, 1.8312329648788352, 1.830443887640657, 1.8248322637895154, 1.8145548551403214, 1.7984693096598308, 1.81859460638688, 1.806399078055744, 1.7990324804972533, 1.8139437242458059, 1.8058324943714723, 1.827099392635166, 1.84306221669553, 1.8456634663039588, 1.846896598681039, 1.8511191895500152, 1.8626844117581363, 1.862541192510802, 1.8569738951754067, 1.8550705276901067, 1.8600920861945305, 1.865003664244369, 1.867917289990974, 1.9021915258888136, 1.907607468057751, 1.9083312823777583, 1.9212430769800188, 1.9237891511058485, 1.8715205958108871, 1.8827873192071882, 1.8962675797947404, 1.9065687341172246, 1.911329951769304, 1.9166668616545082, 1.92497586994934, 1.9304089978340304, 1.9301876473057376, 1.9251480865786545, 1.9380104176654, 1.9547096551131444, 1.9560840416692664, 1.9515729227034482, 1.9554513184273943, 1.966153476795242, 1.9293444945997928, 1.922977042941726, 1.9338905847471233, 1.9287879674368116, 1.919297971054647, 1.9115256977648754, 1.9339749148860648, 1.920079870214318, 1.9299087417103553, 1.9399113406221578, 1.9387404119608262, 1.9371274300217627, 1.9135554852438, 1.9385824480479539, 1.9224827015693686, 1.925609354069177], \"line\": {\"color\": \"#B6B2CF\"}}, {\"type\": \"scatter\", \"name\": \"ETF\", \"x\": [\"2013-07-01\", \"2013-07-02\", \"2013-07-03\", \"2013-07-05\", \"2013-07-08\", \"2013-07-09\", \"2013-07-10\", \"2013-07-11\", \"2013-07-12\", \"2013-07-15\", \"2013-07-16\", \"2013-07-17\", \"2013-07-18\", \"2013-07-19\", \"2013-07-22\", \"2013-07-23\", \"2013-07-24\", \"2013-07-25\", \"2013-07-26\", \"2013-07-29\", \"2013-07-30\", \"2013-07-31\", \"2013-08-01\", \"2013-08-02\", \"2013-08-05\", \"2013-08-06\", \"2013-08-07\", \"2013-08-08\", \"2013-08-09\", \"2013-08-12\", \"2013-08-13\", \"2013-08-14\", \"2013-08-15\", \"2013-08-16\", \"2013-08-19\", \"2013-08-20\", \"2013-08-21\", \"2013-08-22\", \"2013-08-23\", \"2013-08-26\", \"2013-08-27\", \"2013-08-28\", \"2013-08-29\", \"2013-08-30\", \"2013-09-03\", \"2013-09-04\", \"2013-09-05\", \"2013-09-06\", \"2013-09-09\", \"2013-09-10\", \"2013-09-11\", \"2013-09-12\", \"2013-09-13\", \"2013-09-16\", \"2013-09-17\", \"2013-09-18\", \"2013-09-19\", \"2013-09-20\", \"2013-09-23\", \"2013-09-24\", \"2013-09-25\", \"2013-09-26\", \"2013-09-27\", \"2013-09-30\", \"2013-10-01\", \"2013-10-02\", \"2013-10-03\", \"2013-10-04\", \"2013-10-07\", \"2013-10-08\", \"2013-10-09\", \"2013-10-10\", \"2013-10-11\", \"2013-10-14\", \"2013-10-15\", \"2013-10-16\", \"2013-10-17\", \"2013-10-18\", \"2013-10-21\", \"2013-10-22\", \"2013-10-23\", \"2013-10-24\", \"2013-10-25\", \"2013-10-28\", \"2013-10-29\", \"2013-10-30\", \"2013-10-31\", \"2013-11-01\", \"2013-11-04\", \"2013-11-05\", \"2013-11-06\", \"2013-11-07\", \"2013-11-08\", \"2013-11-11\", \"2013-11-12\", \"2013-11-13\", \"2013-11-14\", \"2013-11-15\", \"2013-11-18\", \"2013-11-19\", \"2013-11-20\", \"2013-11-21\", \"2013-11-22\", \"2013-11-25\", \"2013-11-26\", \"2013-11-27\", \"2013-11-29\", \"2013-12-02\", \"2013-12-03\", \"2013-12-04\", \"2013-12-05\", \"2013-12-06\", \"2013-12-09\", \"2013-12-10\", \"2013-12-11\", \"2013-12-12\", \"2013-12-13\", \"2013-12-16\", \"2013-12-17\", \"2013-12-18\", \"2013-12-19\", \"2013-12-20\", \"2013-12-23\", \"2013-12-24\", \"2013-12-26\", \"2013-12-27\", \"2013-12-30\", \"2013-12-31\", \"2014-01-02\", \"2014-01-03\", \"2014-01-06\", \"2014-01-07\", \"2014-01-08\", \"2014-01-09\", \"2014-01-10\", \"2014-01-13\", \"2014-01-14\", \"2014-01-15\", \"2014-01-16\", \"2014-01-17\", \"2014-01-21\", \"2014-01-22\", \"2014-01-23\", \"2014-01-24\", \"2014-01-27\", \"2014-01-28\", \"2014-01-29\", \"2014-01-30\", \"2014-01-31\", \"2014-02-03\", \"2014-02-04\", \"2014-02-05\", \"2014-02-06\", \"2014-02-07\", \"2014-02-10\", \"2014-02-11\", \"2014-02-12\", \"2014-02-13\", \"2014-02-14\", \"2014-02-18\", \"2014-02-19\", \"2014-02-20\", \"2014-02-21\", \"2014-02-24\", \"2014-02-25\", \"2014-02-26\", \"2014-02-27\", \"2014-02-28\", \"2014-03-03\", \"2014-03-04\", \"2014-03-05\", \"2014-03-06\", \"2014-03-07\", \"2014-03-10\", \"2014-03-11\", \"2014-03-12\", \"2014-03-13\", \"2014-03-14\", \"2014-03-17\", \"2014-03-18\", \"2014-03-19\", \"2014-03-20\", \"2014-03-21\", \"2014-03-24\", \"2014-03-25\", \"2014-03-26\", \"2014-03-27\", \"2014-03-28\", \"2014-03-31\", \"2014-04-01\", \"2014-04-02\", \"2014-04-03\", \"2014-04-04\", \"2014-04-07\", \"2014-04-08\", \"2014-04-09\", \"2014-04-10\", \"2014-04-11\", \"2014-04-14\", \"2014-04-15\", \"2014-04-16\", \"2014-04-17\", \"2014-04-21\", \"2014-04-22\", \"2014-04-23\", \"2014-04-24\", \"2014-04-25\", \"2014-04-28\", \"2014-04-29\", \"2014-04-30\", \"2014-05-01\", \"2014-05-02\", \"2014-05-05\", \"2014-05-06\", \"2014-05-07\", \"2014-05-08\", \"2014-05-09\", \"2014-05-12\", \"2014-05-13\", \"2014-05-14\", \"2014-05-15\", \"2014-05-16\", \"2014-05-19\", \"2014-05-20\", \"2014-05-21\", \"2014-05-22\", \"2014-05-23\", \"2014-05-27\", \"2014-05-28\", \"2014-05-29\", \"2014-05-30\", \"2014-06-02\", \"2014-06-03\", \"2014-06-04\", \"2014-06-05\", \"2014-06-06\", \"2014-06-09\", \"2014-06-10\", \"2014-06-11\", \"2014-06-12\", \"2014-06-13\", \"2014-06-16\", \"2014-06-17\", \"2014-06-18\", \"2014-06-19\", \"2014-06-20\", \"2014-06-23\", \"2014-06-24\", \"2014-06-25\", \"2014-06-26\", \"2014-06-27\", \"2014-06-30\", \"2014-07-01\", \"2014-07-02\", \"2014-07-03\", \"2014-07-07\", \"2014-07-08\", \"2014-07-09\", \"2014-07-10\", \"2014-07-11\", \"2014-07-14\", \"2014-07-15\", \"2014-07-16\", \"2014-07-17\", \"2014-07-18\", \"2014-07-21\", \"2014-07-22\", \"2014-07-23\", \"2014-07-24\", \"2014-07-25\", \"2014-07-28\", \"2014-07-29\", \"2014-07-30\", \"2014-07-31\", \"2014-08-01\", \"2014-08-04\", \"2014-08-05\", \"2014-08-06\", \"2014-08-07\", \"2014-08-08\", \"2014-08-11\", \"2014-08-12\", \"2014-08-13\", \"2014-08-14\", \"2014-08-15\", \"2014-08-18\", \"2014-08-19\", \"2014-08-20\", \"2014-08-21\", \"2014-08-22\", \"2014-08-25\", \"2014-08-26\", \"2014-08-27\", \"2014-08-28\", \"2014-08-29\", \"2014-09-02\", \"2014-09-03\", \"2014-09-04\", \"2014-09-05\", \"2014-09-08\", \"2014-09-09\", \"2014-09-10\", \"2014-09-11\", \"2014-09-12\", \"2014-09-15\", \"2014-09-16\", \"2014-09-17\", \"2014-09-18\", \"2014-09-19\", \"2014-09-22\", \"2014-09-23\", \"2014-09-24\", \"2014-09-25\", \"2014-09-26\", \"2014-09-29\", \"2014-09-30\", \"2014-10-01\", \"2014-10-02\", \"2014-10-03\", \"2014-10-06\", \"2014-10-07\", \"2014-10-08\", \"2014-10-09\", \"2014-10-10\", \"2014-10-13\", \"2014-10-14\", \"2014-10-15\", \"2014-10-16\", \"2014-10-17\", \"2014-10-20\", \"2014-10-21\", \"2014-10-22\", \"2014-10-23\", \"2014-10-24\", \"2014-10-27\", \"2014-10-28\", \"2014-10-29\", \"2014-10-30\", \"2014-10-31\", \"2014-11-03\", \"2014-11-04\", \"2014-11-05\", \"2014-11-06\", \"2014-11-07\", \"2014-11-10\", \"2014-11-11\", \"2014-11-12\", \"2014-11-13\", \"2014-11-14\", \"2014-11-17\", \"2014-11-18\", \"2014-11-19\", \"2014-11-20\", \"2014-11-21\", \"2014-11-24\", \"2014-11-25\", \"2014-11-26\", \"2014-11-28\", \"2014-12-01\", \"2014-12-02\", \"2014-12-03\", \"2014-12-04\", \"2014-12-05\", \"2014-12-08\", \"2014-12-09\", \"2014-12-10\", \"2014-12-11\", \"2014-12-12\", \"2014-12-15\", \"2014-12-16\", \"2014-12-17\", \"2014-12-18\", \"2014-12-19\", \"2014-12-22\", \"2014-12-23\", \"2014-12-24\", \"2014-12-26\", \"2014-12-29\", \"2014-12-30\", \"2014-12-31\", \"2015-01-02\", \"2015-01-05\", \"2015-01-06\", \"2015-01-07\", \"2015-01-08\", \"2015-01-09\", \"2015-01-12\", \"2015-01-13\", \"2015-01-14\", \"2015-01-15\", \"2015-01-16\", \"2015-01-20\", \"2015-01-21\", \"2015-01-22\", \"2015-01-23\", \"2015-01-26\", \"2015-01-27\", \"2015-01-28\", \"2015-01-29\", \"2015-01-30\", \"2015-02-02\", \"2015-02-03\", \"2015-02-04\", \"2015-02-05\", \"2015-02-06\", \"2015-02-09\", \"2015-02-10\", \"2015-02-11\", \"2015-02-12\", \"2015-02-13\", \"2015-02-17\", \"2015-02-18\", \"2015-02-19\", \"2015-02-20\", \"2015-02-23\", \"2015-02-24\", \"2015-02-25\", \"2015-02-26\", \"2015-02-27\", \"2015-03-02\", \"2015-03-03\", \"2015-03-04\", \"2015-03-05\", \"2015-03-06\", \"2015-03-09\", \"2015-03-10\", \"2015-03-11\", \"2015-03-12\", \"2015-03-13\", \"2015-03-16\", \"2015-03-17\", \"2015-03-18\", \"2015-03-19\", \"2015-03-20\", \"2015-03-23\", \"2015-03-24\", \"2015-03-25\", \"2015-03-26\", \"2015-03-27\", \"2015-03-30\", \"2015-03-31\", \"2015-04-01\", \"2015-04-02\", \"2015-04-06\", \"2015-04-07\", \"2015-04-08\", \"2015-04-09\", \"2015-04-10\", \"2015-04-13\", \"2015-04-14\", \"2015-04-15\", \"2015-04-16\", \"2015-04-17\", \"2015-04-20\", \"2015-04-21\", \"2015-04-22\", \"2015-04-23\", \"2015-04-24\", \"2015-04-27\", \"2015-04-28\", \"2015-04-29\", \"2015-04-30\", \"2015-05-01\", \"2015-05-04\", \"2015-05-05\", \"2015-05-06\", \"2015-05-07\", \"2015-05-08\", \"2015-05-11\", \"2015-05-12\", \"2015-05-13\", \"2015-05-14\", \"2015-05-15\", \"2015-05-18\", \"2015-05-19\", \"2015-05-20\", \"2015-05-21\", \"2015-05-22\", \"2015-05-26\", \"2015-05-27\", \"2015-05-28\", \"2015-05-29\", \"2015-06-01\", \"2015-06-02\", \"2015-06-03\", \"2015-06-04\", \"2015-06-05\", \"2015-06-08\", \"2015-06-09\", \"2015-06-10\", \"2015-06-11\", \"2015-06-12\", \"2015-06-15\", \"2015-06-16\", \"2015-06-17\", \"2015-06-18\", \"2015-06-19\", \"2015-06-22\", \"2015-06-23\", \"2015-06-24\", \"2015-06-25\", \"2015-06-26\", \"2015-06-29\", \"2015-06-30\", \"2015-07-01\", \"2015-07-02\", \"2015-07-06\", \"2015-07-07\", \"2015-07-08\", \"2015-07-09\", \"2015-07-10\", \"2015-07-13\", \"2015-07-14\", \"2015-07-15\", \"2015-07-16\", \"2015-07-17\", \"2015-07-20\", \"2015-07-21\", \"2015-07-22\", \"2015-07-23\", \"2015-07-24\", \"2015-07-27\", \"2015-07-28\", \"2015-07-29\", \"2015-07-30\", \"2015-07-31\", \"2015-08-03\", \"2015-08-04\", \"2015-08-05\", \"2015-08-06\", \"2015-08-07\", \"2015-08-10\", \"2015-08-11\", \"2015-08-12\", \"2015-08-13\", \"2015-08-14\", \"2015-08-17\", \"2015-08-18\", \"2015-08-19\", \"2015-08-20\", \"2015-08-21\", \"2015-08-24\", \"2015-08-25\", \"2015-08-26\", \"2015-08-27\", \"2015-08-28\", \"2015-08-31\", \"2015-09-01\", \"2015-09-02\", \"2015-09-03\", \"2015-09-04\", \"2015-09-08\", \"2015-09-09\", \"2015-09-10\", \"2015-09-11\", \"2015-09-14\", \"2015-09-15\", \"2015-09-16\", \"2015-09-17\", \"2015-09-18\", \"2015-09-21\", \"2015-09-22\", \"2015-09-23\", \"2015-09-24\", \"2015-09-25\", \"2015-09-28\", \"2015-09-29\", \"2015-09-30\", \"2015-10-01\", \"2015-10-02\", \"2015-10-05\", \"2015-10-06\", \"2015-10-07\", \"2015-10-08\", \"2015-10-09\", \"2015-10-12\", \"2015-10-13\", \"2015-10-14\", \"2015-10-15\", \"2015-10-16\", \"2015-10-19\", \"2015-10-20\", \"2015-10-21\", \"2015-10-22\", \"2015-10-23\", \"2015-10-26\", \"2015-10-27\", \"2015-10-28\", \"2015-10-29\", \"2015-10-30\", \"2015-11-02\", \"2015-11-03\", \"2015-11-04\", \"2015-11-05\", \"2015-11-06\", \"2015-11-09\", \"2015-11-10\", \"2015-11-11\", \"2015-11-12\", \"2015-11-13\", \"2015-11-16\", \"2015-11-17\", \"2015-11-18\", \"2015-11-19\", \"2015-11-20\", \"2015-11-23\", \"2015-11-24\", \"2015-11-25\", \"2015-11-27\", \"2015-11-30\", \"2015-12-01\", \"2015-12-02\", \"2015-12-03\", \"2015-12-04\", \"2015-12-07\", \"2015-12-08\", \"2015-12-09\", \"2015-12-10\", \"2015-12-11\", \"2015-12-14\", \"2015-12-15\", \"2015-12-16\", \"2015-12-17\", \"2015-12-18\", \"2015-12-21\", \"2015-12-22\", \"2015-12-23\", \"2015-12-24\", \"2015-12-28\", \"2015-12-29\", \"2015-12-30\", \"2015-12-31\", \"2016-01-04\", \"2016-01-05\", \"2016-01-06\", \"2016-01-07\", \"2016-01-08\", \"2016-01-11\", \"2016-01-12\", \"2016-01-13\", \"2016-01-14\", \"2016-01-15\", \"2016-01-19\", \"2016-01-20\", \"2016-01-21\", \"2016-01-22\", \"2016-01-25\", \"2016-01-26\", \"2016-01-27\", \"2016-01-28\", \"2016-01-29\", \"2016-02-01\", \"2016-02-02\", \"2016-02-03\", \"2016-02-04\", \"2016-02-05\", \"2016-02-08\", \"2016-02-09\", \"2016-02-10\", \"2016-02-11\", \"2016-02-12\", \"2016-02-16\", \"2016-02-17\", \"2016-02-18\", \"2016-02-19\", \"2016-02-22\", \"2016-02-23\", \"2016-02-24\", \"2016-02-25\", \"2016-02-26\", \"2016-02-29\", \"2016-03-01\", \"2016-03-02\", \"2016-03-03\", \"2016-03-04\", \"2016-03-07\", \"2016-03-08\", \"2016-03-09\", \"2016-03-10\", \"2016-03-11\", \"2016-03-14\", \"2016-03-15\", \"2016-03-16\", \"2016-03-17\", \"2016-03-18\", \"2016-03-21\", \"2016-03-22\", \"2016-03-23\", \"2016-03-24\", \"2016-03-28\", \"2016-03-29\", \"2016-03-30\", \"2016-03-31\", \"2016-04-01\", \"2016-04-04\", \"2016-04-05\", \"2016-04-06\", \"2016-04-07\", \"2016-04-08\", \"2016-04-11\", \"2016-04-12\", \"2016-04-13\", \"2016-04-14\", \"2016-04-15\", \"2016-04-18\", \"2016-04-19\", \"2016-04-20\", \"2016-04-21\", \"2016-04-22\", \"2016-04-25\", \"2016-04-26\", \"2016-04-27\", \"2016-04-28\", \"2016-04-29\", \"2016-05-02\", \"2016-05-03\", \"2016-05-04\", \"2016-05-05\", \"2016-05-06\", \"2016-05-09\", \"2016-05-10\", \"2016-05-11\", \"2016-05-12\", \"2016-05-13\", \"2016-05-16\", \"2016-05-17\", \"2016-05-18\", \"2016-05-19\", \"2016-05-20\", \"2016-05-23\", \"2016-05-24\", \"2016-05-25\", \"2016-05-26\", \"2016-05-27\", \"2016-05-31\", \"2016-06-01\", \"2016-06-02\", \"2016-06-03\", \"2016-06-06\", \"2016-06-07\", \"2016-06-08\", \"2016-06-09\", \"2016-06-10\", \"2016-06-13\", \"2016-06-14\", \"2016-06-15\", \"2016-06-16\", \"2016-06-17\", \"2016-06-20\", \"2016-06-21\", \"2016-06-22\", \"2016-06-23\", \"2016-06-24\", \"2016-06-27\", \"2016-06-28\", \"2016-06-29\", \"2016-06-30\", \"2016-07-01\", \"2016-07-05\", \"2016-07-06\", \"2016-07-07\", \"2016-07-08\", \"2016-07-11\", \"2016-07-12\", \"2016-07-13\", \"2016-07-14\", \"2016-07-15\", \"2016-07-18\", \"2016-07-19\", \"2016-07-20\", \"2016-07-21\", \"2016-07-22\", \"2016-07-25\", \"2016-07-26\", \"2016-07-27\", \"2016-07-28\", \"2016-07-29\", \"2016-08-01\", \"2016-08-02\", \"2016-08-03\", \"2016-08-04\", \"2016-08-05\", \"2016-08-08\", \"2016-08-09\", \"2016-08-10\", \"2016-08-11\", \"2016-08-12\", \"2016-08-15\", \"2016-08-16\", \"2016-08-17\", \"2016-08-18\", \"2016-08-19\", \"2016-08-22\", \"2016-08-23\", \"2016-08-24\", \"2016-08-25\", \"2016-08-26\", \"2016-08-29\", \"2016-08-30\", \"2016-08-31\", \"2016-09-01\", \"2016-09-02\", \"2016-09-06\", \"2016-09-07\", \"2016-09-08\", \"2016-09-09\", \"2016-09-12\", \"2016-09-13\", \"2016-09-14\", \"2016-09-15\", \"2016-09-16\", \"2016-09-19\", \"2016-09-20\", \"2016-09-21\", \"2016-09-22\", \"2016-09-23\", \"2016-09-26\", \"2016-09-27\", \"2016-09-28\", \"2016-09-29\", \"2016-09-30\", \"2016-10-03\", \"2016-10-04\", \"2016-10-05\", \"2016-10-06\", \"2016-10-07\", \"2016-10-10\", \"2016-10-11\", \"2016-10-12\", \"2016-10-13\", \"2016-10-14\", \"2016-10-17\", \"2016-10-18\", \"2016-10-19\", \"2016-10-20\", \"2016-10-21\", \"2016-10-24\", \"2016-10-25\", \"2016-10-26\", \"2016-10-27\", \"2016-10-28\", \"2016-10-31\", \"2016-11-01\", \"2016-11-02\", \"2016-11-03\", \"2016-11-04\", \"2016-11-07\", \"2016-11-08\", \"2016-11-09\", \"2016-11-10\", \"2016-11-11\", \"2016-11-14\", \"2016-11-15\", \"2016-11-16\", \"2016-11-17\", \"2016-11-18\", \"2016-11-21\", \"2016-11-22\", \"2016-11-23\", \"2016-11-25\", \"2016-11-28\", \"2016-11-29\", \"2016-11-30\", \"2016-12-01\", \"2016-12-02\", \"2016-12-05\", \"2016-12-06\", \"2016-12-07\", \"2016-12-08\", \"2016-12-09\", \"2016-12-12\", \"2016-12-13\", \"2016-12-14\", \"2016-12-15\", \"2016-12-16\", \"2016-12-19\", \"2016-12-20\", \"2016-12-21\", \"2016-12-22\", \"2016-12-23\", \"2016-12-27\", \"2016-12-28\", \"2016-12-29\", \"2016-12-30\", \"2017-01-03\", \"2017-01-04\", \"2017-01-05\", \"2017-01-06\", \"2017-01-09\", \"2017-01-10\", \"2017-01-11\", \"2017-01-12\", \"2017-01-13\", \"2017-01-17\", \"2017-01-18\", \"2017-01-19\", \"2017-01-20\", \"2017-01-23\", \"2017-01-24\", \"2017-01-25\", \"2017-01-26\", \"2017-01-27\", \"2017-01-30\", \"2017-01-31\", \"2017-02-01\", \"2017-02-02\", \"2017-02-03\", \"2017-02-06\", \"2017-02-07\", \"2017-02-08\", \"2017-02-09\", \"2017-02-10\", \"2017-02-13\", \"2017-02-14\", \"2017-02-15\", \"2017-02-16\", \"2017-02-17\", \"2017-02-21\", \"2017-02-22\", \"2017-02-23\", \"2017-02-24\", \"2017-02-27\", \"2017-02-28\", \"2017-03-01\", \"2017-03-02\", \"2017-03-03\", \"2017-03-06\", \"2017-03-07\", \"2017-03-08\", \"2017-03-09\", \"2017-03-10\", \"2017-03-13\", \"2017-03-14\", \"2017-03-15\", \"2017-03-16\", \"2017-03-17\", \"2017-03-20\", \"2017-03-21\", \"2017-03-22\", \"2017-03-23\", \"2017-03-24\", \"2017-03-27\", \"2017-03-28\", \"2017-03-29\", \"2017-03-30\", \"2017-03-31\", \"2017-04-03\", \"2017-04-04\", \"2017-04-05\", \"2017-04-06\", \"2017-04-07\", \"2017-04-10\", \"2017-04-11\", \"2017-04-12\", \"2017-04-13\", \"2017-04-17\", \"2017-04-18\", \"2017-04-19\", \"2017-04-20\", \"2017-04-21\", \"2017-04-24\", \"2017-04-25\", \"2017-04-26\", \"2017-04-27\", \"2017-04-28\", \"2017-05-01\", \"2017-05-02\", \"2017-05-03\", \"2017-05-04\", \"2017-05-05\", \"2017-05-08\", \"2017-05-09\", \"2017-05-10\", \"2017-05-11\", \"2017-05-12\", \"2017-05-15\", \"2017-05-16\", \"2017-05-17\", \"2017-05-18\", \"2017-05-19\", \"2017-05-22\", \"2017-05-23\", \"2017-05-24\", \"2017-05-25\", \"2017-05-26\", \"2017-05-30\", \"2017-05-31\", \"2017-06-01\", \"2017-06-02\", \"2017-06-05\", \"2017-06-06\", \"2017-06-07\", \"2017-06-08\", \"2017-06-09\", \"2017-06-12\", \"2017-06-13\", \"2017-06-14\", \"2017-06-15\", \"2017-06-16\", \"2017-06-19\", \"2017-06-20\", \"2017-06-21\", \"2017-06-22\", \"2017-06-23\", \"2017-06-26\", \"2017-06-27\", \"2017-06-28\", \"2017-06-29\", \"2017-06-30\"], \"y\": [null, null, null, null, null, null, null, null, null, null, null, null, null, null, null, null, null, null, null, null, null, null, null, null, null, null, null, null, null, null, null, null, null, null, null, null, null, null, null, null, null, null, null, null, null, null, null, null, null, null, null, null, null, null, null, null, null, null, null, null, null, null, null, null, null, null, null, null, null, null, null, null, null, null, null, null, null, null, null, null, null, null, null, null, null, null, null, null, null, null, null, null, null, null, null, null, null, null, null, null, null, null, null, null, null, null, null, null, null, null, null, null, null, null, null, null, null, null, null, null, null, null, null, null, null, null, null, null, null, null, null, null, null, null, null, null, null, null, null, null, null, null, null, null, null, null, null, null, null, null, null, null, null, null, null, null, null, null, null, null, null, null, null, null, null, null, null, null, null, null, null, null, null, null, null, null, null, null, null, null, null, null, null, null, null, null, null, 1.0016331303951223, 1.0098526360083433, 1.0231660409397614, 1.0246835107440264, 1.0198784505490155, 0.9981435240418316, 0.9865217806403752, 0.9959667067190088, 1.0118710883186095, 0.9844937574332504, 0.9724066009789053, 0.9820595827534789, 0.9876783298241141, 0.9992431751239712, 1.0015938450938588, 1.0089818161045756, 1.0174721436375385, 1.0132623024879261, 1.0172413530132673, 0.9981721575215164, 0.9961957069612285, 1.0061075030899986, 1.009761137397151, 1.0127776763659944, 1.0114637988284905, 1.0153664957737776, 1.001399621763535, 1.0028447220935688, 1.0037615232791042, 1.005407317490115, 1.0216511283747445, 1.0222781848452986, 1.0153263067932647, 1.0045715060417075, 1.0092794952613184, 1.0179891614069891, 1.0120200698788693, 1.0225351127105173, 1.0271151044984708, 1.0342664296639883, 1.04488207670734, 1.0442888179805652, 1.049844519242319, 1.0508562181052095, 1.0508572505913676, 1.048994638237178, 1.0521762100329346, 1.0610048459401287, 1.0663073957966736, 1.0682642036035985, 1.072247245734142, 1.0707969600406133, 1.060924650032059, 1.063918530463868, 1.064080643362749, 1.0672784536858275, 1.0763797020908983, 1.0736406675585903, 1.0731244819195882, 1.0748897616102484, 1.0695080212884707, 1.0788824118453015, 1.0766504835196975, 1.0783221601346793, 1.0800281277459938, 1.092262609621626, 1.0924006915506173, 1.098531276816894, 1.0927385511300718, 1.0807514470196915, 1.0895558445371307, 1.0848440057581856, 1.0907872502756382, 1.1007267520445019, 1.1002855831628549, 1.1046527177380419, 1.0917334683896536, 1.102725151075543, 1.1010913754285552, 1.1067399619116247, 1.1094043577020807, 1.1110284899508533, 1.1003764170704167, 1.097716671010231, 1.0941245952837286, 1.100093478800694, 1.0744193296570665, 1.073375546065523, 1.079743632504004, 1.0696825461656292, 1.0688961311624652, 1.0628808442266144, 1.076398888843704, 1.0808022283353316, 1.0787643867456407, 1.0890735123900033, 1.09352456793929, 1.0952959477996342, 1.1063711513611285, 1.1122017187728488, 1.114895000153141, 1.11690764859485, 1.1163658054035803, 1.121206227661223, 1.1243422593238885, 1.1227753156223046, 1.1192861679290425, 1.1228701037093314, 1.1252149312204796, 1.122519547141724, 1.1245018903738238, 1.1317270615428803, 1.130371649289903, 1.119646416888936, 1.1261213847922065, 1.1264775151385726, 1.1207703861019136, 1.1138748065866384, 1.124489908684638, 1.1264091486520407, 1.1344560618090194, 1.1339314006186432, 1.121959694950479, 1.1188103221895596, 1.1294132521721483, 1.108587132867854, 1.1256748211070706, 1.1231363337410785, 1.1218848488390585, 1.1052433318648938, 1.1066427342925205, 1.119722601475077, 1.1158613660304475, 1.0980924480155403, 1.116981426963754, 1.09379523599614, 1.072830700758037, 1.0545937238168541, 1.0588028968486318, 1.050822616350511, 1.0500163003784757, 1.0625495706984782, 1.0751821382458844, 1.0993340381657661, 1.0914776611445223, 1.1063184046549586, 1.1089822481183294, 1.1096929644229896, 1.1238388933248458, 1.1193305089985526, 1.1239452471083147, 1.1406807680965134, 1.1418822546897973, 1.1395815198882522, 1.142087472791009, 1.1463447027026865, 1.1454045332783278, 1.1501194793277942, 1.152041462488783, 1.1517180226482768, 1.1544591660461507, 1.1574510121270378, 1.1545641656731427, 1.1622409270525422, 1.1604758189200048, 1.163399858332354, 1.1692795354870313, 1.1746112400360713, 1.1738971902116735, 1.1802643191498434, 1.1811275671040273, 1.1677378005049013, 1.1754682500801499, 1.1794587389618154, 1.1804016801543922, 1.1826276675553258, 1.1727820684524954, 1.1734720530353642, 1.1546739156095542, 1.1609898695847864, 1.143272172617378, 1.1337838731778833, 1.1172890072771073, 1.1410869382093696, 1.16611902834374, 1.1718026445208354, 1.1793029289338504, 1.180876014400551, 1.180420293599557, 1.1861546220323815, 1.187746132801273, 1.1823328054777942, 1.1709397296708917, 1.1700202929709056, 1.1465964680177705, 1.1315102223477287, 1.1422888003865257, 1.1653079610503414, 1.155596457012893, 1.1433984533512744, 1.1410598004529149, 1.132959835523835, 1.118143151837398, 1.132683229133559, 1.1373087580010013, 1.1480198243157207, 1.170557551356622, 1.1680514217077345, 1.1695029309230867, 1.14626570626974, 1.1313455692662362, 1.1459530191608338, 1.140845756711791, 1.152636361538802, 1.1686079771322395, 1.1655452535980768, 1.1782926350551413, 1.175385375618736, 1.169505135869724, 1.1874590422775637, 1.1884611991540004, 1.2044383362061057, 1.2108029341334092, 1.2117122392454722, 1.2102134898779082, 1.212549449986721, 1.2203623115022748, 1.2169659817953602, 1.2206071001913301, 1.222570781972251, 1.2252285509099912, 1.219153352870985, 1.2317754934721077, 1.2249092695019315, 1.2216566511539275, 1.224594870426117, 1.2079183849019701, 1.2115552668934806, 1.1897903973526682, 1.1877186292347137, 1.2016116579604799, 1.1955414824343409, 1.2091790844379677, 1.2067375761556958, 1.2188647888941921, 1.2165617675984064, 1.229247429113491, 1.2235222373961536, 1.219079588866305, 1.194207448450113, 1.1910261116905816, 1.1935279433399288, 1.2066538306437427, 1.1957172451078453, 1.1907010525725403, 1.1921665144246738, 1.2016545939700887, 1.1997981859761238, 1.2061595506433886, 1.2141712191772172, 1.2206894378718844, 1.2167587294247282, 1.2175118583603106, 1.2246588616291088, 1.2267531624404635, 1.2101050927236152, 1.2241721257980411, 1.2237927402418816, 1.2326081272875267, 1.2345361234947407, 1.2465021201195325, 1.2420620155148554, 1.2415133602584076, 1.239198809633576, 1.2244371411064952, 1.2394917122475377, 1.2408311919517863, 1.225523394595109, 1.2206754250797454, 1.2277691321687207, 1.2392641997659621, 1.2345111520731868, 1.2293382436021132, 1.2306926103475682, 1.244745412547325, 1.244463650165636, 1.248697358827364, 1.24707963815547, 1.245264375866084, 1.2503200615098766, 1.2481935679772955, 1.2353691289390258, 1.2517798233671222, 1.2503072766174197, 1.243058824479393, 1.24795012137304, 1.2459655220368953, 1.249157543480861, 1.2406769314053654, 1.240535047890945, 1.228713660594473, 1.2299422647382, 1.2445134157158453, 1.2458148340727597, 1.2370105851327124, 1.229562362635979, 1.236586264569229, 1.2391978991070332, 1.2523689249232348, 1.2464524045146368, 1.254876145088161, 1.2586214361840986, 1.2486849419979023, 1.2449965184011906, 1.2363245150065905, 1.2088560169292286, 1.2132975491949116, 1.2212169339451078, 1.2226776141326243, 1.216827141975669, 1.220693739252667, 1.1995187600267228, 1.2015785130911103, 1.2202929535833138, 1.2378979727991637, 1.2495500402313018, 1.2474834429754078, 1.2647390462226953, 1.2806857397799292, 1.2800536266567364, 1.2775650331570756, 1.2710503869056173, 1.2650143397271867, 1.256569107931545, 1.247680370686702, 1.2659906759994146, 1.2754347414214802, 1.276561089913386, 1.2679172941769095, 1.267297656450641, 1.265992485892169, 1.2719297408582992, 1.2619666350211112, 1.261491775480049, 1.2783289924616532, 1.2669214592021625, 1.2691131183029403, 1.2663133355336618, 1.2683974774696831, 1.275289243271996, 1.269072134564702, 1.259029690461475, 1.2247807045345622, 1.1797320420513335, 1.1325663089332343, 1.1214366679309844, 1.1748651717431164, 1.20978971911624, 1.2122639281151235, 1.2041090999846, 1.1659380691153565, 1.1921708584691948, 1.1903141303513731, 1.174009665420687, 1.2047808346756648, 1.1892847990862434, 1.1991649737254308, 1.2032389460055375, 1.1983202942068936, 1.2139184106072967, 1.2240132012083567, 1.2224748895737936, 1.2032482816865606, 1.2100312322579971, 1.1940552299207545, 1.190591547266788, 1.1889604511785075, 1.1891877842155685, 1.1558181379628896, 1.154646244740195, 1.1810105981804455, 1.1854291535462473, 1.2063587693934636, 1.2311187141232218, 1.2294523881234145, 1.2392082073928548, 1.2477039935797394, 1.2492245434625195, 1.2525612791857799, 1.2468931263712257, 1.2456422116349404, 1.2650424569086758, 1.2704346483729354, 1.2738842756863198, 1.264122939970107, 1.2551194731947022, 1.2769807066018752, 1.3021516573858667, 1.3009792160324811, 1.2986167987645807, 1.3158154402406912, 1.313099056964019, 1.3084316560058982, 1.323288461812571, 1.3304898223822228, 1.326886827778013, 1.3257946817360355, 1.3374601659364789, 1.3231533884407904, 1.3225861150612794, 1.3184917523222446, 1.3017054070862943, 1.280546910634238, 1.2995966221537383, 1.3001629959943048, 1.3249646052743083, 1.3239133789743174, 1.3306214145941226, 1.3278491163481416, 1.3298118991956638, 1.3292542510075522, 1.330707413611852, 1.3249782982640705, 1.3446137094032433, 1.3313797278490438, 1.3133908347750538, 1.34057546902815, 1.3282070660171272, 1.3212924333321725, 1.3070802518558189, 1.3121892953974255, 1.2820240462055401, 1.289722303028046, 1.3042834903569083, 1.3234646829807024, 1.3048136774325, 1.280912090642816, 1.292449646885965, 1.301292572712121, 1.3131541490572154, 1.311124605799204, 1.3090111367242354, 1.3249863800304729, 1.3137615712198742, 1.2999484037468623, 1.277164392079318, 1.2790455774686937, 1.2624718644044994, 1.2263252567243041, 1.2124747663340003, 1.2135001316254783, 1.2236263125247107, 1.1868387065143815, 1.205925933076704, 1.1711874856191946, 1.1709791632750466, 1.157952874696118, 1.1677877243636146, 1.1933261005290108, 1.17279691019043, 1.186931016977862, 1.1684204185947438, 1.1839788917963365, 1.2148633383969982, 1.2154394740713257, 1.1873535229017937, 1.1897767640829255, 1.192028209372032, 1.1589779445606092, 1.1370776355303325, 1.133711187518683, 1.1341882302371822, 1.121892533648262, 1.1463780596451745, 1.1710696376818923, 1.1962146798334583, 1.1904634472954112, 1.1921853676932659, 1.2136266756954772, 1.194194628927207, 1.2008788646231001, 1.215004355151802, 1.2144362184927022, 1.2034030938614286, 1.240006357101524, 1.2457888781124282, 1.2477372008903087, 1.2513726830848237, 1.2449895469717382, 1.2278595344801246, 1.2334480688804519, 1.234468150266405, 1.2575079084007121, 1.2568315129224927, 1.2548856899554153, 1.2629569951878994, 1.2682812369249599, 1.2761680709608219, 1.2819196620048605, 1.2813796546551846, 1.26973315869662, 1.2692200646851437, 1.268318975365802, 1.280238049442737, 1.2870638705036714, 1.2824850269118797, 1.2942475210139313, 1.286640035224779, 1.2741317338304186, 1.2896460672974541, 1.273678046105347, 1.2760420287367316, 1.2715117489576087, 1.2842120941642898, 1.3054882846037703, 1.307162957299379, 1.3055375837993688, 1.3141638448038457, 1.3147966315658608, 1.3192572336458936, 1.3154781990854256, 1.3076131352543452, 1.3049784766745114, 1.3081289983623168, 1.3062773444055014, 1.2954075642255072, 1.2897706473078694, 1.3017030498978628, 1.2875243062900905, 1.275841607154152, 1.2738967499345033, 1.2788497570911073, 1.278877980531895, 1.298699830444971, 1.287628427598035, 1.2839838322538508, 1.282454725516581, 1.2949909427757518, 1.285303876408086, 1.2936656189027513, 1.2901736062369071, 1.303322836736209, 1.302756181374374, 1.323206293021407, 1.3339686236483088, 1.335739746358532, 1.3423902913705579, 1.3441057901422315, 1.3449886664264532, 1.3473140666727987, 1.3384793110262845, 1.3440185801954896, 1.344194432796639, 1.3467964985405227, 1.3455914508822842, 1.3301044926224193, 1.320029752094321, 1.3160486733606764, 1.3148670603014747, 1.3161450867148787, 1.3097771614215843, 1.3172199470881782, 1.3221775060184804, 1.3197891156324653, 1.3424712515471142, 1.2877522107194663, 1.2596025635992314, 1.2877397980543481, 1.3128444020850023, 1.3261072179354534, 1.326503222897568, 1.3149862103167302, 1.3230073659291126, 1.328475474462195, 1.3511096973849794, 1.3583987725012323, 1.372905287849001, 1.3703164221127055, 1.3818029813507293, 1.378525035583548, 1.3871254354929263, 1.3846644319715748, 1.394108569667199, 1.3869237611354412, 1.393260113453818, 1.3935189286975393, 1.397738761017204, 1.4007538743451837, 1.4021018528037765, 1.4049516862089038, 1.4045355047232226, 1.3949424846257104, 1.4008833392554438, 1.405953902657907, 1.4243283516196346, 1.4245520746838756, 1.4261345700528247, 1.4195718806380901, 1.4295564381178432, 1.4332816825944565, 1.4398877519561235, 1.4353574990067817, 1.4356733942491646, 1.4379243957065646, 1.4390381763815026, 1.4382758052370868, 1.4429138557644225, 1.4340675216193997, 1.4331295735412097, 1.435601224445081, 1.4419477153011655, 1.4397730803680597, 1.4355558992053001, 1.438992026559984, 1.4423469652510434, 1.4499876231758944, 1.4513594529385405, 1.449542633176653, 1.4149919668178654, 1.4363248884760018, 1.4170410564199831, 1.4186875547825402, 1.4349947661489773, 1.4309305805666608, 1.427048048357456, 1.4283184184018687, 1.4435792342906915, 1.452118959718139, 1.4438810197742404, 1.428365261081272, 1.4441062006060192, 1.449278004024763, 1.437764893943755, 1.4519547817103864, 1.4500984566470432, 1.4473167820414146, 1.4556230438353313, 1.455230411440904, 1.451598025405792, 1.4589572564172428, 1.441763301505271, 1.4414445327727985, 1.4351097998197453, 1.4368956476976953, 1.4307149102643366, 1.4443217557086838, 1.4495344208329426, 1.4500554532592287, 1.4511772572207853, 1.463069105625326, 1.4606872757679654, 1.4585768515038549, 1.4549388633481901, 1.445520447347828, 1.4413178512047764, 1.431860993954167, 1.4206156992502013, 1.4107251801905838, 1.4081395934507457, 1.4442021712132025, 1.4491965812973688, 1.4666462125400679, 1.4616572611166379, 1.4798120590147046, 1.4730412572079516, 1.4897035203189353, 1.494329014864785, 1.5056857459402, 1.5034543220793508, 1.518102044806564, 1.5224818214756586, 1.5228133620824114, 1.5277179746353442, 1.5178494140227166, 1.5172251470825016, 1.5147610149051314, 1.5037345459595375, 1.5051617849418557, 1.5186084398579651, 1.5248022082384316, 1.5479238779486524, 1.5498672040412358, 1.5596572026788071, 1.5532259663908827, 1.5676520284227078, 1.5631710536080508, 1.5706427270301437, 1.5663759103455137, 1.5701436112856164, 1.5800268552768517, 1.5783602443485363, 1.582135746084767, 1.5847181729256352, 1.592861303226048, 1.576383727236857, 1.57290693397382, 1.5599934775040563, 1.575195393950122, 1.5852460377360515, 1.585888265074209, 1.596221056759044, 1.5974923546638387, 1.598973966341622, 1.603211875567697, 1.597761011748634, 1.601910648910762, 1.5934982271239628, 1.597976734589584, 1.593898137394378, 1.5980164314050898, 1.596307871896977, 1.6086959523047133, 1.6245043736835283, 1.6262954261088984, 1.6272544116866083, 1.6151928423488433, 1.6098672854720402, 1.620584922404845, 1.6203867738915183, 1.6280964788759624, 1.6281287018854547, 1.630115664510611, 1.631404250176602, 1.6409404284797475, 1.6443554562855773, 1.6502647560640753, 1.657008665946723, 1.665412539272374, 1.662538158097508, 1.6659460851119743, 1.6788607273782912, 1.67879131218128, 1.6702912277104436, 1.6703199294800666, 1.677660910420021, 1.6695519981519031, 1.696559496743189, 1.684393118428038, 1.6864602426317505, 1.6819768440257794, 1.678830867473342, 1.6762828113652677, 1.6781596865050874, 1.682151950183499, 1.68570163770785, 1.6819747170264139, 1.6938234765719584, 1.693571826170625, 1.690861278706694, 1.692573180890745, 1.6656894266835998, 1.6667955779282317, 1.6660077107184013, 1.6709782995219604, 1.6716155592387505, 1.6840452988250791, 1.687819989445143, 1.6953836269266604, 1.6913985305678332, 1.690371179181791, 1.6877854476402645, 1.6812517604115103, 1.6835505423793298, 1.680820214107286, 1.6783921817448748, 1.6740314829494702, 1.6675161500804543, 1.6556359751374932, 1.6746470289789646, 1.6689511452808081, 1.6665494052653376, 1.681487593177402, 1.674808018741755, 1.6915984712299312, 1.7052467270614708, 1.7041982111046265, 1.7078802498013215, 1.7090291896969578, 1.718197844978683, 1.7175059025219013, 1.71766666918288, 1.716726247314054, 1.7204538600264576, 1.7226030494761198, 1.7254667089055507, 1.7391957649755299, 1.7394826369871053, 1.740464814667534, 1.7496217127013372, 1.7512758738624683, 1.705855876602275, 1.7175734590362548, 1.728796835291132, 1.737738260831314, 1.7431534408936884, 1.7492826802685644, 1.757384616688139, 1.7617286928246507, 1.7621175489963503, 1.7585931602911555, 1.7678446751072514, 1.7784687679022178, 1.780498239850637, 1.7760346125855913, 1.7828507540423175, 1.78979889314326, 1.7738503769321576, 1.772260676471182, 1.7816778345392954, 1.7778341508416502, 1.7678707082646048, 1.7630924063620976, 1.7861695795845423, 1.7736508315643067, 1.7813656237218354, 1.7802447365946628, 1.781651081538677, 1.7814146409802007, 1.761755348602383, 1.7833992193304133, 1.766481448304417, 1.769354386316791], \"line\": {\"color\": \"#2D3ECF\"}}], {\"title\": \"Optimized ETF vs Index\", \"xaxis\": {\"title\": \"Date\"}, \"yaxis\": {\"title\": \"Cumulative Returns\", \"range\": [0, 3]}}, {\"showLink\": false, \"linkText\": \"Export to plot.ly\", \"displayModeBar\": false})});</script>"
      ]
     },
     "metadata": {},
     "output_type": "execute_result"
    },
    {
     "name": "stdout",
     "output_type": "stream",
     "text": [
      "Optimized ETF Tracking Error: 0.05795012630412267\n"
     ]
    }
   ],
   "source": [
    "optim_etf_returns = generate_weighted_returns(returns, optimal_single_rebalance_etf_weights)\n",
    "optim_etf_cumulative_returns = calculate_cumulative_returns(optim_etf_returns)\n",
    "project_helper.plot_benchmark_returns(index_weighted_cumulative_returns, optim_etf_cumulative_returns, 'Optimized ETF vs Index')\n",
    "\n",
    "optim_etf_tracking_error = tracking_error(np.sum(index_weighted_returns, 1), np.sum(optim_etf_returns, 1))\n",
    "print('Optimized ETF Tracking Error: {}'.format(optim_etf_tracking_error))"
   ]
  },
  {
   "cell_type": "markdown",
   "metadata": {},
   "source": [
    "## Rebalance Portfolio Over Time\n",
    "The single optimized ETF portfolio used the same weights for the entire history. This might not be the optimal weights for the entire period. Let's rebalance the portfolio over the same period instead of using the same weights. Implement `rebalance_portfolio` to rebalance a portfolio.\n",
    "\n",
    "Reblance the portfolio every n number of days, which is given as `shift_size`. When rebalancing, you should look back a certain number of days of data in the past, denoted as `chunk_size`. Using this data, compute the optoimal weights using `get_optimal_weights` and `get_covariance_returns`."
   ]
  },
  {
   "cell_type": "code",
   "execution_count": 38,
   "metadata": {},
   "outputs": [
    {
     "name": "stdout",
     "output_type": "stream",
     "text": [
      "Tests Passed\n"
     ]
    }
   ],
   "source": [
    "def rebalance_portfolio(returns, index_weights, shift_size, chunk_size):\n",
    "    \"\"\"\n",
    "    Get weights for each rebalancing of the portfolio.\n",
    "\n",
    "    Parameters\n",
    "    ----------\n",
    "    returns : DataFrame\n",
    "        Returns for each ticker and date\n",
    "    index_weights : DataFrame\n",
    "        Index weight for each ticker and date\n",
    "    shift_size : int\n",
    "        The number of days between each rebalance\n",
    "    chunk_size : int\n",
    "        The number of days to look in the past for rebalancing\n",
    "\n",
    "    Returns\n",
    "    -------\n",
    "    all_rebalance_weights  : list of Ndarrays\n",
    "        The ETF weights for each point they are rebalanced\n",
    "    \"\"\"\n",
    "    assert returns.index.equals(index_weights.index)\n",
    "    assert returns.columns.equals(index_weights.columns)\n",
    "    assert shift_size > 0\n",
    "    assert chunk_size >= 0\n",
    "    \n",
    "    #TODO: Implement function\n",
    "    \n",
    "    #TODO: Implement function\n",
    "    rebalance_weights = []\n",
    "\n",
    "    for i in range(chunk_size, len(returns), shift_size):\n",
    "        chunk = returns.iloc[i - chunk_size : i]\n",
    "        covariance_returns = get_covariance_returns(chunk)\n",
    "        optimal_weights = get_optimal_weights(covariance_returns, index_weights.iloc[i - 1])\n",
    "        rebalance_weights.append(optimal_weights)\n",
    "        \n",
    "    return rebalance_weights\n",
    "\n",
    "project_tests.test_rebalance_portfolio(rebalance_portfolio)"
   ]
  },
  {
   "cell_type": "markdown",
   "metadata": {},
   "source": [
    "Run the following cell to rebalance the portfolio using `rebalance_portfolio`."
   ]
  },
  {
   "cell_type": "code",
   "execution_count": 39,
   "metadata": {},
   "outputs": [],
   "source": [
    "chunk_size = 250\n",
    "shift_size = 5\n",
    "all_rebalance_weights = rebalance_portfolio(returns, index_weights, shift_size, chunk_size)"
   ]
  },
  {
   "cell_type": "markdown",
   "metadata": {},
   "source": [
    "## Portfolio Turnover\n",
    "With the portfolio rebalanced, we need to use a metric to measure the cost of rebalancing the portfolio. Implement `get_portfolio_turnover` to calculate the annual portfolio turnover. We'll be using the formulas used in the classroom:\n",
    "\n",
    "$ AnnualizedTurnover =\\frac{SumTotalTurnover}{NumberOfRebalanceEvents} * NumberofRebalanceEventsPerYear $\n",
    "\n",
    "$ SumTotalTurnover =\\sum_{t,n}{\\left | x_{t,n} - x_{t+1,n} \\right |} $ Where $ x_{t,n} $ are the weights at time $ t $ for equity $ n $.\n",
    "\n",
    "$ SumTotalTurnover $ is just a different way of writing $ \\sum \\left | x_{t_1,n} - x_{t_2,n} \\right | $"
   ]
  },
  {
   "cell_type": "code",
   "execution_count": 40,
   "metadata": {},
   "outputs": [
    {
     "name": "stdout",
     "output_type": "stream",
     "text": [
      "Tests Passed\n"
     ]
    }
   ],
   "source": [
    "def get_portfolio_turnover(all_rebalance_weights, shift_size, rebalance_count, n_trading_days_in_year=252):\n",
    "    \"\"\"\n",
    "    Calculage portfolio turnover.\n",
    "\n",
    "    Parameters\n",
    "    ----------\n",
    "    all_rebalance_weights : list of Ndarrays\n",
    "        The ETF weights for each point they are rebalanced\n",
    "    shift_size : int\n",
    "        The number of days between each rebalance\n",
    "    rebalance_count : int\n",
    "        Number of times the portfolio was rebalanced\n",
    "    n_trading_days_in_year: int\n",
    "        Number of trading days in a year\n",
    "\n",
    "    Returns\n",
    "    -------\n",
    "    portfolio_turnover  : float\n",
    "        The portfolio turnover\n",
    "    \"\"\"\n",
    "    assert shift_size > 0\n",
    "    assert rebalance_count > 0\n",
    "    \n",
    "    # sum of the changes in the weights\n",
    "    sum_total_turnover = 0\n",
    "    \n",
    "    for i in range(1, len(all_rebalance_weights)):\n",
    "        turnover = np.abs(all_rebalance_weights[i] - all_rebalance_weights[i-1])\n",
    "        sum_total_turnover += sum(turnover)\n",
    "        \n",
    "    # number of rebalance events per year\n",
    "    rebalance_events_per_year = n_trading_days_in_year / shift_size\n",
    "    \n",
    "    # annualized turnover\n",
    "    annualized_turnover = sum_total_turnover * rebalance_events_per_year / rebalance_count\n",
    "    \n",
    "    return annualized_turnover\n",
    "\n",
    "project_tests.test_get_portfolio_turnover(get_portfolio_turnover)"
   ]
  },
  {
   "cell_type": "markdown",
   "metadata": {},
   "source": [
    "Run the following cell to get the portfolio turnover from  `get_portfolio turnover`."
   ]
  },
  {
   "cell_type": "code",
   "execution_count": 41,
   "metadata": {},
   "outputs": [
    {
     "name": "stdout",
     "output_type": "stream",
     "text": [
      "16.72683266050277\n"
     ]
    }
   ],
   "source": [
    "print(get_portfolio_turnover(all_rebalance_weights, shift_size, len(all_rebalance_weights) - 1))"
   ]
  },
  {
   "cell_type": "markdown",
   "metadata": {},
   "source": [
    "That's it! You've built a smart beta portfolio in part 1 and did portfolio optimization in part 2. You can now submit your project."
   ]
  },
  {
   "cell_type": "markdown",
   "metadata": {},
   "source": [
    "## Submission\n",
    "Now that you're done with the project, it's time to submit it. Click the submit button in the bottom right. One of our reviewers will give you feedback on your project with a pass or not passed grade. You can continue to the next section while you wait for feedback."
   ]
  }
 ],
 "metadata": {
  "kernelspec": {
   "display_name": "Python 3",
   "language": "python",
   "name": "python3"
  },
  "language_info": {
   "codemirror_mode": {
    "name": "ipython",
    "version": 3
   },
   "file_extension": ".py",
   "mimetype": "text/x-python",
   "name": "python",
   "nbconvert_exporter": "python",
   "pygments_lexer": "ipython3",
   "version": "3.6.3"
  }
 },
 "nbformat": 4,
 "nbformat_minor": 2
}
